{
  "cells": [
    {
      "cell_type": "code",
      "execution_count": 1,
      "metadata": {
        "id": "vlpkKH5WmAJ3"
      },
      "outputs": [],
      "source": [
        "import pandas as pd\n",
        "import numpy as np\n",
        "import matplotlib.pyplot as plt"
      ]
    },
    {
      "cell_type": "code",
      "execution_count": 2,
      "metadata": {
        "id": "YzsLigItmNtI"
      },
      "outputs": [],
      "source": [
        "data=pd.read_csv('/content/NCI60_X.csv',index_col=0)"
      ]
    },
    {
      "cell_type": "code",
      "execution_count": 3,
      "metadata": {
        "colab": {
          "base_uri": "https://localhost:8080/"
        },
        "id": "YnU0M1vDpn12",
        "outputId": "9eb56ea2-d153-4523-bbf6-fd66f74c4d84"
      },
      "outputs": [
        {
          "output_type": "execute_result",
          "data": {
            "text/plain": [
              "Index(['1', '2', '3', '4', '5', '6', '7', '8', '9', '10',\n",
              "       ...\n",
              "       '6821', '6822', '6823', '6824', '6825', '6826', '6827', '6828', '6829',\n",
              "       '6830'],\n",
              "      dtype='object', length=6830)"
            ]
          },
          "metadata": {},
          "execution_count": 3
        }
      ],
      "source": [
        "data.columns"
      ]
    },
    {
      "cell_type": "code",
      "execution_count": 4,
      "metadata": {
        "colab": {
          "base_uri": "https://localhost:8080/",
          "height": 235
        },
        "id": "eNg8dZl9pveH",
        "outputId": "338998db-c824-41e5-ad2d-8a3cf6743e81"
      },
      "outputs": [
        {
          "output_type": "execute_result",
          "data": {
            "text/plain": [
              "        1     2     3     4      5             6     7      8     9        10  \\\n",
              "V60 -0.03 -0.48  0.07 -0.70 -0.195  4.100000e-01 -0.24  0.105 -0.41  0.875019   \n",
              "V61 -0.27  0.63 -0.10  1.10  1.045  8.000000e-02 -0.09 -0.675 -0.31  0.275019   \n",
              "V62  0.21 -0.62 -0.15 -1.33  0.045 -4.000000e-01 -0.39 -0.675 -0.36  0.945020   \n",
              "V63 -0.05  0.14 -0.09 -1.26  0.045 -2.710505e-20  0.42 -0.305  0.31  0.065019   \n",
              "V64  0.35 -0.27  0.02 -1.23 -0.715 -3.400000e-01 -0.52  0.475  0.23  0.915019   \n",
              "\n",
              "     ...      6821  6822  6823   6824      6825  6826     6827  6828  6829  \\\n",
              "V60  ... -0.400019  0.15 -0.43  0.145 -0.090020 -0.02 -1.39001 -1.15  0.29   \n",
              "V61  ... -0.560020  0.20  0.29 -0.035  0.279981 -0.16 -0.02001 -0.64 -0.37   \n",
              "V62  ... -0.160020 -0.12  0.85 -0.125  0.779980  0.39  0.00000  0.16  2.03   \n",
              "V63  ...  0.889980 -0.42 -0.46 -0.855 -0.160020 -0.35 -0.36001 -0.49  0.01   \n",
              "V64  ...  1.629980  3.00  2.86  2.145  0.869981  0.48  0.96999  0.29 -0.15   \n",
              "\n",
              "     6830  \n",
              "V60  1.19  \n",
              "V61 -0.43  \n",
              "V62  3.94  \n",
              "V63 -1.72  \n",
              "V64  1.21  \n",
              "\n",
              "[5 rows x 6830 columns]"
            ],
            "text/html": [
              "\n",
              "  <div id=\"df-8a8221bc-9a23-467c-bbd5-a2fcec3f3ab6\">\n",
              "    <div class=\"colab-df-container\">\n",
              "      <div>\n",
              "<style scoped>\n",
              "    .dataframe tbody tr th:only-of-type {\n",
              "        vertical-align: middle;\n",
              "    }\n",
              "\n",
              "    .dataframe tbody tr th {\n",
              "        vertical-align: top;\n",
              "    }\n",
              "\n",
              "    .dataframe thead th {\n",
              "        text-align: right;\n",
              "    }\n",
              "</style>\n",
              "<table border=\"1\" class=\"dataframe\">\n",
              "  <thead>\n",
              "    <tr style=\"text-align: right;\">\n",
              "      <th></th>\n",
              "      <th>1</th>\n",
              "      <th>2</th>\n",
              "      <th>3</th>\n",
              "      <th>4</th>\n",
              "      <th>5</th>\n",
              "      <th>6</th>\n",
              "      <th>7</th>\n",
              "      <th>8</th>\n",
              "      <th>9</th>\n",
              "      <th>10</th>\n",
              "      <th>...</th>\n",
              "      <th>6821</th>\n",
              "      <th>6822</th>\n",
              "      <th>6823</th>\n",
              "      <th>6824</th>\n",
              "      <th>6825</th>\n",
              "      <th>6826</th>\n",
              "      <th>6827</th>\n",
              "      <th>6828</th>\n",
              "      <th>6829</th>\n",
              "      <th>6830</th>\n",
              "    </tr>\n",
              "  </thead>\n",
              "  <tbody>\n",
              "    <tr>\n",
              "      <th>V60</th>\n",
              "      <td>-0.03</td>\n",
              "      <td>-0.48</td>\n",
              "      <td>0.07</td>\n",
              "      <td>-0.70</td>\n",
              "      <td>-0.195</td>\n",
              "      <td>4.100000e-01</td>\n",
              "      <td>-0.24</td>\n",
              "      <td>0.105</td>\n",
              "      <td>-0.41</td>\n",
              "      <td>0.875019</td>\n",
              "      <td>...</td>\n",
              "      <td>-0.400019</td>\n",
              "      <td>0.15</td>\n",
              "      <td>-0.43</td>\n",
              "      <td>0.145</td>\n",
              "      <td>-0.090020</td>\n",
              "      <td>-0.02</td>\n",
              "      <td>-1.39001</td>\n",
              "      <td>-1.15</td>\n",
              "      <td>0.29</td>\n",
              "      <td>1.19</td>\n",
              "    </tr>\n",
              "    <tr>\n",
              "      <th>V61</th>\n",
              "      <td>-0.27</td>\n",
              "      <td>0.63</td>\n",
              "      <td>-0.10</td>\n",
              "      <td>1.10</td>\n",
              "      <td>1.045</td>\n",
              "      <td>8.000000e-02</td>\n",
              "      <td>-0.09</td>\n",
              "      <td>-0.675</td>\n",
              "      <td>-0.31</td>\n",
              "      <td>0.275019</td>\n",
              "      <td>...</td>\n",
              "      <td>-0.560020</td>\n",
              "      <td>0.20</td>\n",
              "      <td>0.29</td>\n",
              "      <td>-0.035</td>\n",
              "      <td>0.279981</td>\n",
              "      <td>-0.16</td>\n",
              "      <td>-0.02001</td>\n",
              "      <td>-0.64</td>\n",
              "      <td>-0.37</td>\n",
              "      <td>-0.43</td>\n",
              "    </tr>\n",
              "    <tr>\n",
              "      <th>V62</th>\n",
              "      <td>0.21</td>\n",
              "      <td>-0.62</td>\n",
              "      <td>-0.15</td>\n",
              "      <td>-1.33</td>\n",
              "      <td>0.045</td>\n",
              "      <td>-4.000000e-01</td>\n",
              "      <td>-0.39</td>\n",
              "      <td>-0.675</td>\n",
              "      <td>-0.36</td>\n",
              "      <td>0.945020</td>\n",
              "      <td>...</td>\n",
              "      <td>-0.160020</td>\n",
              "      <td>-0.12</td>\n",
              "      <td>0.85</td>\n",
              "      <td>-0.125</td>\n",
              "      <td>0.779980</td>\n",
              "      <td>0.39</td>\n",
              "      <td>0.00000</td>\n",
              "      <td>0.16</td>\n",
              "      <td>2.03</td>\n",
              "      <td>3.94</td>\n",
              "    </tr>\n",
              "    <tr>\n",
              "      <th>V63</th>\n",
              "      <td>-0.05</td>\n",
              "      <td>0.14</td>\n",
              "      <td>-0.09</td>\n",
              "      <td>-1.26</td>\n",
              "      <td>0.045</td>\n",
              "      <td>-2.710505e-20</td>\n",
              "      <td>0.42</td>\n",
              "      <td>-0.305</td>\n",
              "      <td>0.31</td>\n",
              "      <td>0.065019</td>\n",
              "      <td>...</td>\n",
              "      <td>0.889980</td>\n",
              "      <td>-0.42</td>\n",
              "      <td>-0.46</td>\n",
              "      <td>-0.855</td>\n",
              "      <td>-0.160020</td>\n",
              "      <td>-0.35</td>\n",
              "      <td>-0.36001</td>\n",
              "      <td>-0.49</td>\n",
              "      <td>0.01</td>\n",
              "      <td>-1.72</td>\n",
              "    </tr>\n",
              "    <tr>\n",
              "      <th>V64</th>\n",
              "      <td>0.35</td>\n",
              "      <td>-0.27</td>\n",
              "      <td>0.02</td>\n",
              "      <td>-1.23</td>\n",
              "      <td>-0.715</td>\n",
              "      <td>-3.400000e-01</td>\n",
              "      <td>-0.52</td>\n",
              "      <td>0.475</td>\n",
              "      <td>0.23</td>\n",
              "      <td>0.915019</td>\n",
              "      <td>...</td>\n",
              "      <td>1.629980</td>\n",
              "      <td>3.00</td>\n",
              "      <td>2.86</td>\n",
              "      <td>2.145</td>\n",
              "      <td>0.869981</td>\n",
              "      <td>0.48</td>\n",
              "      <td>0.96999</td>\n",
              "      <td>0.29</td>\n",
              "      <td>-0.15</td>\n",
              "      <td>1.21</td>\n",
              "    </tr>\n",
              "  </tbody>\n",
              "</table>\n",
              "<p>5 rows × 6830 columns</p>\n",
              "</div>\n",
              "      <button class=\"colab-df-convert\" onclick=\"convertToInteractive('df-8a8221bc-9a23-467c-bbd5-a2fcec3f3ab6')\"\n",
              "              title=\"Convert this dataframe to an interactive table.\"\n",
              "              style=\"display:none;\">\n",
              "        \n",
              "  <svg xmlns=\"http://www.w3.org/2000/svg\" height=\"24px\"viewBox=\"0 0 24 24\"\n",
              "       width=\"24px\">\n",
              "    <path d=\"M0 0h24v24H0V0z\" fill=\"none\"/>\n",
              "    <path d=\"M18.56 5.44l.94 2.06.94-2.06 2.06-.94-2.06-.94-.94-2.06-.94 2.06-2.06.94zm-11 1L8.5 8.5l.94-2.06 2.06-.94-2.06-.94L8.5 2.5l-.94 2.06-2.06.94zm10 10l.94 2.06.94-2.06 2.06-.94-2.06-.94-.94-2.06-.94 2.06-2.06.94z\"/><path d=\"M17.41 7.96l-1.37-1.37c-.4-.4-.92-.59-1.43-.59-.52 0-1.04.2-1.43.59L10.3 9.45l-7.72 7.72c-.78.78-.78 2.05 0 2.83L4 21.41c.39.39.9.59 1.41.59.51 0 1.02-.2 1.41-.59l7.78-7.78 2.81-2.81c.8-.78.8-2.07 0-2.86zM5.41 20L4 18.59l7.72-7.72 1.47 1.35L5.41 20z\"/>\n",
              "  </svg>\n",
              "      </button>\n",
              "      \n",
              "  <style>\n",
              "    .colab-df-container {\n",
              "      display:flex;\n",
              "      flex-wrap:wrap;\n",
              "      gap: 12px;\n",
              "    }\n",
              "\n",
              "    .colab-df-convert {\n",
              "      background-color: #E8F0FE;\n",
              "      border: none;\n",
              "      border-radius: 50%;\n",
              "      cursor: pointer;\n",
              "      display: none;\n",
              "      fill: #1967D2;\n",
              "      height: 32px;\n",
              "      padding: 0 0 0 0;\n",
              "      width: 32px;\n",
              "    }\n",
              "\n",
              "    .colab-df-convert:hover {\n",
              "      background-color: #E2EBFA;\n",
              "      box-shadow: 0px 1px 2px rgba(60, 64, 67, 0.3), 0px 1px 3px 1px rgba(60, 64, 67, 0.15);\n",
              "      fill: #174EA6;\n",
              "    }\n",
              "\n",
              "    [theme=dark] .colab-df-convert {\n",
              "      background-color: #3B4455;\n",
              "      fill: #D2E3FC;\n",
              "    }\n",
              "\n",
              "    [theme=dark] .colab-df-convert:hover {\n",
              "      background-color: #434B5C;\n",
              "      box-shadow: 0px 1px 3px 1px rgba(0, 0, 0, 0.15);\n",
              "      filter: drop-shadow(0px 1px 2px rgba(0, 0, 0, 0.3));\n",
              "      fill: #FFFFFF;\n",
              "    }\n",
              "  </style>\n",
              "\n",
              "      <script>\n",
              "        const buttonEl =\n",
              "          document.querySelector('#df-8a8221bc-9a23-467c-bbd5-a2fcec3f3ab6 button.colab-df-convert');\n",
              "        buttonEl.style.display =\n",
              "          google.colab.kernel.accessAllowed ? 'block' : 'none';\n",
              "\n",
              "        async function convertToInteractive(key) {\n",
              "          const element = document.querySelector('#df-8a8221bc-9a23-467c-bbd5-a2fcec3f3ab6');\n",
              "          const dataTable =\n",
              "            await google.colab.kernel.invokeFunction('convertToInteractive',\n",
              "                                                     [key], {});\n",
              "          if (!dataTable) return;\n",
              "\n",
              "          const docLinkHtml = 'Like what you see? Visit the ' +\n",
              "            '<a target=\"_blank\" href=https://colab.research.google.com/notebooks/data_table.ipynb>data table notebook</a>'\n",
              "            + ' to learn more about interactive tables.';\n",
              "          element.innerHTML = '';\n",
              "          dataTable['output_type'] = 'display_data';\n",
              "          await google.colab.output.renderOutput(dataTable, element);\n",
              "          const docLink = document.createElement('div');\n",
              "          docLink.innerHTML = docLinkHtml;\n",
              "          element.appendChild(docLink);\n",
              "        }\n",
              "      </script>\n",
              "    </div>\n",
              "  </div>\n",
              "  "
            ]
          },
          "metadata": {},
          "execution_count": 4
        }
      ],
      "source": [
        "data.tail()"
      ]
    },
    {
      "cell_type": "code",
      "execution_count": 5,
      "metadata": {
        "colab": {
          "base_uri": "https://localhost:8080/"
        },
        "id": "Pvqi31Igrc_Z",
        "outputId": "ab951fe7-55ce-4dc3-85cd-4fcb3d4553c8"
      },
      "outputs": [
        {
          "output_type": "execute_result",
          "data": {
            "text/plain": [
              "(64, 6830)"
            ]
          },
          "metadata": {},
          "execution_count": 5
        }
      ],
      "source": [
        "data=data.drop_duplicates()\n",
        "data.shape"
      ]
    },
    {
      "cell_type": "code",
      "execution_count": 6,
      "metadata": {
        "colab": {
          "base_uri": "https://localhost:8080/",
          "height": 487
        },
        "id": "iwvsC90cmiTL",
        "outputId": "28572d79-2839-4ade-d8f0-001becab1022"
      },
      "outputs": [
        {
          "output_type": "execute_result",
          "data": {
            "text/plain": [
              "             1         2         3         4         5         6         7  \\\n",
              "1     1.000000  0.369523  0.224803  0.072525 -0.111652  0.082434  0.102550   \n",
              "2     0.369523  1.000000  0.365087  0.234746  0.156462  0.190006  0.347300   \n",
              "3     0.224803  0.365087  1.000000  0.234463  0.105175  0.025614  0.101811   \n",
              "4     0.072525  0.234746  0.234463  1.000000  0.139227  0.072153  0.050299   \n",
              "5    -0.111652  0.156462  0.105175  0.139227  1.000000  0.252648  0.249501   \n",
              "...        ...       ...       ...       ...       ...       ...       ...   \n",
              "6826 -0.039783 -0.048616 -0.125612 -0.196066  0.091374 -0.179371  0.179991   \n",
              "6827 -0.036840  0.007148 -0.035144  0.007615  0.069646 -0.290953  0.105614   \n",
              "6828 -0.007935 -0.083373  0.116060 -0.050696 -0.025194 -0.223602  0.046420   \n",
              "6829 -0.082233 -0.042292  0.095782 -0.042771  0.028185 -0.223896 -0.096546   \n",
              "6830 -0.068994 -0.046844  0.080308  0.010048 -0.048320 -0.217493 -0.193918   \n",
              "\n",
              "             8         9        10  ...      6821      6822      6823  \\\n",
              "1     0.383263  0.146702  0.200520  ... -0.001301 -0.110626 -0.104605   \n",
              "2     0.046215  0.259777  0.043624  ... -0.019406 -0.100822 -0.036153   \n",
              "3     0.008317 -0.044394  0.223556  ...  0.054223  0.026336  0.078713   \n",
              "4    -0.117858  0.032301 -0.157428  ... -0.183226 -0.237242 -0.193870   \n",
              "5    -0.071547 -0.044091 -0.150494  ... -0.157010 -0.202877 -0.146788   \n",
              "...        ...       ...       ...  ...       ...       ...       ...   \n",
              "6826  0.126909  0.108572  0.126070  ...  0.315583  0.375700  0.399367   \n",
              "6827  0.085815  0.016968  0.048932  ...  0.403075  0.438254  0.476920   \n",
              "6828  0.175311 -0.061362  0.123515  ...  0.204978  0.342030  0.372787   \n",
              "6829  0.033388  0.015082  0.195558  ...  0.072621  0.162107  0.298043   \n",
              "6830  0.014713  0.026882  0.226114  ...  0.050775  0.238606  0.287673   \n",
              "\n",
              "          6824      6825      6826      6827      6828      6829      6830  \n",
              "1    -0.175310 -0.201395 -0.039783 -0.036840 -0.007935 -0.082233 -0.068994  \n",
              "2     0.002595  0.016097 -0.048616  0.007148 -0.083373 -0.042292 -0.046844  \n",
              "3     0.051154  0.075279 -0.125612 -0.035144  0.116060  0.095782  0.080308  \n",
              "4    -0.230741 -0.081435 -0.196066  0.007615 -0.050696 -0.042771  0.010048  \n",
              "5    -0.080164 -0.119049  0.091374  0.069646 -0.025194  0.028185 -0.048320  \n",
              "...        ...       ...       ...       ...       ...       ...       ...  \n",
              "6826  0.367797  0.420911  1.000000  0.802684  0.450702  0.372070  0.295309  \n",
              "6827  0.344669  0.408825  0.802684  1.000000  0.422170  0.386220  0.329532  \n",
              "6828  0.327562  0.319074  0.450702  0.422170  1.000000  0.433611  0.304976  \n",
              "6829  0.189013  0.387155  0.372070  0.386220  0.433611  1.000000  0.737903  \n",
              "6830  0.254872  0.361875  0.295309  0.329532  0.304976  0.737903  1.000000  \n",
              "\n",
              "[6830 rows x 6830 columns]"
            ],
            "text/html": [
              "\n",
              "  <div id=\"df-497def12-1faa-497a-aa7f-845bae5c7f79\">\n",
              "    <div class=\"colab-df-container\">\n",
              "      <div>\n",
              "<style scoped>\n",
              "    .dataframe tbody tr th:only-of-type {\n",
              "        vertical-align: middle;\n",
              "    }\n",
              "\n",
              "    .dataframe tbody tr th {\n",
              "        vertical-align: top;\n",
              "    }\n",
              "\n",
              "    .dataframe thead th {\n",
              "        text-align: right;\n",
              "    }\n",
              "</style>\n",
              "<table border=\"1\" class=\"dataframe\">\n",
              "  <thead>\n",
              "    <tr style=\"text-align: right;\">\n",
              "      <th></th>\n",
              "      <th>1</th>\n",
              "      <th>2</th>\n",
              "      <th>3</th>\n",
              "      <th>4</th>\n",
              "      <th>5</th>\n",
              "      <th>6</th>\n",
              "      <th>7</th>\n",
              "      <th>8</th>\n",
              "      <th>9</th>\n",
              "      <th>10</th>\n",
              "      <th>...</th>\n",
              "      <th>6821</th>\n",
              "      <th>6822</th>\n",
              "      <th>6823</th>\n",
              "      <th>6824</th>\n",
              "      <th>6825</th>\n",
              "      <th>6826</th>\n",
              "      <th>6827</th>\n",
              "      <th>6828</th>\n",
              "      <th>6829</th>\n",
              "      <th>6830</th>\n",
              "    </tr>\n",
              "  </thead>\n",
              "  <tbody>\n",
              "    <tr>\n",
              "      <th>1</th>\n",
              "      <td>1.000000</td>\n",
              "      <td>0.369523</td>\n",
              "      <td>0.224803</td>\n",
              "      <td>0.072525</td>\n",
              "      <td>-0.111652</td>\n",
              "      <td>0.082434</td>\n",
              "      <td>0.102550</td>\n",
              "      <td>0.383263</td>\n",
              "      <td>0.146702</td>\n",
              "      <td>0.200520</td>\n",
              "      <td>...</td>\n",
              "      <td>-0.001301</td>\n",
              "      <td>-0.110626</td>\n",
              "      <td>-0.104605</td>\n",
              "      <td>-0.175310</td>\n",
              "      <td>-0.201395</td>\n",
              "      <td>-0.039783</td>\n",
              "      <td>-0.036840</td>\n",
              "      <td>-0.007935</td>\n",
              "      <td>-0.082233</td>\n",
              "      <td>-0.068994</td>\n",
              "    </tr>\n",
              "    <tr>\n",
              "      <th>2</th>\n",
              "      <td>0.369523</td>\n",
              "      <td>1.000000</td>\n",
              "      <td>0.365087</td>\n",
              "      <td>0.234746</td>\n",
              "      <td>0.156462</td>\n",
              "      <td>0.190006</td>\n",
              "      <td>0.347300</td>\n",
              "      <td>0.046215</td>\n",
              "      <td>0.259777</td>\n",
              "      <td>0.043624</td>\n",
              "      <td>...</td>\n",
              "      <td>-0.019406</td>\n",
              "      <td>-0.100822</td>\n",
              "      <td>-0.036153</td>\n",
              "      <td>0.002595</td>\n",
              "      <td>0.016097</td>\n",
              "      <td>-0.048616</td>\n",
              "      <td>0.007148</td>\n",
              "      <td>-0.083373</td>\n",
              "      <td>-0.042292</td>\n",
              "      <td>-0.046844</td>\n",
              "    </tr>\n",
              "    <tr>\n",
              "      <th>3</th>\n",
              "      <td>0.224803</td>\n",
              "      <td>0.365087</td>\n",
              "      <td>1.000000</td>\n",
              "      <td>0.234463</td>\n",
              "      <td>0.105175</td>\n",
              "      <td>0.025614</td>\n",
              "      <td>0.101811</td>\n",
              "      <td>0.008317</td>\n",
              "      <td>-0.044394</td>\n",
              "      <td>0.223556</td>\n",
              "      <td>...</td>\n",
              "      <td>0.054223</td>\n",
              "      <td>0.026336</td>\n",
              "      <td>0.078713</td>\n",
              "      <td>0.051154</td>\n",
              "      <td>0.075279</td>\n",
              "      <td>-0.125612</td>\n",
              "      <td>-0.035144</td>\n",
              "      <td>0.116060</td>\n",
              "      <td>0.095782</td>\n",
              "      <td>0.080308</td>\n",
              "    </tr>\n",
              "    <tr>\n",
              "      <th>4</th>\n",
              "      <td>0.072525</td>\n",
              "      <td>0.234746</td>\n",
              "      <td>0.234463</td>\n",
              "      <td>1.000000</td>\n",
              "      <td>0.139227</td>\n",
              "      <td>0.072153</td>\n",
              "      <td>0.050299</td>\n",
              "      <td>-0.117858</td>\n",
              "      <td>0.032301</td>\n",
              "      <td>-0.157428</td>\n",
              "      <td>...</td>\n",
              "      <td>-0.183226</td>\n",
              "      <td>-0.237242</td>\n",
              "      <td>-0.193870</td>\n",
              "      <td>-0.230741</td>\n",
              "      <td>-0.081435</td>\n",
              "      <td>-0.196066</td>\n",
              "      <td>0.007615</td>\n",
              "      <td>-0.050696</td>\n",
              "      <td>-0.042771</td>\n",
              "      <td>0.010048</td>\n",
              "    </tr>\n",
              "    <tr>\n",
              "      <th>5</th>\n",
              "      <td>-0.111652</td>\n",
              "      <td>0.156462</td>\n",
              "      <td>0.105175</td>\n",
              "      <td>0.139227</td>\n",
              "      <td>1.000000</td>\n",
              "      <td>0.252648</td>\n",
              "      <td>0.249501</td>\n",
              "      <td>-0.071547</td>\n",
              "      <td>-0.044091</td>\n",
              "      <td>-0.150494</td>\n",
              "      <td>...</td>\n",
              "      <td>-0.157010</td>\n",
              "      <td>-0.202877</td>\n",
              "      <td>-0.146788</td>\n",
              "      <td>-0.080164</td>\n",
              "      <td>-0.119049</td>\n",
              "      <td>0.091374</td>\n",
              "      <td>0.069646</td>\n",
              "      <td>-0.025194</td>\n",
              "      <td>0.028185</td>\n",
              "      <td>-0.048320</td>\n",
              "    </tr>\n",
              "    <tr>\n",
              "      <th>...</th>\n",
              "      <td>...</td>\n",
              "      <td>...</td>\n",
              "      <td>...</td>\n",
              "      <td>...</td>\n",
              "      <td>...</td>\n",
              "      <td>...</td>\n",
              "      <td>...</td>\n",
              "      <td>...</td>\n",
              "      <td>...</td>\n",
              "      <td>...</td>\n",
              "      <td>...</td>\n",
              "      <td>...</td>\n",
              "      <td>...</td>\n",
              "      <td>...</td>\n",
              "      <td>...</td>\n",
              "      <td>...</td>\n",
              "      <td>...</td>\n",
              "      <td>...</td>\n",
              "      <td>...</td>\n",
              "      <td>...</td>\n",
              "      <td>...</td>\n",
              "    </tr>\n",
              "    <tr>\n",
              "      <th>6826</th>\n",
              "      <td>-0.039783</td>\n",
              "      <td>-0.048616</td>\n",
              "      <td>-0.125612</td>\n",
              "      <td>-0.196066</td>\n",
              "      <td>0.091374</td>\n",
              "      <td>-0.179371</td>\n",
              "      <td>0.179991</td>\n",
              "      <td>0.126909</td>\n",
              "      <td>0.108572</td>\n",
              "      <td>0.126070</td>\n",
              "      <td>...</td>\n",
              "      <td>0.315583</td>\n",
              "      <td>0.375700</td>\n",
              "      <td>0.399367</td>\n",
              "      <td>0.367797</td>\n",
              "      <td>0.420911</td>\n",
              "      <td>1.000000</td>\n",
              "      <td>0.802684</td>\n",
              "      <td>0.450702</td>\n",
              "      <td>0.372070</td>\n",
              "      <td>0.295309</td>\n",
              "    </tr>\n",
              "    <tr>\n",
              "      <th>6827</th>\n",
              "      <td>-0.036840</td>\n",
              "      <td>0.007148</td>\n",
              "      <td>-0.035144</td>\n",
              "      <td>0.007615</td>\n",
              "      <td>0.069646</td>\n",
              "      <td>-0.290953</td>\n",
              "      <td>0.105614</td>\n",
              "      <td>0.085815</td>\n",
              "      <td>0.016968</td>\n",
              "      <td>0.048932</td>\n",
              "      <td>...</td>\n",
              "      <td>0.403075</td>\n",
              "      <td>0.438254</td>\n",
              "      <td>0.476920</td>\n",
              "      <td>0.344669</td>\n",
              "      <td>0.408825</td>\n",
              "      <td>0.802684</td>\n",
              "      <td>1.000000</td>\n",
              "      <td>0.422170</td>\n",
              "      <td>0.386220</td>\n",
              "      <td>0.329532</td>\n",
              "    </tr>\n",
              "    <tr>\n",
              "      <th>6828</th>\n",
              "      <td>-0.007935</td>\n",
              "      <td>-0.083373</td>\n",
              "      <td>0.116060</td>\n",
              "      <td>-0.050696</td>\n",
              "      <td>-0.025194</td>\n",
              "      <td>-0.223602</td>\n",
              "      <td>0.046420</td>\n",
              "      <td>0.175311</td>\n",
              "      <td>-0.061362</td>\n",
              "      <td>0.123515</td>\n",
              "      <td>...</td>\n",
              "      <td>0.204978</td>\n",
              "      <td>0.342030</td>\n",
              "      <td>0.372787</td>\n",
              "      <td>0.327562</td>\n",
              "      <td>0.319074</td>\n",
              "      <td>0.450702</td>\n",
              "      <td>0.422170</td>\n",
              "      <td>1.000000</td>\n",
              "      <td>0.433611</td>\n",
              "      <td>0.304976</td>\n",
              "    </tr>\n",
              "    <tr>\n",
              "      <th>6829</th>\n",
              "      <td>-0.082233</td>\n",
              "      <td>-0.042292</td>\n",
              "      <td>0.095782</td>\n",
              "      <td>-0.042771</td>\n",
              "      <td>0.028185</td>\n",
              "      <td>-0.223896</td>\n",
              "      <td>-0.096546</td>\n",
              "      <td>0.033388</td>\n",
              "      <td>0.015082</td>\n",
              "      <td>0.195558</td>\n",
              "      <td>...</td>\n",
              "      <td>0.072621</td>\n",
              "      <td>0.162107</td>\n",
              "      <td>0.298043</td>\n",
              "      <td>0.189013</td>\n",
              "      <td>0.387155</td>\n",
              "      <td>0.372070</td>\n",
              "      <td>0.386220</td>\n",
              "      <td>0.433611</td>\n",
              "      <td>1.000000</td>\n",
              "      <td>0.737903</td>\n",
              "    </tr>\n",
              "    <tr>\n",
              "      <th>6830</th>\n",
              "      <td>-0.068994</td>\n",
              "      <td>-0.046844</td>\n",
              "      <td>0.080308</td>\n",
              "      <td>0.010048</td>\n",
              "      <td>-0.048320</td>\n",
              "      <td>-0.217493</td>\n",
              "      <td>-0.193918</td>\n",
              "      <td>0.014713</td>\n",
              "      <td>0.026882</td>\n",
              "      <td>0.226114</td>\n",
              "      <td>...</td>\n",
              "      <td>0.050775</td>\n",
              "      <td>0.238606</td>\n",
              "      <td>0.287673</td>\n",
              "      <td>0.254872</td>\n",
              "      <td>0.361875</td>\n",
              "      <td>0.295309</td>\n",
              "      <td>0.329532</td>\n",
              "      <td>0.304976</td>\n",
              "      <td>0.737903</td>\n",
              "      <td>1.000000</td>\n",
              "    </tr>\n",
              "  </tbody>\n",
              "</table>\n",
              "<p>6830 rows × 6830 columns</p>\n",
              "</div>\n",
              "      <button class=\"colab-df-convert\" onclick=\"convertToInteractive('df-497def12-1faa-497a-aa7f-845bae5c7f79')\"\n",
              "              title=\"Convert this dataframe to an interactive table.\"\n",
              "              style=\"display:none;\">\n",
              "        \n",
              "  <svg xmlns=\"http://www.w3.org/2000/svg\" height=\"24px\"viewBox=\"0 0 24 24\"\n",
              "       width=\"24px\">\n",
              "    <path d=\"M0 0h24v24H0V0z\" fill=\"none\"/>\n",
              "    <path d=\"M18.56 5.44l.94 2.06.94-2.06 2.06-.94-2.06-.94-.94-2.06-.94 2.06-2.06.94zm-11 1L8.5 8.5l.94-2.06 2.06-.94-2.06-.94L8.5 2.5l-.94 2.06-2.06.94zm10 10l.94 2.06.94-2.06 2.06-.94-2.06-.94-.94-2.06-.94 2.06-2.06.94z\"/><path d=\"M17.41 7.96l-1.37-1.37c-.4-.4-.92-.59-1.43-.59-.52 0-1.04.2-1.43.59L10.3 9.45l-7.72 7.72c-.78.78-.78 2.05 0 2.83L4 21.41c.39.39.9.59 1.41.59.51 0 1.02-.2 1.41-.59l7.78-7.78 2.81-2.81c.8-.78.8-2.07 0-2.86zM5.41 20L4 18.59l7.72-7.72 1.47 1.35L5.41 20z\"/>\n",
              "  </svg>\n",
              "      </button>\n",
              "      \n",
              "  <style>\n",
              "    .colab-df-container {\n",
              "      display:flex;\n",
              "      flex-wrap:wrap;\n",
              "      gap: 12px;\n",
              "    }\n",
              "\n",
              "    .colab-df-convert {\n",
              "      background-color: #E8F0FE;\n",
              "      border: none;\n",
              "      border-radius: 50%;\n",
              "      cursor: pointer;\n",
              "      display: none;\n",
              "      fill: #1967D2;\n",
              "      height: 32px;\n",
              "      padding: 0 0 0 0;\n",
              "      width: 32px;\n",
              "    }\n",
              "\n",
              "    .colab-df-convert:hover {\n",
              "      background-color: #E2EBFA;\n",
              "      box-shadow: 0px 1px 2px rgba(60, 64, 67, 0.3), 0px 1px 3px 1px rgba(60, 64, 67, 0.15);\n",
              "      fill: #174EA6;\n",
              "    }\n",
              "\n",
              "    [theme=dark] .colab-df-convert {\n",
              "      background-color: #3B4455;\n",
              "      fill: #D2E3FC;\n",
              "    }\n",
              "\n",
              "    [theme=dark] .colab-df-convert:hover {\n",
              "      background-color: #434B5C;\n",
              "      box-shadow: 0px 1px 3px 1px rgba(0, 0, 0, 0.15);\n",
              "      filter: drop-shadow(0px 1px 2px rgba(0, 0, 0, 0.3));\n",
              "      fill: #FFFFFF;\n",
              "    }\n",
              "  </style>\n",
              "\n",
              "      <script>\n",
              "        const buttonEl =\n",
              "          document.querySelector('#df-497def12-1faa-497a-aa7f-845bae5c7f79 button.colab-df-convert');\n",
              "        buttonEl.style.display =\n",
              "          google.colab.kernel.accessAllowed ? 'block' : 'none';\n",
              "\n",
              "        async function convertToInteractive(key) {\n",
              "          const element = document.querySelector('#df-497def12-1faa-497a-aa7f-845bae5c7f79');\n",
              "          const dataTable =\n",
              "            await google.colab.kernel.invokeFunction('convertToInteractive',\n",
              "                                                     [key], {});\n",
              "          if (!dataTable) return;\n",
              "\n",
              "          const docLinkHtml = 'Like what you see? Visit the ' +\n",
              "            '<a target=\"_blank\" href=https://colab.research.google.com/notebooks/data_table.ipynb>data table notebook</a>'\n",
              "            + ' to learn more about interactive tables.';\n",
              "          element.innerHTML = '';\n",
              "          dataTable['output_type'] = 'display_data';\n",
              "          await google.colab.output.renderOutput(dataTable, element);\n",
              "          const docLink = document.createElement('div');\n",
              "          docLink.innerHTML = docLinkHtml;\n",
              "          element.appendChild(docLink);\n",
              "        }\n",
              "      </script>\n",
              "    </div>\n",
              "  </div>\n",
              "  "
            ]
          },
          "metadata": {},
          "execution_count": 6
        }
      ],
      "source": [
        "data.corr()"
      ]
    },
    {
      "cell_type": "code",
      "execution_count": 8,
      "metadata": {
        "colab": {
          "base_uri": "https://localhost:8080/"
        },
        "id": "eQcBUO6OrqCJ",
        "outputId": "535027b0-7a7c-4db1-d18f-fba33692dd5c"
      },
      "outputs": [
        {
          "output_type": "execute_result",
          "data": {
            "text/plain": [
              "1      -0.019063\n",
              "2      -0.027813\n",
              "3      -0.019923\n",
              "4      -0.328673\n",
              "5       0.026093\n",
              "          ...   \n",
              "6826    0.153671\n",
              "6827    0.090775\n",
              "6828   -0.126798\n",
              "6829    0.129921\n",
              "6830    0.143514\n",
              "Length: 6830, dtype: float64"
            ]
          },
          "metadata": {},
          "execution_count": 8
        }
      ],
      "source": [
        "data.mean()"
      ]
    },
    {
      "cell_type": "code",
      "execution_count": 9,
      "metadata": {
        "colab": {
          "base_uri": "https://localhost:8080/"
        },
        "id": "5r94LEAJnr_z",
        "outputId": "e321957f-1c83-405d-f7ed-05c005273d62"
      },
      "outputs": [
        {
          "output_type": "execute_result",
          "data": {
            "text/plain": [
              "1       0.194774\n",
              "2       0.573704\n",
              "3       0.187754\n",
              "4       1.192257\n",
              "5       0.235296\n",
              "          ...   \n",
              "6826    0.854315\n",
              "6827    1.462014\n",
              "6828    0.619583\n",
              "6829    0.320699\n",
              "6830    2.278022\n",
              "Length: 6830, dtype: float64"
            ]
          },
          "metadata": {},
          "execution_count": 9
        }
      ],
      "source": [
        "data.var()"
      ]
    },
    {
      "cell_type": "code",
      "execution_count": 9,
      "metadata": {
        "id": "EKJzwWMAqt5l"
      },
      "outputs": [],
      "source": []
    },
    {
      "cell_type": "code",
      "execution_count": 10,
      "metadata": {
        "id": "j2ukQUqjoSJy"
      },
      "outputs": [],
      "source": [
        "from sklearn.preprocessing import scale"
      ]
    },
    {
      "cell_type": "code",
      "execution_count": 11,
      "metadata": {
        "colab": {
          "base_uri": "https://localhost:8080/"
        },
        "id": "LigGK3SIqY8f",
        "outputId": "c3d7bc39-effe-4546-c26a-32e7b513d328"
      },
      "outputs": [
        {
          "output_type": "execute_result",
          "data": {
            "text/plain": [
              "Index(['V1', 'V2', 'V3', 'V4', 'V5', 'V6', 'V7', 'V8', 'V9', 'V10', 'V11',\n",
              "       'V12', 'V13', 'V14', 'V15', 'V16', 'V17', 'V18', 'V19', 'V20', 'V21',\n",
              "       'V22', 'V23', 'V24', 'V25', 'V26', 'V27', 'V28', 'V29', 'V30', 'V31',\n",
              "       'V32', 'V33', 'V34', 'V35', 'V36', 'V37', 'V38', 'V39', 'V40', 'V41',\n",
              "       'V42', 'V43', 'V44', 'V45', 'V46', 'V47', 'V48', 'V49', 'V50', 'V51',\n",
              "       'V52', 'V53', 'V54', 'V55', 'V56', 'V57', 'V58', 'V59', 'V60', 'V61',\n",
              "       'V62', 'V63', 'V64'],\n",
              "      dtype='object')"
            ]
          },
          "metadata": {},
          "execution_count": 11
        }
      ],
      "source": [
        "data.index"
      ]
    },
    {
      "cell_type": "code",
      "execution_count": 12,
      "metadata": {
        "colab": {
          "base_uri": "https://localhost:8080/"
        },
        "id": "PhLN9G-uqat_",
        "outputId": "8b705b62-c500-49bc-a92b-592770cdfc39"
      },
      "outputs": [
        {
          "output_type": "execute_result",
          "data": {
            "text/plain": [
              "Index(['1', '2', '3', '4', '5', '6', '7', '8', '9', '10',\n",
              "       ...\n",
              "       '6821', '6822', '6823', '6824', '6825', '6826', '6827', '6828', '6829',\n",
              "       '6830'],\n",
              "      dtype='object', length=6830)"
            ]
          },
          "metadata": {},
          "execution_count": 12
        }
      ],
      "source": [
        "data.columns"
      ]
    },
    {
      "cell_type": "code",
      "execution_count": 13,
      "metadata": {
        "id": "ahFTKpborseW"
      },
      "outputs": [],
      "source": [
        "##KMEANS Clustering"
      ]
    },
    {
      "cell_type": "code",
      "execution_count": 15,
      "metadata": {
        "colab": {
          "base_uri": "https://localhost:8080/",
          "height": 591
        },
        "id": "xz_D6Tt8rzKz",
        "outputId": "d8203648-39d1-4182-d85c-9d4edbe61371"
      },
      "outputs": [
        {
          "output_type": "execute_result",
          "data": {
            "text/plain": [
              "            1         2         3         4         5             6         7  \\\n",
              "V1   0.300000  1.180000  0.550000  1.140000 -0.265000 -7.000000e-02  0.350000   \n",
              "V2   0.679961  1.289961  0.169961  0.379961  0.464961  5.799610e-01  0.699961   \n",
              "V3   0.940000 -0.040000 -0.170000 -0.040000 -0.605000  0.000000e+00  0.090000   \n",
              "V4   0.280000 -0.310000  0.680000 -0.810000  0.625000 -1.387779e-17  0.170000   \n",
              "V5   0.485000 -0.465000  0.395000  0.905000  0.200000 -5.000000e-03  0.085000   \n",
              "..        ...       ...       ...       ...       ...           ...       ...   \n",
              "V60 -0.030000 -0.480000  0.070000 -0.700000 -0.195000  4.100000e-01 -0.240000   \n",
              "V61 -0.270000  0.630000 -0.100000  1.100000  1.045000  8.000000e-02 -0.090000   \n",
              "V62  0.210000 -0.620000 -0.150000 -1.330000  0.045000 -4.000000e-01 -0.390000   \n",
              "V63 -0.050000  0.140000 -0.090000 -1.260000  0.045000 -2.710505e-20  0.420000   \n",
              "V64  0.350000 -0.270000  0.020000 -1.230000 -0.715000 -3.400000e-01 -0.520000   \n",
              "\n",
              "            8         9        10  ...      6821      6822      6823  \\\n",
              "V1  -0.315000 -0.450000 -0.654980  ... -0.990020  0.000000  0.030000   \n",
              "V2   0.724961 -0.040039 -0.285019  ... -0.270058 -0.300039 -0.250039   \n",
              "V3   0.645000  0.430000  0.475019  ...  0.319981  0.120000 -0.740000   \n",
              "V4   0.245000  0.020000  0.095019  ... -1.240020 -0.110000 -0.160000   \n",
              "V5   0.110000  0.235000  1.490019  ...  0.554980 -0.775000 -0.515000   \n",
              "..        ...       ...       ...  ...       ...       ...       ...   \n",
              "V60  0.105000 -0.410000  0.875019  ... -0.400019  0.150000 -0.430000   \n",
              "V61 -0.675000 -0.310000  0.275019  ... -0.560020  0.200000  0.290000   \n",
              "V62 -0.675000 -0.360000  0.945020  ... -0.160020 -0.120000  0.850000   \n",
              "V63 -0.305000  0.310000  0.065019  ...  0.889980 -0.420000 -0.460000   \n",
              "V64  0.475000  0.230000  0.915019  ...  1.629980  3.000000  2.860000   \n",
              "\n",
              "         6824      6825      6826      6827      6828      6829      6830  \n",
              "V1  -0.175000  0.629981 -0.030000  0.000000  0.280000 -0.340000 -1.930000  \n",
              "V2  -0.535039  0.109941 -0.860039 -1.250049 -0.770039 -0.390039 -2.000039  \n",
              "V3  -0.595000 -0.270020 -0.150000  0.000000 -0.120000 -0.410000  0.000000  \n",
              "V4   0.095000 -0.350019 -0.300000 -1.150010  1.090000 -0.260000 -1.100000  \n",
              "V5  -0.320000  0.634980  0.605000  0.000000  0.745000  0.425000  0.145000  \n",
              "..        ...       ...       ...       ...       ...       ...       ...  \n",
              "V60  0.145000 -0.090020 -0.020000 -1.390010 -1.150000  0.290000  1.190000  \n",
              "V61 -0.035000  0.279981 -0.160000 -0.020010 -0.640000 -0.370000 -0.430000  \n",
              "V62 -0.125000  0.779980  0.390000  0.000000  0.160000  2.030000  3.940000  \n",
              "V63 -0.855000 -0.160020 -0.350000 -0.360010 -0.490000  0.010000 -1.720000  \n",
              "V64  2.145000  0.869981  0.480000  0.969990  0.290000 -0.150000  1.210000  \n",
              "\n",
              "[64 rows x 6830 columns]"
            ],
            "text/html": [
              "\n",
              "  <div id=\"df-90f854e7-1117-4141-bac6-de1db1bdedd5\">\n",
              "    <div class=\"colab-df-container\">\n",
              "      <div>\n",
              "<style scoped>\n",
              "    .dataframe tbody tr th:only-of-type {\n",
              "        vertical-align: middle;\n",
              "    }\n",
              "\n",
              "    .dataframe tbody tr th {\n",
              "        vertical-align: top;\n",
              "    }\n",
              "\n",
              "    .dataframe thead th {\n",
              "        text-align: right;\n",
              "    }\n",
              "</style>\n",
              "<table border=\"1\" class=\"dataframe\">\n",
              "  <thead>\n",
              "    <tr style=\"text-align: right;\">\n",
              "      <th></th>\n",
              "      <th>1</th>\n",
              "      <th>2</th>\n",
              "      <th>3</th>\n",
              "      <th>4</th>\n",
              "      <th>5</th>\n",
              "      <th>6</th>\n",
              "      <th>7</th>\n",
              "      <th>8</th>\n",
              "      <th>9</th>\n",
              "      <th>10</th>\n",
              "      <th>...</th>\n",
              "      <th>6821</th>\n",
              "      <th>6822</th>\n",
              "      <th>6823</th>\n",
              "      <th>6824</th>\n",
              "      <th>6825</th>\n",
              "      <th>6826</th>\n",
              "      <th>6827</th>\n",
              "      <th>6828</th>\n",
              "      <th>6829</th>\n",
              "      <th>6830</th>\n",
              "    </tr>\n",
              "  </thead>\n",
              "  <tbody>\n",
              "    <tr>\n",
              "      <th>V1</th>\n",
              "      <td>0.300000</td>\n",
              "      <td>1.180000</td>\n",
              "      <td>0.550000</td>\n",
              "      <td>1.140000</td>\n",
              "      <td>-0.265000</td>\n",
              "      <td>-7.000000e-02</td>\n",
              "      <td>0.350000</td>\n",
              "      <td>-0.315000</td>\n",
              "      <td>-0.450000</td>\n",
              "      <td>-0.654980</td>\n",
              "      <td>...</td>\n",
              "      <td>-0.990020</td>\n",
              "      <td>0.000000</td>\n",
              "      <td>0.030000</td>\n",
              "      <td>-0.175000</td>\n",
              "      <td>0.629981</td>\n",
              "      <td>-0.030000</td>\n",
              "      <td>0.000000</td>\n",
              "      <td>0.280000</td>\n",
              "      <td>-0.340000</td>\n",
              "      <td>-1.930000</td>\n",
              "    </tr>\n",
              "    <tr>\n",
              "      <th>V2</th>\n",
              "      <td>0.679961</td>\n",
              "      <td>1.289961</td>\n",
              "      <td>0.169961</td>\n",
              "      <td>0.379961</td>\n",
              "      <td>0.464961</td>\n",
              "      <td>5.799610e-01</td>\n",
              "      <td>0.699961</td>\n",
              "      <td>0.724961</td>\n",
              "      <td>-0.040039</td>\n",
              "      <td>-0.285019</td>\n",
              "      <td>...</td>\n",
              "      <td>-0.270058</td>\n",
              "      <td>-0.300039</td>\n",
              "      <td>-0.250039</td>\n",
              "      <td>-0.535039</td>\n",
              "      <td>0.109941</td>\n",
              "      <td>-0.860039</td>\n",
              "      <td>-1.250049</td>\n",
              "      <td>-0.770039</td>\n",
              "      <td>-0.390039</td>\n",
              "      <td>-2.000039</td>\n",
              "    </tr>\n",
              "    <tr>\n",
              "      <th>V3</th>\n",
              "      <td>0.940000</td>\n",
              "      <td>-0.040000</td>\n",
              "      <td>-0.170000</td>\n",
              "      <td>-0.040000</td>\n",
              "      <td>-0.605000</td>\n",
              "      <td>0.000000e+00</td>\n",
              "      <td>0.090000</td>\n",
              "      <td>0.645000</td>\n",
              "      <td>0.430000</td>\n",
              "      <td>0.475019</td>\n",
              "      <td>...</td>\n",
              "      <td>0.319981</td>\n",
              "      <td>0.120000</td>\n",
              "      <td>-0.740000</td>\n",
              "      <td>-0.595000</td>\n",
              "      <td>-0.270020</td>\n",
              "      <td>-0.150000</td>\n",
              "      <td>0.000000</td>\n",
              "      <td>-0.120000</td>\n",
              "      <td>-0.410000</td>\n",
              "      <td>0.000000</td>\n",
              "    </tr>\n",
              "    <tr>\n",
              "      <th>V4</th>\n",
              "      <td>0.280000</td>\n",
              "      <td>-0.310000</td>\n",
              "      <td>0.680000</td>\n",
              "      <td>-0.810000</td>\n",
              "      <td>0.625000</td>\n",
              "      <td>-1.387779e-17</td>\n",
              "      <td>0.170000</td>\n",
              "      <td>0.245000</td>\n",
              "      <td>0.020000</td>\n",
              "      <td>0.095019</td>\n",
              "      <td>...</td>\n",
              "      <td>-1.240020</td>\n",
              "      <td>-0.110000</td>\n",
              "      <td>-0.160000</td>\n",
              "      <td>0.095000</td>\n",
              "      <td>-0.350019</td>\n",
              "      <td>-0.300000</td>\n",
              "      <td>-1.150010</td>\n",
              "      <td>1.090000</td>\n",
              "      <td>-0.260000</td>\n",
              "      <td>-1.100000</td>\n",
              "    </tr>\n",
              "    <tr>\n",
              "      <th>V5</th>\n",
              "      <td>0.485000</td>\n",
              "      <td>-0.465000</td>\n",
              "      <td>0.395000</td>\n",
              "      <td>0.905000</td>\n",
              "      <td>0.200000</td>\n",
              "      <td>-5.000000e-03</td>\n",
              "      <td>0.085000</td>\n",
              "      <td>0.110000</td>\n",
              "      <td>0.235000</td>\n",
              "      <td>1.490019</td>\n",
              "      <td>...</td>\n",
              "      <td>0.554980</td>\n",
              "      <td>-0.775000</td>\n",
              "      <td>-0.515000</td>\n",
              "      <td>-0.320000</td>\n",
              "      <td>0.634980</td>\n",
              "      <td>0.605000</td>\n",
              "      <td>0.000000</td>\n",
              "      <td>0.745000</td>\n",
              "      <td>0.425000</td>\n",
              "      <td>0.145000</td>\n",
              "    </tr>\n",
              "    <tr>\n",
              "      <th>...</th>\n",
              "      <td>...</td>\n",
              "      <td>...</td>\n",
              "      <td>...</td>\n",
              "      <td>...</td>\n",
              "      <td>...</td>\n",
              "      <td>...</td>\n",
              "      <td>...</td>\n",
              "      <td>...</td>\n",
              "      <td>...</td>\n",
              "      <td>...</td>\n",
              "      <td>...</td>\n",
              "      <td>...</td>\n",
              "      <td>...</td>\n",
              "      <td>...</td>\n",
              "      <td>...</td>\n",
              "      <td>...</td>\n",
              "      <td>...</td>\n",
              "      <td>...</td>\n",
              "      <td>...</td>\n",
              "      <td>...</td>\n",
              "      <td>...</td>\n",
              "    </tr>\n",
              "    <tr>\n",
              "      <th>V60</th>\n",
              "      <td>-0.030000</td>\n",
              "      <td>-0.480000</td>\n",
              "      <td>0.070000</td>\n",
              "      <td>-0.700000</td>\n",
              "      <td>-0.195000</td>\n",
              "      <td>4.100000e-01</td>\n",
              "      <td>-0.240000</td>\n",
              "      <td>0.105000</td>\n",
              "      <td>-0.410000</td>\n",
              "      <td>0.875019</td>\n",
              "      <td>...</td>\n",
              "      <td>-0.400019</td>\n",
              "      <td>0.150000</td>\n",
              "      <td>-0.430000</td>\n",
              "      <td>0.145000</td>\n",
              "      <td>-0.090020</td>\n",
              "      <td>-0.020000</td>\n",
              "      <td>-1.390010</td>\n",
              "      <td>-1.150000</td>\n",
              "      <td>0.290000</td>\n",
              "      <td>1.190000</td>\n",
              "    </tr>\n",
              "    <tr>\n",
              "      <th>V61</th>\n",
              "      <td>-0.270000</td>\n",
              "      <td>0.630000</td>\n",
              "      <td>-0.100000</td>\n",
              "      <td>1.100000</td>\n",
              "      <td>1.045000</td>\n",
              "      <td>8.000000e-02</td>\n",
              "      <td>-0.090000</td>\n",
              "      <td>-0.675000</td>\n",
              "      <td>-0.310000</td>\n",
              "      <td>0.275019</td>\n",
              "      <td>...</td>\n",
              "      <td>-0.560020</td>\n",
              "      <td>0.200000</td>\n",
              "      <td>0.290000</td>\n",
              "      <td>-0.035000</td>\n",
              "      <td>0.279981</td>\n",
              "      <td>-0.160000</td>\n",
              "      <td>-0.020010</td>\n",
              "      <td>-0.640000</td>\n",
              "      <td>-0.370000</td>\n",
              "      <td>-0.430000</td>\n",
              "    </tr>\n",
              "    <tr>\n",
              "      <th>V62</th>\n",
              "      <td>0.210000</td>\n",
              "      <td>-0.620000</td>\n",
              "      <td>-0.150000</td>\n",
              "      <td>-1.330000</td>\n",
              "      <td>0.045000</td>\n",
              "      <td>-4.000000e-01</td>\n",
              "      <td>-0.390000</td>\n",
              "      <td>-0.675000</td>\n",
              "      <td>-0.360000</td>\n",
              "      <td>0.945020</td>\n",
              "      <td>...</td>\n",
              "      <td>-0.160020</td>\n",
              "      <td>-0.120000</td>\n",
              "      <td>0.850000</td>\n",
              "      <td>-0.125000</td>\n",
              "      <td>0.779980</td>\n",
              "      <td>0.390000</td>\n",
              "      <td>0.000000</td>\n",
              "      <td>0.160000</td>\n",
              "      <td>2.030000</td>\n",
              "      <td>3.940000</td>\n",
              "    </tr>\n",
              "    <tr>\n",
              "      <th>V63</th>\n",
              "      <td>-0.050000</td>\n",
              "      <td>0.140000</td>\n",
              "      <td>-0.090000</td>\n",
              "      <td>-1.260000</td>\n",
              "      <td>0.045000</td>\n",
              "      <td>-2.710505e-20</td>\n",
              "      <td>0.420000</td>\n",
              "      <td>-0.305000</td>\n",
              "      <td>0.310000</td>\n",
              "      <td>0.065019</td>\n",
              "      <td>...</td>\n",
              "      <td>0.889980</td>\n",
              "      <td>-0.420000</td>\n",
              "      <td>-0.460000</td>\n",
              "      <td>-0.855000</td>\n",
              "      <td>-0.160020</td>\n",
              "      <td>-0.350000</td>\n",
              "      <td>-0.360010</td>\n",
              "      <td>-0.490000</td>\n",
              "      <td>0.010000</td>\n",
              "      <td>-1.720000</td>\n",
              "    </tr>\n",
              "    <tr>\n",
              "      <th>V64</th>\n",
              "      <td>0.350000</td>\n",
              "      <td>-0.270000</td>\n",
              "      <td>0.020000</td>\n",
              "      <td>-1.230000</td>\n",
              "      <td>-0.715000</td>\n",
              "      <td>-3.400000e-01</td>\n",
              "      <td>-0.520000</td>\n",
              "      <td>0.475000</td>\n",
              "      <td>0.230000</td>\n",
              "      <td>0.915019</td>\n",
              "      <td>...</td>\n",
              "      <td>1.629980</td>\n",
              "      <td>3.000000</td>\n",
              "      <td>2.860000</td>\n",
              "      <td>2.145000</td>\n",
              "      <td>0.869981</td>\n",
              "      <td>0.480000</td>\n",
              "      <td>0.969990</td>\n",
              "      <td>0.290000</td>\n",
              "      <td>-0.150000</td>\n",
              "      <td>1.210000</td>\n",
              "    </tr>\n",
              "  </tbody>\n",
              "</table>\n",
              "<p>64 rows × 6830 columns</p>\n",
              "</div>\n",
              "      <button class=\"colab-df-convert\" onclick=\"convertToInteractive('df-90f854e7-1117-4141-bac6-de1db1bdedd5')\"\n",
              "              title=\"Convert this dataframe to an interactive table.\"\n",
              "              style=\"display:none;\">\n",
              "        \n",
              "  <svg xmlns=\"http://www.w3.org/2000/svg\" height=\"24px\"viewBox=\"0 0 24 24\"\n",
              "       width=\"24px\">\n",
              "    <path d=\"M0 0h24v24H0V0z\" fill=\"none\"/>\n",
              "    <path d=\"M18.56 5.44l.94 2.06.94-2.06 2.06-.94-2.06-.94-.94-2.06-.94 2.06-2.06.94zm-11 1L8.5 8.5l.94-2.06 2.06-.94-2.06-.94L8.5 2.5l-.94 2.06-2.06.94zm10 10l.94 2.06.94-2.06 2.06-.94-2.06-.94-.94-2.06-.94 2.06-2.06.94z\"/><path d=\"M17.41 7.96l-1.37-1.37c-.4-.4-.92-.59-1.43-.59-.52 0-1.04.2-1.43.59L10.3 9.45l-7.72 7.72c-.78.78-.78 2.05 0 2.83L4 21.41c.39.39.9.59 1.41.59.51 0 1.02-.2 1.41-.59l7.78-7.78 2.81-2.81c.8-.78.8-2.07 0-2.86zM5.41 20L4 18.59l7.72-7.72 1.47 1.35L5.41 20z\"/>\n",
              "  </svg>\n",
              "      </button>\n",
              "      \n",
              "  <style>\n",
              "    .colab-df-container {\n",
              "      display:flex;\n",
              "      flex-wrap:wrap;\n",
              "      gap: 12px;\n",
              "    }\n",
              "\n",
              "    .colab-df-convert {\n",
              "      background-color: #E8F0FE;\n",
              "      border: none;\n",
              "      border-radius: 50%;\n",
              "      cursor: pointer;\n",
              "      display: none;\n",
              "      fill: #1967D2;\n",
              "      height: 32px;\n",
              "      padding: 0 0 0 0;\n",
              "      width: 32px;\n",
              "    }\n",
              "\n",
              "    .colab-df-convert:hover {\n",
              "      background-color: #E2EBFA;\n",
              "      box-shadow: 0px 1px 2px rgba(60, 64, 67, 0.3), 0px 1px 3px 1px rgba(60, 64, 67, 0.15);\n",
              "      fill: #174EA6;\n",
              "    }\n",
              "\n",
              "    [theme=dark] .colab-df-convert {\n",
              "      background-color: #3B4455;\n",
              "      fill: #D2E3FC;\n",
              "    }\n",
              "\n",
              "    [theme=dark] .colab-df-convert:hover {\n",
              "      background-color: #434B5C;\n",
              "      box-shadow: 0px 1px 3px 1px rgba(0, 0, 0, 0.15);\n",
              "      filter: drop-shadow(0px 1px 2px rgba(0, 0, 0, 0.3));\n",
              "      fill: #FFFFFF;\n",
              "    }\n",
              "  </style>\n",
              "\n",
              "      <script>\n",
              "        const buttonEl =\n",
              "          document.querySelector('#df-90f854e7-1117-4141-bac6-de1db1bdedd5 button.colab-df-convert');\n",
              "        buttonEl.style.display =\n",
              "          google.colab.kernel.accessAllowed ? 'block' : 'none';\n",
              "\n",
              "        async function convertToInteractive(key) {\n",
              "          const element = document.querySelector('#df-90f854e7-1117-4141-bac6-de1db1bdedd5');\n",
              "          const dataTable =\n",
              "            await google.colab.kernel.invokeFunction('convertToInteractive',\n",
              "                                                     [key], {});\n",
              "          if (!dataTable) return;\n",
              "\n",
              "          const docLinkHtml = 'Like what you see? Visit the ' +\n",
              "            '<a target=\"_blank\" href=https://colab.research.google.com/notebooks/data_table.ipynb>data table notebook</a>'\n",
              "            + ' to learn more about interactive tables.';\n",
              "          element.innerHTML = '';\n",
              "          dataTable['output_type'] = 'display_data';\n",
              "          await google.colab.output.renderOutput(dataTable, element);\n",
              "          const docLink = document.createElement('div');\n",
              "          docLink.innerHTML = docLinkHtml;\n",
              "          element.appendChild(docLink);\n",
              "        }\n",
              "      </script>\n",
              "    </div>\n",
              "  </div>\n",
              "  "
            ]
          },
          "metadata": {},
          "execution_count": 15
        }
      ],
      "source": [
        "x=data\n",
        "x"
      ]
    },
    {
      "cell_type": "code",
      "execution_count": 18,
      "metadata": {
        "id": "rQX8Noflr_gj"
      },
      "outputs": [],
      "source": [
        "from sklearn.cluster import KMeans"
      ]
    },
    {
      "cell_type": "code",
      "source": [
        "km = KMeans(n_clusters = 5, n_init = 20)"
      ],
      "metadata": {
        "id": "oty6eiI1ms6b"
      },
      "execution_count": 19,
      "outputs": []
    },
    {
      "cell_type": "code",
      "source": [
        "km.fit(x)"
      ],
      "metadata": {
        "colab": {
          "base_uri": "https://localhost:8080/",
          "height": 74
        },
        "id": "5QUqwp8HmzYx",
        "outputId": "29fb2dd2-f7ba-4dc5-da14-37ef8b795e55"
      },
      "execution_count": 20,
      "outputs": [
        {
          "output_type": "execute_result",
          "data": {
            "text/plain": [
              "KMeans(n_clusters=5, n_init=20)"
            ],
            "text/html": [
              "<style>#sk-container-id-1 {color: black;background-color: white;}#sk-container-id-1 pre{padding: 0;}#sk-container-id-1 div.sk-toggleable {background-color: white;}#sk-container-id-1 label.sk-toggleable__label {cursor: pointer;display: block;width: 100%;margin-bottom: 0;padding: 0.3em;box-sizing: border-box;text-align: center;}#sk-container-id-1 label.sk-toggleable__label-arrow:before {content: \"▸\";float: left;margin-right: 0.25em;color: #696969;}#sk-container-id-1 label.sk-toggleable__label-arrow:hover:before {color: black;}#sk-container-id-1 div.sk-estimator:hover label.sk-toggleable__label-arrow:before {color: black;}#sk-container-id-1 div.sk-toggleable__content {max-height: 0;max-width: 0;overflow: hidden;text-align: left;background-color: #f0f8ff;}#sk-container-id-1 div.sk-toggleable__content pre {margin: 0.2em;color: black;border-radius: 0.25em;background-color: #f0f8ff;}#sk-container-id-1 input.sk-toggleable__control:checked~div.sk-toggleable__content {max-height: 200px;max-width: 100%;overflow: auto;}#sk-container-id-1 input.sk-toggleable__control:checked~label.sk-toggleable__label-arrow:before {content: \"▾\";}#sk-container-id-1 div.sk-estimator input.sk-toggleable__control:checked~label.sk-toggleable__label {background-color: #d4ebff;}#sk-container-id-1 div.sk-label input.sk-toggleable__control:checked~label.sk-toggleable__label {background-color: #d4ebff;}#sk-container-id-1 input.sk-hidden--visually {border: 0;clip: rect(1px 1px 1px 1px);clip: rect(1px, 1px, 1px, 1px);height: 1px;margin: -1px;overflow: hidden;padding: 0;position: absolute;width: 1px;}#sk-container-id-1 div.sk-estimator {font-family: monospace;background-color: #f0f8ff;border: 1px dotted black;border-radius: 0.25em;box-sizing: border-box;margin-bottom: 0.5em;}#sk-container-id-1 div.sk-estimator:hover {background-color: #d4ebff;}#sk-container-id-1 div.sk-parallel-item::after {content: \"\";width: 100%;border-bottom: 1px solid gray;flex-grow: 1;}#sk-container-id-1 div.sk-label:hover label.sk-toggleable__label {background-color: #d4ebff;}#sk-container-id-1 div.sk-serial::before {content: \"\";position: absolute;border-left: 1px solid gray;box-sizing: border-box;top: 0;bottom: 0;left: 50%;z-index: 0;}#sk-container-id-1 div.sk-serial {display: flex;flex-direction: column;align-items: center;background-color: white;padding-right: 0.2em;padding-left: 0.2em;position: relative;}#sk-container-id-1 div.sk-item {position: relative;z-index: 1;}#sk-container-id-1 div.sk-parallel {display: flex;align-items: stretch;justify-content: center;background-color: white;position: relative;}#sk-container-id-1 div.sk-item::before, #sk-container-id-1 div.sk-parallel-item::before {content: \"\";position: absolute;border-left: 1px solid gray;box-sizing: border-box;top: 0;bottom: 0;left: 50%;z-index: -1;}#sk-container-id-1 div.sk-parallel-item {display: flex;flex-direction: column;z-index: 1;position: relative;background-color: white;}#sk-container-id-1 div.sk-parallel-item:first-child::after {align-self: flex-end;width: 50%;}#sk-container-id-1 div.sk-parallel-item:last-child::after {align-self: flex-start;width: 50%;}#sk-container-id-1 div.sk-parallel-item:only-child::after {width: 0;}#sk-container-id-1 div.sk-dashed-wrapped {border: 1px dashed gray;margin: 0 0.4em 0.5em 0.4em;box-sizing: border-box;padding-bottom: 0.4em;background-color: white;}#sk-container-id-1 div.sk-label label {font-family: monospace;font-weight: bold;display: inline-block;line-height: 1.2em;}#sk-container-id-1 div.sk-label-container {text-align: center;}#sk-container-id-1 div.sk-container {/* jupyter's `normalize.less` sets `[hidden] { display: none; }` but bootstrap.min.css set `[hidden] { display: none !important; }` so we also need the `!important` here to be able to override the default hidden behavior on the sphinx rendered scikit-learn.org. See: https://github.com/scikit-learn/scikit-learn/issues/21755 */display: inline-block !important;position: relative;}#sk-container-id-1 div.sk-text-repr-fallback {display: none;}</style><div id=\"sk-container-id-1\" class=\"sk-top-container\"><div class=\"sk-text-repr-fallback\"><pre>KMeans(n_clusters=5, n_init=20)</pre><b>In a Jupyter environment, please rerun this cell to show the HTML representation or trust the notebook. <br />On GitHub, the HTML representation is unable to render, please try loading this page with nbviewer.org.</b></div><div class=\"sk-container\" hidden><div class=\"sk-item\"><div class=\"sk-estimator sk-toggleable\"><input class=\"sk-toggleable__control sk-hidden--visually\" id=\"sk-estimator-id-1\" type=\"checkbox\" checked><label for=\"sk-estimator-id-1\" class=\"sk-toggleable__label sk-toggleable__label-arrow\">KMeans</label><div class=\"sk-toggleable__content\"><pre>KMeans(n_clusters=5, n_init=20)</pre></div></div></div></div></div>"
            ]
          },
          "metadata": {},
          "execution_count": 20
        }
      ]
    },
    {
      "cell_type": "code",
      "source": [
        "cluster_labels = km.predict(x)\n"
      ],
      "metadata": {
        "id": "K5phs3oYm2B2"
      },
      "execution_count": 21,
      "outputs": []
    },
    {
      "cell_type": "code",
      "source": [
        "cluster_labels"
      ],
      "metadata": {
        "colab": {
          "base_uri": "https://localhost:8080/"
        },
        "id": "8p0VvHBVm3tQ",
        "outputId": "2b183b5a-6408-437b-a09e-2c10ce35da5d"
      },
      "execution_count": 22,
      "outputs": [
        {
          "output_type": "execute_result",
          "data": {
            "text/plain": [
              "array([0, 0, 0, 0, 0, 0, 0, 0, 0, 0, 0, 0, 0, 0, 0, 0, 0, 0, 0, 0, 0, 0,\n",
              "       0, 2, 2, 0, 2, 0, 2, 0, 0, 0, 0, 1, 1, 1, 1, 1, 1, 1, 1, 2, 2, 2,\n",
              "       2, 2, 2, 2, 3, 3, 3, 3, 2, 3, 3, 4, 4, 4, 4, 4, 4, 4, 4, 4],\n",
              "      dtype=int32)"
            ]
          },
          "metadata": {},
          "execution_count": 22
        }
      ]
    },
    {
      "cell_type": "code",
      "source": [
        "pd.Series(cluster_labels).value_counts()"
      ],
      "metadata": {
        "colab": {
          "base_uri": "https://localhost:8080/"
        },
        "id": "GqMu4iTTm6UC",
        "outputId": "2eeca389-f10e-48f3-b823-6d3229a39283"
      },
      "execution_count": 23,
      "outputs": [
        {
          "output_type": "execute_result",
          "data": {
            "text/plain": [
              "0    29\n",
              "2    12\n",
              "4     9\n",
              "1     8\n",
              "3     6\n",
              "dtype: int64"
            ]
          },
          "metadata": {},
          "execution_count": 23
        }
      ]
    },
    {
      "cell_type": "code",
      "source": [
        "km.inertia_"
      ],
      "metadata": {
        "colab": {
          "base_uri": "https://localhost:8080/"
        },
        "id": "Xx_Ebv9Oo8d_",
        "outputId": "fec75e66-53ca-4614-ebe9-39157f8ecaba"
      },
      "execution_count": 25,
      "outputs": [
        {
          "output_type": "execute_result",
          "data": {
            "text/plain": [
              "190550.44131799904"
            ]
          },
          "metadata": {},
          "execution_count": 25
        }
      ]
    },
    {
      "cell_type": "code",
      "source": [
        "inertia_list = []\n",
        "\n",
        "\n",
        "for i in range(1,11):\n",
        "  km = KMeans(n_clusters = i, n_init = 20)\n",
        "  km.fit(x)\n",
        "  inertia = km.inertia_\n",
        "  inertia_list.append(inertia)"
      ],
      "metadata": {
        "id": "-fT-HDOkpE1R"
      },
      "execution_count": 26,
      "outputs": []
    },
    {
      "cell_type": "code",
      "source": [
        "inertia_list"
      ],
      "metadata": {
        "colab": {
          "base_uri": "https://localhost:8080/"
        },
        "id": "4TxuNtLDpGf9",
        "outputId": "3b3c03e2-3709-49a7-c729-20028c6c5138"
      },
      "execution_count": 27,
      "outputs": [
        {
          "output_type": "execute_result",
          "data": {
            "text/plain": [
              "[267862.4091291161,\n",
              " 236481.84121489755,\n",
              " 215746.3208514057,\n",
              " 200883.83060475579,\n",
              " 191788.2768882593,\n",
              " 182945.07364546266,\n",
              " 177158.75209067302,\n",
              " 165366.88568503084,\n",
              " 159899.47393301965,\n",
              " 155236.34709261602]"
            ]
          },
          "metadata": {},
          "execution_count": 27
        }
      ]
    },
    {
      "cell_type": "markdown",
      "source": [
        "#### elbow method"
      ],
      "metadata": {
        "id": "SAf9DDrLpL_t"
      }
    },
    {
      "cell_type": "code",
      "source": [
        "plt.plot(range(1,11), inertia_list)\n",
        "plt.xlabel(\"Number of clusters\")\n",
        "plt.ylabel(\"Inertia\")\n",
        "plt.show();"
      ],
      "metadata": {
        "colab": {
          "base_uri": "https://localhost:8080/",
          "height": 449
        },
        "id": "ZBdc-ZNipLaA",
        "outputId": "4c987c9b-22b3-4077-9401-6a8e16433879"
      },
      "execution_count": 28,
      "outputs": [
        {
          "output_type": "display_data",
          "data": {
            "text/plain": [
              "<Figure size 640x480 with 1 Axes>"
            ],
            "image/png": "[encoded data removed]"
          },
          "metadata": {}
        }
      ]
    },
    {
      "cell_type": "code",
      "source": [
        "km = KMeans(n_clusters = 6, n_init = 20)\n",
        "km.fit(x)\n",
        "cluster_labels = km.predict(x)"
      ],
      "metadata": {
        "id": "V4KywehEpS4C"
      },
      "execution_count": 29,
      "outputs": []
    },
    {
      "cell_type": "code",
      "source": [
        "from sklearn.preprocessing import scale"
      ],
      "metadata": {
        "id": "qSYSntCxq9UU"
      },
      "execution_count": 30,
      "outputs": []
    },
    {
      "cell_type": "code",
      "source": [
        "X = pd.DataFrame(scale(data), index = data.index, columns = data.columns)"
      ],
      "metadata": {
        "id": "LkCeB5rlso7b"
      },
      "execution_count": 31,
      "outputs": []
    },
    {
      "cell_type": "code",
      "source": [
        "from sklearn.decomposition import PCA"
      ],
      "metadata": {
        "id": "9naTIFkLsyJc"
      },
      "execution_count": 32,
      "outputs": []
    },
    {
      "cell_type": "code",
      "source": [
        "pc = PCA(n_components=4)"
      ],
      "metadata": {
        "id": "GD3wWKIes7WM"
      },
      "execution_count": 40,
      "outputs": []
    },
    {
      "cell_type": "code",
      "source": [
        "pc_array = pc.fit_transform(X)"
      ],
      "metadata": {
        "id": "jmqiYubts-1m"
      },
      "execution_count": 41,
      "outputs": []
    },
    {
      "cell_type": "code",
      "source": [
        "pc_array.shape"
      ],
      "metadata": {
        "colab": {
          "base_uri": "https://localhost:8080/"
        },
        "id": "gAKDULNhtEfa",
        "outputId": "dc52805c-26d1-4150-effb-9b291edcfac1"
      },
      "execution_count": 42,
      "outputs": [
        {
          "output_type": "execute_result",
          "data": {
            "text/plain": [
              "(64, 4)"
            ]
          },
          "metadata": {},
          "execution_count": 42
        }
      ]
    },
    {
      "cell_type": "code",
      "source": [
        "pc_data = pd.DataFrame(pc_array, columns = [\"pc1\",\"pc2\",\"pc3\",\"pc4\"])"
      ],
      "metadata": {
        "id": "CVh62SPKtHlz"
      },
      "execution_count": 43,
      "outputs": []
    },
    {
      "cell_type": "code",
      "source": [
        "pc_data"
      ],
      "metadata": {
        "colab": {
          "base_uri": "https://localhost:8080/",
          "height": 423
        },
        "id": "JjfRy1d_tkj4",
        "outputId": "1f0af6b4-bce6-49c5-fac5-0523ebad73f6"
      },
      "execution_count": 45,
      "outputs": [
        {
          "output_type": "execute_result",
          "data": {
            "text/plain": [
              "          pc1        pc2        pc3        pc4\n",
              "0  -19.838082  -3.556792  -9.814114  -0.763571\n",
              "1  -23.089206  -6.441062 -13.484088   5.629121\n",
              "2  -27.456150  -2.465684  -3.533694  -1.302945\n",
              "3  -42.816844   9.767072  -0.887348   3.488058\n",
              "4  -55.418529   5.199444 -21.093262  15.827977\n",
              "..        ...        ...        ...        ...\n",
              "59 -17.996308  47.240801   5.400729 -17.312682\n",
              "60  -4.415545  42.308917   8.715650  -2.758572\n",
              "61 -22.967028  36.101531  18.116052  -7.532827\n",
              "62 -19.176102  50.395735   4.213129  -2.915702\n",
              "63 -13.232916  35.123698   3.435134  -2.096009\n",
              "\n",
              "[64 rows x 4 columns]"
            ],
            "text/html": [
              "\n",
              "  <div id=\"df-5284920e-aff7-4721-b856-37e06a562e8c\">\n",
              "    <div class=\"colab-df-container\">\n",
              "      <div>\n",
              "<style scoped>\n",
              "    .dataframe tbody tr th:only-of-type {\n",
              "        vertical-align: middle;\n",
              "    }\n",
              "\n",
              "    .dataframe tbody tr th {\n",
              "        vertical-align: top;\n",
              "    }\n",
              "\n",
              "    .dataframe thead th {\n",
              "        text-align: right;\n",
              "    }\n",
              "</style>\n",
              "<table border=\"1\" class=\"dataframe\">\n",
              "  <thead>\n",
              "    <tr style=\"text-align: right;\">\n",
              "      <th></th>\n",
              "      <th>pc1</th>\n",
              "      <th>pc2</th>\n",
              "      <th>pc3</th>\n",
              "      <th>pc4</th>\n",
              "    </tr>\n",
              "  </thead>\n",
              "  <tbody>\n",
              "    <tr>\n",
              "      <th>0</th>\n",
              "      <td>-19.838082</td>\n",
              "      <td>-3.556792</td>\n",
              "      <td>-9.814114</td>\n",
              "      <td>-0.763571</td>\n",
              "    </tr>\n",
              "    <tr>\n",
              "      <th>1</th>\n",
              "      <td>-23.089206</td>\n",
              "      <td>-6.441062</td>\n",
              "      <td>-13.484088</td>\n",
              "      <td>5.629121</td>\n",
              "    </tr>\n",
              "    <tr>\n",
              "      <th>2</th>\n",
              "      <td>-27.456150</td>\n",
              "      <td>-2.465684</td>\n",
              "      <td>-3.533694</td>\n",
              "      <td>-1.302945</td>\n",
              "    </tr>\n",
              "    <tr>\n",
              "      <th>3</th>\n",
              "      <td>-42.816844</td>\n",
              "      <td>9.767072</td>\n",
              "      <td>-0.887348</td>\n",
              "      <td>3.488058</td>\n",
              "    </tr>\n",
              "    <tr>\n",
              "      <th>4</th>\n",
              "      <td>-55.418529</td>\n",
              "      <td>5.199444</td>\n",
              "      <td>-21.093262</td>\n",
              "      <td>15.827977</td>\n",
              "    </tr>\n",
              "    <tr>\n",
              "      <th>...</th>\n",
              "      <td>...</td>\n",
              "      <td>...</td>\n",
              "      <td>...</td>\n",
              "      <td>...</td>\n",
              "    </tr>\n",
              "    <tr>\n",
              "      <th>59</th>\n",
              "      <td>-17.996308</td>\n",
              "      <td>47.240801</td>\n",
              "      <td>5.400729</td>\n",
              "      <td>-17.312682</td>\n",
              "    </tr>\n",
              "    <tr>\n",
              "      <th>60</th>\n",
              "      <td>-4.415545</td>\n",
              "      <td>42.308917</td>\n",
              "      <td>8.715650</td>\n",
              "      <td>-2.758572</td>\n",
              "    </tr>\n",
              "    <tr>\n",
              "      <th>61</th>\n",
              "      <td>-22.967028</td>\n",
              "      <td>36.101531</td>\n",
              "      <td>18.116052</td>\n",
              "      <td>-7.532827</td>\n",
              "    </tr>\n",
              "    <tr>\n",
              "      <th>62</th>\n",
              "      <td>-19.176102</td>\n",
              "      <td>50.395735</td>\n",
              "      <td>4.213129</td>\n",
              "      <td>-2.915702</td>\n",
              "    </tr>\n",
              "    <tr>\n",
              "      <th>63</th>\n",
              "      <td>-13.232916</td>\n",
              "      <td>35.123698</td>\n",
              "      <td>3.435134</td>\n",
              "      <td>-2.096009</td>\n",
              "    </tr>\n",
              "  </tbody>\n",
              "</table>\n",
              "<p>64 rows × 4 columns</p>\n",
              "</div>\n",
              "      <button class=\"colab-df-convert\" onclick=\"convertToInteractive('df-5284920e-aff7-4721-b856-37e06a562e8c')\"\n",
              "              title=\"Convert this dataframe to an interactive table.\"\n",
              "              style=\"display:none;\">\n",
              "        \n",
              "  <svg xmlns=\"http://www.w3.org/2000/svg\" height=\"24px\"viewBox=\"0 0 24 24\"\n",
              "       width=\"24px\">\n",
              "    <path d=\"M0 0h24v24H0V0z\" fill=\"none\"/>\n",
              "    <path d=\"M18.56 5.44l.94 2.06.94-2.06 2.06-.94-2.06-.94-.94-2.06-.94 2.06-2.06.94zm-11 1L8.5 8.5l.94-2.06 2.06-.94-2.06-.94L8.5 2.5l-.94 2.06-2.06.94zm10 10l.94 2.06.94-2.06 2.06-.94-2.06-.94-.94-2.06-.94 2.06-2.06.94z\"/><path d=\"M17.41 7.96l-1.37-1.37c-.4-.4-.92-.59-1.43-.59-.52 0-1.04.2-1.43.59L10.3 9.45l-7.72 7.72c-.78.78-.78 2.05 0 2.83L4 21.41c.39.39.9.59 1.41.59.51 0 1.02-.2 1.41-.59l7.78-7.78 2.81-2.81c.8-.78.8-2.07 0-2.86zM5.41 20L4 18.59l7.72-7.72 1.47 1.35L5.41 20z\"/>\n",
              "  </svg>\n",
              "      </button>\n",
              "      \n",
              "  <style>\n",
              "    .colab-df-container {\n",
              "      display:flex;\n",
              "      flex-wrap:wrap;\n",
              "      gap: 12px;\n",
              "    }\n",
              "\n",
              "    .colab-df-convert {\n",
              "      background-color: #E8F0FE;\n",
              "      border: none;\n",
              "      border-radius: 50%;\n",
              "      cursor: pointer;\n",
              "      display: none;\n",
              "      fill: #1967D2;\n",
              "      height: 32px;\n",
              "      padding: 0 0 0 0;\n",
              "      width: 32px;\n",
              "    }\n",
              "\n",
              "    .colab-df-convert:hover {\n",
              "      background-color: #E2EBFA;\n",
              "      box-shadow: 0px 1px 2px rgba(60, 64, 67, 0.3), 0px 1px 3px 1px rgba(60, 64, 67, 0.15);\n",
              "      fill: #174EA6;\n",
              "    }\n",
              "\n",
              "    [theme=dark] .colab-df-convert {\n",
              "      background-color: #3B4455;\n",
              "      fill: #D2E3FC;\n",
              "    }\n",
              "\n",
              "    [theme=dark] .colab-df-convert:hover {\n",
              "      background-color: #434B5C;\n",
              "      box-shadow: 0px 1px 3px 1px rgba(0, 0, 0, 0.15);\n",
              "      filter: drop-shadow(0px 1px 2px rgba(0, 0, 0, 0.3));\n",
              "      fill: #FFFFFF;\n",
              "    }\n",
              "  </style>\n",
              "\n",
              "      <script>\n",
              "        const buttonEl =\n",
              "          document.querySelector('#df-5284920e-aff7-4721-b856-37e06a562e8c button.colab-df-convert');\n",
              "        buttonEl.style.display =\n",
              "          google.colab.kernel.accessAllowed ? 'block' : 'none';\n",
              "\n",
              "        async function convertToInteractive(key) {\n",
              "          const element = document.querySelector('#df-5284920e-aff7-4721-b856-37e06a562e8c');\n",
              "          const dataTable =\n",
              "            await google.colab.kernel.invokeFunction('convertToInteractive',\n",
              "                                                     [key], {});\n",
              "          if (!dataTable) return;\n",
              "\n",
              "          const docLinkHtml = 'Like what you see? Visit the ' +\n",
              "            '<a target=\"_blank\" href=https://colab.research.google.com/notebooks/data_table.ipynb>data table notebook</a>'\n",
              "            + ' to learn more about interactive tables.';\n",
              "          element.innerHTML = '';\n",
              "          dataTable['output_type'] = 'display_data';\n",
              "          await google.colab.output.renderOutput(dataTable, element);\n",
              "          const docLink = document.createElement('div');\n",
              "          docLink.innerHTML = docLinkHtml;\n",
              "          element.appendChild(docLink);\n",
              "        }\n",
              "      </script>\n",
              "    </div>\n",
              "  </div>\n",
              "  "
            ]
          },
          "metadata": {},
          "execution_count": 45
        }
      ]
    },
    {
      "cell_type": "code",
      "source": [
        "pc_data.corr().round(1)"
      ],
      "metadata": {
        "colab": {
          "base_uri": "https://localhost:8080/",
          "height": 175
        },
        "id": "AO8YV7gxtsg2",
        "outputId": "eff2a0e8-86c9-432d-d033-cdee96d6307a"
      },
      "execution_count": 48,
      "outputs": [
        {
          "output_type": "execute_result",
          "data": {
            "text/plain": [
              "     pc1  pc2  pc3  pc4\n",
              "pc1  1.0 -0.0 -0.0 -0.0\n",
              "pc2 -0.0  1.0 -0.0  0.0\n",
              "pc3 -0.0 -0.0  1.0  0.0\n",
              "pc4 -0.0  0.0  0.0  1.0"
            ],
            "text/html": [
              "\n",
              "  <div id=\"df-dec22ca4-554c-4687-8db3-650b811ad3fc\">\n",
              "    <div class=\"colab-df-container\">\n",
              "      <div>\n",
              "<style scoped>\n",
              "    .dataframe tbody tr th:only-of-type {\n",
              "        vertical-align: middle;\n",
              "    }\n",
              "\n",
              "    .dataframe tbody tr th {\n",
              "        vertical-align: top;\n",
              "    }\n",
              "\n",
              "    .dataframe thead th {\n",
              "        text-align: right;\n",
              "    }\n",
              "</style>\n",
              "<table border=\"1\" class=\"dataframe\">\n",
              "  <thead>\n",
              "    <tr style=\"text-align: right;\">\n",
              "      <th></th>\n",
              "      <th>pc1</th>\n",
              "      <th>pc2</th>\n",
              "      <th>pc3</th>\n",
              "      <th>pc4</th>\n",
              "    </tr>\n",
              "  </thead>\n",
              "  <tbody>\n",
              "    <tr>\n",
              "      <th>pc1</th>\n",
              "      <td>1.0</td>\n",
              "      <td>-0.0</td>\n",
              "      <td>-0.0</td>\n",
              "      <td>-0.0</td>\n",
              "    </tr>\n",
              "    <tr>\n",
              "      <th>pc2</th>\n",
              "      <td>-0.0</td>\n",
              "      <td>1.0</td>\n",
              "      <td>-0.0</td>\n",
              "      <td>0.0</td>\n",
              "    </tr>\n",
              "    <tr>\n",
              "      <th>pc3</th>\n",
              "      <td>-0.0</td>\n",
              "      <td>-0.0</td>\n",
              "      <td>1.0</td>\n",
              "      <td>0.0</td>\n",
              "    </tr>\n",
              "    <tr>\n",
              "      <th>pc4</th>\n",
              "      <td>-0.0</td>\n",
              "      <td>0.0</td>\n",
              "      <td>0.0</td>\n",
              "      <td>1.0</td>\n",
              "    </tr>\n",
              "  </tbody>\n",
              "</table>\n",
              "</div>\n",
              "      <button class=\"colab-df-convert\" onclick=\"convertToInteractive('df-dec22ca4-554c-4687-8db3-650b811ad3fc')\"\n",
              "              title=\"Convert this dataframe to an interactive table.\"\n",
              "              style=\"display:none;\">\n",
              "        \n",
              "  <svg xmlns=\"http://www.w3.org/2000/svg\" height=\"24px\"viewBox=\"0 0 24 24\"\n",
              "       width=\"24px\">\n",
              "    <path d=\"M0 0h24v24H0V0z\" fill=\"none\"/>\n",
              "    <path d=\"M18.56 5.44l.94 2.06.94-2.06 2.06-.94-2.06-.94-.94-2.06-.94 2.06-2.06.94zm-11 1L8.5 8.5l.94-2.06 2.06-.94-2.06-.94L8.5 2.5l-.94 2.06-2.06.94zm10 10l.94 2.06.94-2.06 2.06-.94-2.06-.94-.94-2.06-.94 2.06-2.06.94z\"/><path d=\"M17.41 7.96l-1.37-1.37c-.4-.4-.92-.59-1.43-.59-.52 0-1.04.2-1.43.59L10.3 9.45l-7.72 7.72c-.78.78-.78 2.05 0 2.83L4 21.41c.39.39.9.59 1.41.59.51 0 1.02-.2 1.41-.59l7.78-7.78 2.81-2.81c.8-.78.8-2.07 0-2.86zM5.41 20L4 18.59l7.72-7.72 1.47 1.35L5.41 20z\"/>\n",
              "  </svg>\n",
              "      </button>\n",
              "      \n",
              "  <style>\n",
              "    .colab-df-container {\n",
              "      display:flex;\n",
              "      flex-wrap:wrap;\n",
              "      gap: 12px;\n",
              "    }\n",
              "\n",
              "    .colab-df-convert {\n",
              "      background-color: #E8F0FE;\n",
              "      border: none;\n",
              "      border-radius: 50%;\n",
              "      cursor: pointer;\n",
              "      display: none;\n",
              "      fill: #1967D2;\n",
              "      height: 32px;\n",
              "      padding: 0 0 0 0;\n",
              "      width: 32px;\n",
              "    }\n",
              "\n",
              "    .colab-df-convert:hover {\n",
              "      background-color: #E2EBFA;\n",
              "      box-shadow: 0px 1px 2px rgba(60, 64, 67, 0.3), 0px 1px 3px 1px rgba(60, 64, 67, 0.15);\n",
              "      fill: #174EA6;\n",
              "    }\n",
              "\n",
              "    [theme=dark] .colab-df-convert {\n",
              "      background-color: #3B4455;\n",
              "      fill: #D2E3FC;\n",
              "    }\n",
              "\n",
              "    [theme=dark] .colab-df-convert:hover {\n",
              "      background-color: #434B5C;\n",
              "      box-shadow: 0px 1px 3px 1px rgba(0, 0, 0, 0.15);\n",
              "      filter: drop-shadow(0px 1px 2px rgba(0, 0, 0, 0.3));\n",
              "      fill: #FFFFFF;\n",
              "    }\n",
              "  </style>\n",
              "\n",
              "      <script>\n",
              "        const buttonEl =\n",
              "          document.querySelector('#df-dec22ca4-554c-4687-8db3-650b811ad3fc button.colab-df-convert');\n",
              "        buttonEl.style.display =\n",
              "          google.colab.kernel.accessAllowed ? 'block' : 'none';\n",
              "\n",
              "        async function convertToInteractive(key) {\n",
              "          const element = document.querySelector('#df-dec22ca4-554c-4687-8db3-650b811ad3fc');\n",
              "          const dataTable =\n",
              "            await google.colab.kernel.invokeFunction('convertToInteractive',\n",
              "                                                     [key], {});\n",
              "          if (!dataTable) return;\n",
              "\n",
              "          const docLinkHtml = 'Like what you see? Visit the ' +\n",
              "            '<a target=\"_blank\" href=https://colab.research.google.com/notebooks/data_table.ipynb>data table notebook</a>'\n",
              "            + ' to learn more about interactive tables.';\n",
              "          element.innerHTML = '';\n",
              "          dataTable['output_type'] = 'display_data';\n",
              "          await google.colab.output.renderOutput(dataTable, element);\n",
              "          const docLink = document.createElement('div');\n",
              "          docLink.innerHTML = docLinkHtml;\n",
              "          element.appendChild(docLink);\n",
              "        }\n",
              "      </script>\n",
              "    </div>\n",
              "  </div>\n",
              "  "
            ]
          },
          "metadata": {},
          "execution_count": 48
        }
      ]
    },
    {
      "cell_type": "code",
      "source": [
        "pc.explained_variance_"
      ],
      "metadata": {
        "colab": {
          "base_uri": "https://localhost:8080/"
        },
        "id": "-4eFXAGTtxgH",
        "outputId": "124d3cc8-0ad0-4d03-8f83-9d96f5b46dd1"
      },
      "execution_count": 49,
      "outputs": [
        {
          "output_type": "execute_result",
          "data": {
            "text/plain": [
              "array([788.13026425, 468.7732102 , 399.08653867, 294.70850597])"
            ]
          },
          "metadata": {},
          "execution_count": 49
        }
      ]
    },
    {
      "cell_type": "code",
      "source": [
        "###788.13 is the highest variance , 468.773 is second highest variance ,399.08 is third highest, 294.70 is fourth one"
      ],
      "metadata": {
        "id": "MmX5_cAduI-M"
      },
      "execution_count": null,
      "outputs": []
    },
    {
      "cell_type": "code",
      "source": [
        "pc.explained_variance_ratio_  * 100"
      ],
      "metadata": {
        "colab": {
          "base_uri": "https://localhost:8080/"
        },
        "id": "ocIFaJChuz-u",
        "outputId": "c8a35986-30d4-4757-9bd7-81a811121481"
      },
      "execution_count": 50,
      "outputs": [
        {
          "output_type": "execute_result",
          "data": {
            "text/plain": [
              "array([11.35894186,  6.75620247,  5.75184204,  4.24749174])"
            ]
          },
          "metadata": {},
          "execution_count": 50
        }
      ]
    },
    {
      "cell_type": "code",
      "source": [
        "## 1 PC containing 11 percentage of data, 2nd  pc containing 6 percentage ,3 pc containing 5 percentage of data and so on"
      ],
      "metadata": {
        "id": "w-yZZF9Gu3I6"
      },
      "execution_count": null,
      "outputs": []
    },
    {
      "cell_type": "code",
      "source": [
        "plt.plot([1,2,3,4], pc.explained_variance_ratio_  * 100, \"-o\")\n",
        "plt.show()"
      ],
      "metadata": {
        "colab": {
          "base_uri": "https://localhost:8080/",
          "height": 430
        },
        "id": "f558baY8v_vH",
        "outputId": "055ca9b4-c9dc-4f8a-fb0f-0ecaca65a349"
      },
      "execution_count": 52,
      "outputs": [
        {
          "output_type": "display_data",
          "data": {
            "text/plain": [
              "<Figure size 640x480 with 1 Axes>"
            ],
            "image/png": "[encoded data removed]"
          },
          "metadata": {}
        }
      ]
    },
    {
      "cell_type": "code",
      "source": [
        "pc_data.describe()"
      ],
      "metadata": {
        "colab": {
          "base_uri": "https://localhost:8080/",
          "height": 300
        },
        "id": "LYqxU5bxwJy9",
        "outputId": "6167e306-59ca-40b6-cc37-f2f752313eb5"
      },
      "execution_count": 53,
      "outputs": [
        {
          "output_type": "execute_result",
          "data": {
            "text/plain": [
              "                pc1           pc2           pc3           pc4\n",
              "count  6.400000e+01  6.400000e+01  6.400000e+01  6.400000e+01\n",
              "mean   1.637579e-15  5.551115e-16  2.220446e-16  4.440892e-16\n",
              "std    2.807366e+01  2.165117e+01  1.997715e+01  1.716708e+01\n",
              "min   -5.541853e+01 -2.578928e+01 -4.011380e+01 -2.923324e+01\n",
              "25%   -1.988925e+01 -1.452286e+01 -1.364995e+01 -1.096345e+01\n",
              "50%   -5.126790e+00 -6.282855e+00  2.269859e+00 -3.410189e+00\n",
              "75%    1.864320e+01  5.602480e+00  9.807021e+00  6.994359e+00\n",
              "max    6.977791e+01  6.105764e+01  4.688955e+01  5.454361e+01"
            ],
            "text/html": [
              "\n",
              "  <div id=\"df-6c276591-050d-4e92-b15c-d4b009cee018\">\n",
              "    <div class=\"colab-df-container\">\n",
              "      <div>\n",
              "<style scoped>\n",
              "    .dataframe tbody tr th:only-of-type {\n",
              "        vertical-align: middle;\n",
              "    }\n",
              "\n",
              "    .dataframe tbody tr th {\n",
              "        vertical-align: top;\n",
              "    }\n",
              "\n",
              "    .dataframe thead th {\n",
              "        text-align: right;\n",
              "    }\n",
              "</style>\n",
              "<table border=\"1\" class=\"dataframe\">\n",
              "  <thead>\n",
              "    <tr style=\"text-align: right;\">\n",
              "      <th></th>\n",
              "      <th>pc1</th>\n",
              "      <th>pc2</th>\n",
              "      <th>pc3</th>\n",
              "      <th>pc4</th>\n",
              "    </tr>\n",
              "  </thead>\n",
              "  <tbody>\n",
              "    <tr>\n",
              "      <th>count</th>\n",
              "      <td>6.400000e+01</td>\n",
              "      <td>6.400000e+01</td>\n",
              "      <td>6.400000e+01</td>\n",
              "      <td>6.400000e+01</td>\n",
              "    </tr>\n",
              "    <tr>\n",
              "      <th>mean</th>\n",
              "      <td>1.637579e-15</td>\n",
              "      <td>5.551115e-16</td>\n",
              "      <td>2.220446e-16</td>\n",
              "      <td>4.440892e-16</td>\n",
              "    </tr>\n",
              "    <tr>\n",
              "      <th>std</th>\n",
              "      <td>2.807366e+01</td>\n",
              "      <td>2.165117e+01</td>\n",
              "      <td>1.997715e+01</td>\n",
              "      <td>1.716708e+01</td>\n",
              "    </tr>\n",
              "    <tr>\n",
              "      <th>min</th>\n",
              "      <td>-5.541853e+01</td>\n",
              "      <td>-2.578928e+01</td>\n",
              "      <td>-4.011380e+01</td>\n",
              "      <td>-2.923324e+01</td>\n",
              "    </tr>\n",
              "    <tr>\n",
              "      <th>25%</th>\n",
              "      <td>-1.988925e+01</td>\n",
              "      <td>-1.452286e+01</td>\n",
              "      <td>-1.364995e+01</td>\n",
              "      <td>-1.096345e+01</td>\n",
              "    </tr>\n",
              "    <tr>\n",
              "      <th>50%</th>\n",
              "      <td>-5.126790e+00</td>\n",
              "      <td>-6.282855e+00</td>\n",
              "      <td>2.269859e+00</td>\n",
              "      <td>-3.410189e+00</td>\n",
              "    </tr>\n",
              "    <tr>\n",
              "      <th>75%</th>\n",
              "      <td>1.864320e+01</td>\n",
              "      <td>5.602480e+00</td>\n",
              "      <td>9.807021e+00</td>\n",
              "      <td>6.994359e+00</td>\n",
              "    </tr>\n",
              "    <tr>\n",
              "      <th>max</th>\n",
              "      <td>6.977791e+01</td>\n",
              "      <td>6.105764e+01</td>\n",
              "      <td>4.688955e+01</td>\n",
              "      <td>5.454361e+01</td>\n",
              "    </tr>\n",
              "  </tbody>\n",
              "</table>\n",
              "</div>\n",
              "      <button class=\"colab-df-convert\" onclick=\"convertToInteractive('df-6c276591-050d-4e92-b15c-d4b009cee018')\"\n",
              "              title=\"Convert this dataframe to an interactive table.\"\n",
              "              style=\"display:none;\">\n",
              "        \n",
              "  <svg xmlns=\"http://www.w3.org/2000/svg\" height=\"24px\"viewBox=\"0 0 24 24\"\n",
              "       width=\"24px\">\n",
              "    <path d=\"M0 0h24v24H0V0z\" fill=\"none\"/>\n",
              "    <path d=\"M18.56 5.44l.94 2.06.94-2.06 2.06-.94-2.06-.94-.94-2.06-.94 2.06-2.06.94zm-11 1L8.5 8.5l.94-2.06 2.06-.94-2.06-.94L8.5 2.5l-.94 2.06-2.06.94zm10 10l.94 2.06.94-2.06 2.06-.94-2.06-.94-.94-2.06-.94 2.06-2.06.94z\"/><path d=\"M17.41 7.96l-1.37-1.37c-.4-.4-.92-.59-1.43-.59-.52 0-1.04.2-1.43.59L10.3 9.45l-7.72 7.72c-.78.78-.78 2.05 0 2.83L4 21.41c.39.39.9.59 1.41.59.51 0 1.02-.2 1.41-.59l7.78-7.78 2.81-2.81c.8-.78.8-2.07 0-2.86zM5.41 20L4 18.59l7.72-7.72 1.47 1.35L5.41 20z\"/>\n",
              "  </svg>\n",
              "      </button>\n",
              "      \n",
              "  <style>\n",
              "    .colab-df-container {\n",
              "      display:flex;\n",
              "      flex-wrap:wrap;\n",
              "      gap: 12px;\n",
              "    }\n",
              "\n",
              "    .colab-df-convert {\n",
              "      background-color: #E8F0FE;\n",
              "      border: none;\n",
              "      border-radius: 50%;\n",
              "      cursor: pointer;\n",
              "      display: none;\n",
              "      fill: #1967D2;\n",
              "      height: 32px;\n",
              "      padding: 0 0 0 0;\n",
              "      width: 32px;\n",
              "    }\n",
              "\n",
              "    .colab-df-convert:hover {\n",
              "      background-color: #E2EBFA;\n",
              "      box-shadow: 0px 1px 2px rgba(60, 64, 67, 0.3), 0px 1px 3px 1px rgba(60, 64, 67, 0.15);\n",
              "      fill: #174EA6;\n",
              "    }\n",
              "\n",
              "    [theme=dark] .colab-df-convert {\n",
              "      background-color: #3B4455;\n",
              "      fill: #D2E3FC;\n",
              "    }\n",
              "\n",
              "    [theme=dark] .colab-df-convert:hover {\n",
              "      background-color: #434B5C;\n",
              "      box-shadow: 0px 1px 3px 1px rgba(0, 0, 0, 0.15);\n",
              "      filter: drop-shadow(0px 1px 2px rgba(0, 0, 0, 0.3));\n",
              "      fill: #FFFFFF;\n",
              "    }\n",
              "  </style>\n",
              "\n",
              "      <script>\n",
              "        const buttonEl =\n",
              "          document.querySelector('#df-6c276591-050d-4e92-b15c-d4b009cee018 button.colab-df-convert');\n",
              "        buttonEl.style.display =\n",
              "          google.colab.kernel.accessAllowed ? 'block' : 'none';\n",
              "\n",
              "        async function convertToInteractive(key) {\n",
              "          const element = document.querySelector('#df-6c276591-050d-4e92-b15c-d4b009cee018');\n",
              "          const dataTable =\n",
              "            await google.colab.kernel.invokeFunction('convertToInteractive',\n",
              "                                                     [key], {});\n",
              "          if (!dataTable) return;\n",
              "\n",
              "          const docLinkHtml = 'Like what you see? Visit the ' +\n",
              "            '<a target=\"_blank\" href=https://colab.research.google.com/notebooks/data_table.ipynb>data table notebook</a>'\n",
              "            + ' to learn more about interactive tables.';\n",
              "          element.innerHTML = '';\n",
              "          dataTable['output_type'] = 'display_data';\n",
              "          await google.colab.output.renderOutput(dataTable, element);\n",
              "          const docLink = document.createElement('div');\n",
              "          docLink.innerHTML = docLinkHtml;\n",
              "          element.appendChild(docLink);\n",
              "        }\n",
              "      </script>\n",
              "    </div>\n",
              "  </div>\n",
              "  "
            ]
          },
          "metadata": {},
          "execution_count": 53
        }
      ]
    },
    {
      "cell_type": "code",
      "source": [
        "km = KMeans(n_clusters = 5, n_init = 20)"
      ],
      "metadata": {
        "id": "RSHpJEbdyS64"
      },
      "execution_count": 56,
      "outputs": []
    },
    {
      "cell_type": "code",
      "source": [
        "km.fit(pc_data)"
      ],
      "metadata": {
        "colab": {
          "base_uri": "https://localhost:8080/",
          "height": 74
        },
        "id": "mYmw4R8Nydvk",
        "outputId": "4a37dc32-fb85-4332-8926-41a6547286ba"
      },
      "execution_count": 57,
      "outputs": [
        {
          "output_type": "execute_result",
          "data": {
            "text/plain": [
              "KMeans(n_clusters=5, n_init=20)"
            ],
            "text/html": [
              "<style>#sk-container-id-2 {color: black;background-color: white;}#sk-container-id-2 pre{padding: 0;}#sk-container-id-2 div.sk-toggleable {background-color: white;}#sk-container-id-2 label.sk-toggleable__label {cursor: pointer;display: block;width: 100%;margin-bottom: 0;padding: 0.3em;box-sizing: border-box;text-align: center;}#sk-container-id-2 label.sk-toggleable__label-arrow:before {content: \"▸\";float: left;margin-right: 0.25em;color: #696969;}#sk-container-id-2 label.sk-toggleable__label-arrow:hover:before {color: black;}#sk-container-id-2 div.sk-estimator:hover label.sk-toggleable__label-arrow:before {color: black;}#sk-container-id-2 div.sk-toggleable__content {max-height: 0;max-width: 0;overflow: hidden;text-align: left;background-color: #f0f8ff;}#sk-container-id-2 div.sk-toggleable__content pre {margin: 0.2em;color: black;border-radius: 0.25em;background-color: #f0f8ff;}#sk-container-id-2 input.sk-toggleable__control:checked~div.sk-toggleable__content {max-height: 200px;max-width: 100%;overflow: auto;}#sk-container-id-2 input.sk-toggleable__control:checked~label.sk-toggleable__label-arrow:before {content: \"▾\";}#sk-container-id-2 div.sk-estimator input.sk-toggleable__control:checked~label.sk-toggleable__label {background-color: #d4ebff;}#sk-container-id-2 div.sk-label input.sk-toggleable__control:checked~label.sk-toggleable__label {background-color: #d4ebff;}#sk-container-id-2 input.sk-hidden--visually {border: 0;clip: rect(1px 1px 1px 1px);clip: rect(1px, 1px, 1px, 1px);height: 1px;margin: -1px;overflow: hidden;padding: 0;position: absolute;width: 1px;}#sk-container-id-2 div.sk-estimator {font-family: monospace;background-color: #f0f8ff;border: 1px dotted black;border-radius: 0.25em;box-sizing: border-box;margin-bottom: 0.5em;}#sk-container-id-2 div.sk-estimator:hover {background-color: #d4ebff;}#sk-container-id-2 div.sk-parallel-item::after {content: \"\";width: 100%;border-bottom: 1px solid gray;flex-grow: 1;}#sk-container-id-2 div.sk-label:hover label.sk-toggleable__label {background-color: #d4ebff;}#sk-container-id-2 div.sk-serial::before {content: \"\";position: absolute;border-left: 1px solid gray;box-sizing: border-box;top: 0;bottom: 0;left: 50%;z-index: 0;}#sk-container-id-2 div.sk-serial {display: flex;flex-direction: column;align-items: center;background-color: white;padding-right: 0.2em;padding-left: 0.2em;position: relative;}#sk-container-id-2 div.sk-item {position: relative;z-index: 1;}#sk-container-id-2 div.sk-parallel {display: flex;align-items: stretch;justify-content: center;background-color: white;position: relative;}#sk-container-id-2 div.sk-item::before, #sk-container-id-2 div.sk-parallel-item::before {content: \"\";position: absolute;border-left: 1px solid gray;box-sizing: border-box;top: 0;bottom: 0;left: 50%;z-index: -1;}#sk-container-id-2 div.sk-parallel-item {display: flex;flex-direction: column;z-index: 1;position: relative;background-color: white;}#sk-container-id-2 div.sk-parallel-item:first-child::after {align-self: flex-end;width: 50%;}#sk-container-id-2 div.sk-parallel-item:last-child::after {align-self: flex-start;width: 50%;}#sk-container-id-2 div.sk-parallel-item:only-child::after {width: 0;}#sk-container-id-2 div.sk-dashed-wrapped {border: 1px dashed gray;margin: 0 0.4em 0.5em 0.4em;box-sizing: border-box;padding-bottom: 0.4em;background-color: white;}#sk-container-id-2 div.sk-label label {font-family: monospace;font-weight: bold;display: inline-block;line-height: 1.2em;}#sk-container-id-2 div.sk-label-container {text-align: center;}#sk-container-id-2 div.sk-container {/* jupyter's `normalize.less` sets `[hidden] { display: none; }` but bootstrap.min.css set `[hidden] { display: none !important; }` so we also need the `!important` here to be able to override the default hidden behavior on the sphinx rendered scikit-learn.org. See: https://github.com/scikit-learn/scikit-learn/issues/21755 */display: inline-block !important;position: relative;}#sk-container-id-2 div.sk-text-repr-fallback {display: none;}</style><div id=\"sk-container-id-2\" class=\"sk-top-container\"><div class=\"sk-text-repr-fallback\"><pre>KMeans(n_clusters=5, n_init=20)</pre><b>In a Jupyter environment, please rerun this cell to show the HTML representation or trust the notebook. <br />On GitHub, the HTML representation is unable to render, please try loading this page with nbviewer.org.</b></div><div class=\"sk-container\" hidden><div class=\"sk-item\"><div class=\"sk-estimator sk-toggleable\"><input class=\"sk-toggleable__control sk-hidden--visually\" id=\"sk-estimator-id-2\" type=\"checkbox\" checked><label for=\"sk-estimator-id-2\" class=\"sk-toggleable__label sk-toggleable__label-arrow\">KMeans</label><div class=\"sk-toggleable__content\"><pre>KMeans(n_clusters=5, n_init=20)</pre></div></div></div></div></div>"
            ]
          },
          "metadata": {},
          "execution_count": 57
        }
      ]
    },
    {
      "cell_type": "code",
      "source": [
        "cluster_labels = km.predict(pc_data)"
      ],
      "metadata": {
        "id": "1_VrFlmDyz0-"
      },
      "execution_count": 60,
      "outputs": []
    },
    {
      "cell_type": "code",
      "source": [
        "cluster_labels"
      ],
      "metadata": {
        "colab": {
          "base_uri": "https://localhost:8080/"
        },
        "id": "SK7B8DJjy22o",
        "outputId": "2e9dd65b-f36c-4504-c599-c52debb7cf81"
      },
      "execution_count": 61,
      "outputs": [
        {
          "output_type": "execute_result",
          "data": {
            "text/plain": [
              "array([0, 0, 0, 0, 0, 0, 0, 0, 0, 0, 0, 0, 0, 0, 0, 0, 0, 0, 0, 0, 0, 0,\n",
              "       0, 1, 1, 1, 1, 0, 1, 0, 0, 1, 1, 2, 2, 2, 2, 2, 2, 2, 2, 1, 1, 1,\n",
              "       1, 1, 1, 1, 4, 4, 4, 4, 1, 1, 0, 3, 3, 3, 3, 3, 3, 3, 3, 3],\n",
              "      dtype=int32)"
            ]
          },
          "metadata": {},
          "execution_count": 61
        }
      ]
    },
    {
      "cell_type": "code",
      "source": [
        "pd.Series(cluster_labels).value_counts()"
      ],
      "metadata": {
        "colab": {
          "base_uri": "https://localhost:8080/"
        },
        "id": "hxWyprEQy96M",
        "outputId": "00038bb2-e097-40d8-bda8-25c34fc420dd"
      },
      "execution_count": 62,
      "outputs": [
        {
          "output_type": "execute_result",
          "data": {
            "text/plain": [
              "0    27\n",
              "1    16\n",
              "3     9\n",
              "2     8\n",
              "4     4\n",
              "dtype: int64"
            ]
          },
          "metadata": {},
          "execution_count": 62
        }
      ]
    },
    {
      "cell_type": "code",
      "source": [
        "pc_data"
      ],
      "metadata": {
        "colab": {
          "base_uri": "https://localhost:8080/",
          "height": 423
        },
        "id": "smehosSFzJ2U",
        "outputId": "28905016-768d-43bb-b731-30469328824a"
      },
      "execution_count": 63,
      "outputs": [
        {
          "output_type": "execute_result",
          "data": {
            "text/plain": [
              "          pc1        pc2        pc3        pc4\n",
              "0  -19.838082  -3.556792  -9.814114  -0.763571\n",
              "1  -23.089206  -6.441062 -13.484088   5.629121\n",
              "2  -27.456150  -2.465684  -3.533694  -1.302945\n",
              "3  -42.816844   9.767072  -0.887348   3.488058\n",
              "4  -55.418529   5.199444 -21.093262  15.827977\n",
              "..        ...        ...        ...        ...\n",
              "59 -17.996308  47.240801   5.400729 -17.312682\n",
              "60  -4.415545  42.308917   8.715650  -2.758572\n",
              "61 -22.967028  36.101531  18.116052  -7.532827\n",
              "62 -19.176102  50.395735   4.213129  -2.915702\n",
              "63 -13.232916  35.123698   3.435134  -2.096009\n",
              "\n",
              "[64 rows x 4 columns]"
            ],
            "text/html": [
              "\n",
              "  <div id=\"df-82d95012-19ba-479a-98e9-49e0a8e714f6\">\n",
              "    <div class=\"colab-df-container\">\n",
              "      <div>\n",
              "<style scoped>\n",
              "    .dataframe tbody tr th:only-of-type {\n",
              "        vertical-align: middle;\n",
              "    }\n",
              "\n",
              "    .dataframe tbody tr th {\n",
              "        vertical-align: top;\n",
              "    }\n",
              "\n",
              "    .dataframe thead th {\n",
              "        text-align: right;\n",
              "    }\n",
              "</style>\n",
              "<table border=\"1\" class=\"dataframe\">\n",
              "  <thead>\n",
              "    <tr style=\"text-align: right;\">\n",
              "      <th></th>\n",
              "      <th>pc1</th>\n",
              "      <th>pc2</th>\n",
              "      <th>pc3</th>\n",
              "      <th>pc4</th>\n",
              "    </tr>\n",
              "  </thead>\n",
              "  <tbody>\n",
              "    <tr>\n",
              "      <th>0</th>\n",
              "      <td>-19.838082</td>\n",
              "      <td>-3.556792</td>\n",
              "      <td>-9.814114</td>\n",
              "      <td>-0.763571</td>\n",
              "    </tr>\n",
              "    <tr>\n",
              "      <th>1</th>\n",
              "      <td>-23.089206</td>\n",
              "      <td>-6.441062</td>\n",
              "      <td>-13.484088</td>\n",
              "      <td>5.629121</td>\n",
              "    </tr>\n",
              "    <tr>\n",
              "      <th>2</th>\n",
              "      <td>-27.456150</td>\n",
              "      <td>-2.465684</td>\n",
              "      <td>-3.533694</td>\n",
              "      <td>-1.302945</td>\n",
              "    </tr>\n",
              "    <tr>\n",
              "      <th>3</th>\n",
              "      <td>-42.816844</td>\n",
              "      <td>9.767072</td>\n",
              "      <td>-0.887348</td>\n",
              "      <td>3.488058</td>\n",
              "    </tr>\n",
              "    <tr>\n",
              "      <th>4</th>\n",
              "      <td>-55.418529</td>\n",
              "      <td>5.199444</td>\n",
              "      <td>-21.093262</td>\n",
              "      <td>15.827977</td>\n",
              "    </tr>\n",
              "    <tr>\n",
              "      <th>...</th>\n",
              "      <td>...</td>\n",
              "      <td>...</td>\n",
              "      <td>...</td>\n",
              "      <td>...</td>\n",
              "    </tr>\n",
              "    <tr>\n",
              "      <th>59</th>\n",
              "      <td>-17.996308</td>\n",
              "      <td>47.240801</td>\n",
              "      <td>5.400729</td>\n",
              "      <td>-17.312682</td>\n",
              "    </tr>\n",
              "    <tr>\n",
              "      <th>60</th>\n",
              "      <td>-4.415545</td>\n",
              "      <td>42.308917</td>\n",
              "      <td>8.715650</td>\n",
              "      <td>-2.758572</td>\n",
              "    </tr>\n",
              "    <tr>\n",
              "      <th>61</th>\n",
              "      <td>-22.967028</td>\n",
              "      <td>36.101531</td>\n",
              "      <td>18.116052</td>\n",
              "      <td>-7.532827</td>\n",
              "    </tr>\n",
              "    <tr>\n",
              "      <th>62</th>\n",
              "      <td>-19.176102</td>\n",
              "      <td>50.395735</td>\n",
              "      <td>4.213129</td>\n",
              "      <td>-2.915702</td>\n",
              "    </tr>\n",
              "    <tr>\n",
              "      <th>63</th>\n",
              "      <td>-13.232916</td>\n",
              "      <td>35.123698</td>\n",
              "      <td>3.435134</td>\n",
              "      <td>-2.096009</td>\n",
              "    </tr>\n",
              "  </tbody>\n",
              "</table>\n",
              "<p>64 rows × 4 columns</p>\n",
              "</div>\n",
              "      <button class=\"colab-df-convert\" onclick=\"convertToInteractive('df-82d95012-19ba-479a-98e9-49e0a8e714f6')\"\n",
              "              title=\"Convert this dataframe to an interactive table.\"\n",
              "              style=\"display:none;\">\n",
              "        \n",
              "  <svg xmlns=\"http://www.w3.org/2000/svg\" height=\"24px\"viewBox=\"0 0 24 24\"\n",
              "       width=\"24px\">\n",
              "    <path d=\"M0 0h24v24H0V0z\" fill=\"none\"/>\n",
              "    <path d=\"M18.56 5.44l.94 2.06.94-2.06 2.06-.94-2.06-.94-.94-2.06-.94 2.06-2.06.94zm-11 1L8.5 8.5l.94-2.06 2.06-.94-2.06-.94L8.5 2.5l-.94 2.06-2.06.94zm10 10l.94 2.06.94-2.06 2.06-.94-2.06-.94-.94-2.06-.94 2.06-2.06.94z\"/><path d=\"M17.41 7.96l-1.37-1.37c-.4-.4-.92-.59-1.43-.59-.52 0-1.04.2-1.43.59L10.3 9.45l-7.72 7.72c-.78.78-.78 2.05 0 2.83L4 21.41c.39.39.9.59 1.41.59.51 0 1.02-.2 1.41-.59l7.78-7.78 2.81-2.81c.8-.78.8-2.07 0-2.86zM5.41 20L4 18.59l7.72-7.72 1.47 1.35L5.41 20z\"/>\n",
              "  </svg>\n",
              "      </button>\n",
              "      \n",
              "  <style>\n",
              "    .colab-df-container {\n",
              "      display:flex;\n",
              "      flex-wrap:wrap;\n",
              "      gap: 12px;\n",
              "    }\n",
              "\n",
              "    .colab-df-convert {\n",
              "      background-color: #E8F0FE;\n",
              "      border: none;\n",
              "      border-radius: 50%;\n",
              "      cursor: pointer;\n",
              "      display: none;\n",
              "      fill: #1967D2;\n",
              "      height: 32px;\n",
              "      padding: 0 0 0 0;\n",
              "      width: 32px;\n",
              "    }\n",
              "\n",
              "    .colab-df-convert:hover {\n",
              "      background-color: #E2EBFA;\n",
              "      box-shadow: 0px 1px 2px rgba(60, 64, 67, 0.3), 0px 1px 3px 1px rgba(60, 64, 67, 0.15);\n",
              "      fill: #174EA6;\n",
              "    }\n",
              "\n",
              "    [theme=dark] .colab-df-convert {\n",
              "      background-color: #3B4455;\n",
              "      fill: #D2E3FC;\n",
              "    }\n",
              "\n",
              "    [theme=dark] .colab-df-convert:hover {\n",
              "      background-color: #434B5C;\n",
              "      box-shadow: 0px 1px 3px 1px rgba(0, 0, 0, 0.15);\n",
              "      filter: drop-shadow(0px 1px 2px rgba(0, 0, 0, 0.3));\n",
              "      fill: #FFFFFF;\n",
              "    }\n",
              "  </style>\n",
              "\n",
              "      <script>\n",
              "        const buttonEl =\n",
              "          document.querySelector('#df-82d95012-19ba-479a-98e9-49e0a8e714f6 button.colab-df-convert');\n",
              "        buttonEl.style.display =\n",
              "          google.colab.kernel.accessAllowed ? 'block' : 'none';\n",
              "\n",
              "        async function convertToInteractive(key) {\n",
              "          const element = document.querySelector('#df-82d95012-19ba-479a-98e9-49e0a8e714f6');\n",
              "          const dataTable =\n",
              "            await google.colab.kernel.invokeFunction('convertToInteractive',\n",
              "                                                     [key], {});\n",
              "          if (!dataTable) return;\n",
              "\n",
              "          const docLinkHtml = 'Like what you see? Visit the ' +\n",
              "            '<a target=\"_blank\" href=https://colab.research.google.com/notebooks/data_table.ipynb>data table notebook</a>'\n",
              "            + ' to learn more about interactive tables.';\n",
              "          element.innerHTML = '';\n",
              "          dataTable['output_type'] = 'display_data';\n",
              "          await google.colab.output.renderOutput(dataTable, element);\n",
              "          const docLink = document.createElement('div');\n",
              "          docLink.innerHTML = docLinkHtml;\n",
              "          element.appendChild(docLink);\n",
              "        }\n",
              "      </script>\n",
              "    </div>\n",
              "  </div>\n",
              "  "
            ]
          },
          "metadata": {},
          "execution_count": 63
        }
      ]
    },
    {
      "cell_type": "code",
      "source": [
        "km.inertia_"
      ],
      "metadata": {
        "colab": {
          "base_uri": "https://localhost:8080/"
        },
        "id": "rWr8kAGhzLgM",
        "outputId": "b56095de-ef43-4ed2-a8ca-7eda2eb10cbf"
      },
      "execution_count": 64,
      "outputs": [
        {
          "output_type": "execute_result",
          "data": {
            "text/plain": [
              "29479.794927826435"
            ]
          },
          "metadata": {},
          "execution_count": 64
        }
      ]
    },
    {
      "cell_type": "code",
      "source": [
        "inertia_list = []\n",
        "\n",
        "\n",
        "for i in range(1,11):\n",
        "  km = KMeans(n_clusters = i, n_init = 20)\n",
        "  km.fit(pc_data)\n",
        "  inertia = km.inertia_\n",
        "  inertia_list.append(inertia)"
      ],
      "metadata": {
        "id": "Bls2pI0OzTVs"
      },
      "execution_count": 65,
      "outputs": []
    },
    {
      "cell_type": "code",
      "source": [
        "inertia_list"
      ],
      "metadata": {
        "colab": {
          "base_uri": "https://localhost:8080/"
        },
        "id": "35hfJT9AzXX7",
        "outputId": "057b6054-75da-44ba-a22d-eef444afcffd"
      },
      "execution_count": 66,
      "outputs": [
        {
          "output_type": "execute_result",
          "data": {
            "text/plain": [
              "[122894.00670252832,\n",
              " 86376.22357188453,\n",
              " 61264.69181591437,\n",
              " 41846.081812811375,\n",
              " 29464.72739938288,\n",
              " 22819.806809683723,\n",
              " 19634.181114289608,\n",
              " 16912.48831497932,\n",
              " 14768.125605028632,\n",
              " 13487.063694196206]"
            ]
          },
          "metadata": {},
          "execution_count": 66
        }
      ]
    },
    {
      "cell_type": "markdown",
      "source": [
        "# **elbow method**"
      ],
      "metadata": {
        "id": "FRiwOuxHzb6_"
      }
    },
    {
      "cell_type": "code",
      "source": [
        "plt.plot(range(1,11), inertia_list)\n",
        "plt.xlabel(\"Number of clusters\")\n",
        "plt.ylabel(\"Inertia\")\n",
        "plt.show();"
      ],
      "metadata": {
        "colab": {
          "base_uri": "https://localhost:8080/",
          "height": 449
        },
        "id": "E645oH9szg8_",
        "outputId": "dd8705b0-45da-4e67-ede6-5da5931ba22d"
      },
      "execution_count": 67,
      "outputs": [
        {
          "output_type": "display_data",
          "data": {
            "text/plain": [
              "<Figure size 640x480 with 1 Axes>"
            ],
            "image/png": "[encoded data removed]"
          },
          "metadata": {}
        }
      ]
    }
  ],
  "metadata": {
    "colab": {
      "provenance": []
    },
    "kernelspec": {
      "display_name": "Python 3",
      "name": "python3"
    },
    "language_info": {
      "name": "python"
    }
  },
  "nbformat": 4,
  "nbformat_minor": 0
}
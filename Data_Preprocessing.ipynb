{
  "nbformat": 4,
  "nbformat_minor": 0,
  "metadata": {
    "colab": {
      "provenance": []
    },
    "kernelspec": {
      "name": "python3",
      "display_name": "Python 3"
    },
    "language_info": {
      "name": "python"
    }
  },
  "cells": [
    {
      "cell_type": "code",
      "source": [
        "import pandas as pd\n",
        "import numpy as np\n",
        "import matplotlib.pyplot as plt\n",
        "import seaborn as sns"
      ],
      "metadata": {
        "id": "agqlnoSiQTHm"
      },
      "execution_count": 135,
      "outputs": []
    },
    {
      "cell_type": "code",
      "source": [
        "df = pd.read_csv(\"/content/diamonds_new (1).csv\")\n"
      ],
      "metadata": {
        "id": "3aTSlzo_SXqi"
      },
      "execution_count": 136,
      "outputs": []
    },
    {
      "cell_type": "code",
      "source": [
        "df.info()"
      ],
      "metadata": {
        "colab": {
          "base_uri": "https://localhost:8080/"
        },
        "id": "p_4d931mSkql",
        "outputId": "f92ecb8f-6e2a-4777-d874-5eae622fdc66"
      },
      "execution_count": 137,
      "outputs": [
        {
          "output_type": "stream",
          "name": "stdout",
          "text": [
            "<class 'pandas.core.frame.DataFrame'>\n",
            "RangeIndex: 53940 entries, 0 to 53939\n",
            "Data columns (total 9 columns):\n",
            " #   Column     Non-Null Count  Dtype  \n",
            "---  ------     --------------  -----  \n",
            " 0   carat      53841 non-null  float64\n",
            " 1   cut        53940 non-null  object \n",
            " 2   color      53884 non-null  object \n",
            " 3   clarity    53940 non-null  object \n",
            " 4   table      53877 non-null  float64\n",
            " 5   x          53940 non-null  float64\n",
            " 6   y          53940 non-null  float64\n",
            " 7   z          53940 non-null  float64\n",
            " 8   price_new  53940 non-null  float64\n",
            "dtypes: float64(6), object(3)\n",
            "memory usage: 3.7+ MB\n"
          ]
        }
      ]
    },
    {
      "cell_type": "markdown",
      "source": [
        "## **HANDLE MISSING VALUE**"
      ],
      "metadata": {
        "id": "898lqcn-qIYH"
      }
    },
    {
      "cell_type": "code",
      "source": [
        "df.isna().sum()"
      ],
      "metadata": {
        "colab": {
          "base_uri": "https://localhost:8080/"
        },
        "id": "DZaUqI9fSsRE",
        "outputId": "f2f26e55-ff4e-4729-9b4e-ad0f794b27c6"
      },
      "execution_count": 139,
      "outputs": [
        {
          "output_type": "execute_result",
          "data": {
            "text/plain": [
              "carat        99\n",
              "cut           0\n",
              "color        56\n",
              "clarity       0\n",
              "table        63\n",
              "x             0\n",
              "y             0\n",
              "z             0\n",
              "price_new     0\n",
              "dtype: int64"
            ]
          },
          "metadata": {},
          "execution_count": 139
        }
      ]
    },
    {
      "cell_type": "code",
      "source": [
        "df['carat'].hist()"
      ],
      "metadata": {
        "colab": {
          "base_uri": "https://localhost:8080/",
          "height": 447
        },
        "id": "AxGJM2o4TC1H",
        "outputId": "d8c10ac0-830e-4363-ca7d-0fb3c42ecaaf"
      },
      "execution_count": 140,
      "outputs": [
        {
          "output_type": "execute_result",
          "data": {
            "text/plain": [
              "<Axes: >"
            ]
          },
          "metadata": {},
          "execution_count": 140
        },
        {
          "output_type": "display_data",
          "data": {
            "text/plain": [
              "<Figure size 640x480 with 1 Axes>"
            ],
            "image/png": "[encoded data removed]"
          },
          "metadata": {}
        }
      ]
    },
    {
      "cell_type": "code",
      "source": [
        "df['table'].hist()"
      ],
      "metadata": {
        "colab": {
          "base_uri": "https://localhost:8080/",
          "height": 447
        },
        "id": "bXMi70W1THLM",
        "outputId": "f62d7680-4c14-4380-a0da-262532a45b5f"
      },
      "execution_count": 141,
      "outputs": [
        {
          "output_type": "execute_result",
          "data": {
            "text/plain": [
              "<Axes: >"
            ]
          },
          "metadata": {},
          "execution_count": 141
        },
        {
          "output_type": "display_data",
          "data": {
            "text/plain": [
              "<Figure size 640x480 with 1 Axes>"
            ],
            "image/png": "[encoded data removed]"
          },
          "metadata": {}
        }
      ]
    },
    {
      "cell_type": "code",
      "source": [
        "df['carat']=df['carat'].fillna(df['carat'].median())\n",
        "df['table']=df['table'].fillna(df['table'].median())\n",
        "df['color']=df['color'].fillna(\"G\")\n"
      ],
      "metadata": {
        "id": "Pr_iwX5vUPvr"
      },
      "execution_count": 142,
      "outputs": []
    },
    {
      "cell_type": "code",
      "source": [
        "df.isna().sum()"
      ],
      "metadata": {
        "colab": {
          "base_uri": "https://localhost:8080/"
        },
        "id": "d9oPuq6iVK9b",
        "outputId": "7cf9db70-6d10-4924-c665-8e0e4a227362"
      },
      "execution_count": 143,
      "outputs": [
        {
          "output_type": "execute_result",
          "data": {
            "text/plain": [
              "carat        0\n",
              "cut          0\n",
              "color        0\n",
              "clarity      0\n",
              "table        0\n",
              "x            0\n",
              "y            0\n",
              "z            0\n",
              "price_new    0\n",
              "dtype: int64"
            ]
          },
          "metadata": {},
          "execution_count": 143
        }
      ]
    },
    {
      "cell_type": "markdown",
      "source": [
        "# **OUTLIERS DETECTION**"
      ],
      "metadata": {
        "id": "vmafaLr7p8sG"
      }
    },
    {
      "cell_type": "code",
      "source": [
        "df.dtypes"
      ],
      "metadata": {
        "colab": {
          "base_uri": "https://localhost:8080/"
        },
        "id": "H3kIdt6CWkz8",
        "outputId": "509a0b2a-b324-4cae-c7c5-00d49145e0f3"
      },
      "execution_count": 145,
      "outputs": [
        {
          "output_type": "execute_result",
          "data": {
            "text/plain": [
              "carat        float64\n",
              "cut           object\n",
              "color         object\n",
              "clarity       object\n",
              "table        float64\n",
              "x            float64\n",
              "y            float64\n",
              "z            float64\n",
              "price_new    float64\n",
              "dtype: object"
            ]
          },
          "metadata": {},
          "execution_count": 145
        }
      ]
    },
    {
      "cell_type": "code",
      "source": [
        "df['x'].describe()"
      ],
      "metadata": {
        "colab": {
          "base_uri": "https://localhost:8080/"
        },
        "id": "vWbf0R-kVsRS",
        "outputId": "a7be928a-232b-4789-fc0c-53c501a07a51"
      },
      "execution_count": 146,
      "outputs": [
        {
          "output_type": "execute_result",
          "data": {
            "text/plain": [
              "count    53940.000000\n",
              "mean         5.731157\n",
              "std          1.121761\n",
              "min          0.000000\n",
              "25%          4.710000\n",
              "50%          5.700000\n",
              "75%          6.540000\n",
              "max         10.740000\n",
              "Name: x, dtype: float64"
            ]
          },
          "metadata": {},
          "execution_count": 146
        }
      ]
    },
    {
      "cell_type": "code",
      "source": [
        "####iqr and z score"
      ],
      "metadata": {
        "id": "i-ojDEy8YAoN"
      },
      "execution_count": 147,
      "outputs": []
    },
    {
      "cell_type": "code",
      "source": [
        "df['x'].plot(kind=\"box\")\n",
        "plt.show"
      ],
      "metadata": {
        "colab": {
          "base_uri": "https://localhost:8080/",
          "height": 447
        },
        "id": "oXP20RPiWjXO",
        "outputId": "f88aabaa-adbe-4dbe-ed21-289d8877bbfb"
      },
      "execution_count": 148,
      "outputs": [
        {
          "output_type": "execute_result",
          "data": {
            "text/plain": [
              "<function matplotlib.pyplot.show(close=None, block=None)>"
            ]
          },
          "metadata": {},
          "execution_count": 148
        },
        {
          "output_type": "display_data",
          "data": {
            "text/plain": [
              "<Figure size 640x480 with 1 Axes>"
            ],
            "image/png": "[encoded data removed]"
          },
          "metadata": {}
        }
      ]
    },
    {
      "cell_type": "code",
      "source": [
        "Q1=df['x'].quantile(0.25)\n",
        "Q2=df['x'].quantile(0.5)\n",
        "Q3=df['x'].quantile(0.75)"
      ],
      "metadata": {
        "id": "fJGODQ45mzJ5"
      },
      "execution_count": 149,
      "outputs": []
    },
    {
      "cell_type": "code",
      "source": [
        "print(Q1)\n",
        "print(Q2)\n",
        "print(Q3)"
      ],
      "metadata": {
        "colab": {
          "base_uri": "https://localhost:8080/"
        },
        "id": "rBc6i_sDnYbA",
        "outputId": "0c9768f7-d06c-4fd6-9934-f16d16ab7dff"
      },
      "execution_count": 150,
      "outputs": [
        {
          "output_type": "stream",
          "name": "stdout",
          "text": [
            "4.71\n",
            "5.7\n",
            "6.54\n"
          ]
        }
      ]
    },
    {
      "cell_type": "code",
      "source": [
        "df['x'].median()"
      ],
      "metadata": {
        "colab": {
          "base_uri": "https://localhost:8080/"
        },
        "id": "PmxQQBsunmwu",
        "outputId": "d2c1ddba-0419-45a0-be8c-e2b0ed0564b9"
      },
      "execution_count": 151,
      "outputs": [
        {
          "output_type": "execute_result",
          "data": {
            "text/plain": [
              "5.7"
            ]
          },
          "metadata": {},
          "execution_count": 151
        }
      ]
    },
    {
      "cell_type": "code",
      "source": [
        "IQR=Q3-Q1\n",
        "LC=Q1-(1.5*IQR)\n",
        "UC=Q3+(1.5*IQR)\n",
        "print(LC,UC)"
      ],
      "metadata": {
        "colab": {
          "base_uri": "https://localhost:8080/"
        },
        "id": "HVChnuEdnMYD",
        "outputId": "f3525ac0-d328-478d-ea3e-a6aa761b7f07"
      },
      "execution_count": 152,
      "outputs": [
        {
          "output_type": "stream",
          "name": "stdout",
          "text": [
            "1.9649999999999999 9.285\n"
          ]
        }
      ]
    },
    {
      "cell_type": "code",
      "source": [
        "print(LC)\n",
        "print(UC)\n"
      ],
      "metadata": {
        "colab": {
          "base_uri": "https://localhost:8080/"
        },
        "id": "vxXOmgGxnzNU",
        "outputId": "8622cedc-1177-442a-bc9f-dfc01f8314d4"
      },
      "execution_count": 153,
      "outputs": [
        {
          "output_type": "stream",
          "name": "stdout",
          "text": [
            "1.9649999999999999\n",
            "9.285\n"
          ]
        }
      ]
    },
    {
      "cell_type": "code",
      "source": [
        "outliers=[]\n",
        "for x in df['x']:\n",
        "  if((x>UC)or(x<LC)):\n",
        "    outliers.append(x)"
      ],
      "metadata": {
        "id": "i6vhVdoMnRxu"
      },
      "execution_count": 154,
      "outputs": []
    },
    {
      "cell_type": "code",
      "source": [
        "outliers"
      ],
      "metadata": {
        "colab": {
          "base_uri": "https://localhost:8080/"
        },
        "id": "kNiVpUMAqgY6",
        "outputId": "f2df7552-a605-4a22-d5f7-2731256e6815"
      },
      "execution_count": 155,
      "outputs": [
        {
          "output_type": "execute_result",
          "data": {
            "text/plain": [
              "[0.0,\n",
              " 0.0,\n",
              " 0.0,\n",
              " 9.54,\n",
              " 9.38,\n",
              " 9.53,\n",
              " 9.44,\n",
              " 9.49,\n",
              " 9.65,\n",
              " 0.0,\n",
              " 9.42,\n",
              " 9.44,\n",
              " 9.32,\n",
              " 10.14,\n",
              " 10.02,\n",
              " 0.0,\n",
              " 9.42,\n",
              " 10.01,\n",
              " 9.86,\n",
              " 9.3,\n",
              " 10.0,\n",
              " 10.74,\n",
              " 0.0,\n",
              " 9.36,\n",
              " 10.23,\n",
              " 9.51,\n",
              " 9.44,\n",
              " 9.66,\n",
              " 9.35,\n",
              " 9.41,\n",
              " 0.0,\n",
              " 0.0]"
            ]
          },
          "metadata": {},
          "execution_count": 155
        }
      ]
    },
    {
      "cell_type": "code",
      "source": [
        "a = df['x']>UC\n",
        "df.loc[a].index"
      ],
      "metadata": {
        "id": "6CDro0cgXKAT",
        "colab": {
          "base_uri": "https://localhost:8080/"
        },
        "outputId": "d042ca06-0c9a-48a6-c2d6-839fdeef8497"
      },
      "execution_count": 156,
      "outputs": [
        {
          "output_type": "execute_result",
          "data": {
            "text/plain": [
              "Int64Index([22741, 22831, 23644, 24131, 24297, 24328, 24816, 25460, 25850,\n",
              "            25998, 25999, 26431, 26444, 26534, 26932, 27130, 27415, 27514,\n",
              "            27630, 27638, 27649, 27679, 27684, 27685],\n",
              "           dtype='int64')"
            ]
          },
          "metadata": {},
          "execution_count": 156
        }
      ]
    },
    {
      "cell_type": "code",
      "source": [
        "df=df.drop([ 22741, 22831, 23644, 24131, 24297, 24328, 24816, 25460, 25850,\n",
        "            25998, 25999, 26431, 26444, 26534, 26932, 27130, 27415, 27514,\n",
        "            27630, 27638, 27649, 27679, 27684, 27685])"
      ],
      "metadata": {
        "id": "0dxb1ytwYOFl"
      },
      "execution_count": 157,
      "outputs": []
    },
    {
      "cell_type": "code",
      "source": [
        "plt.boxplot(df['x'])\n",
        "plt.title(\"BOX PLOT OF X \")"
      ],
      "metadata": {
        "colab": {
          "base_uri": "https://localhost:8080/",
          "height": 469
        },
        "id": "bF0g3-7wrOvH",
        "outputId": "85170446-0d44-41c4-f0b6-1d58c6774d0a"
      },
      "execution_count": 158,
      "outputs": [
        {
          "output_type": "execute_result",
          "data": {
            "text/plain": [
              "Text(0.5, 1.0, 'BOX PLOT OF X ')"
            ]
          },
          "metadata": {},
          "execution_count": 158
        },
        {
          "output_type": "display_data",
          "data": {
            "text/plain": [
              "<Figure size 640x480 with 1 Axes>"
            ],
            "image/png": "[encoded data removed]"
          },
          "metadata": {}
        }
      ]
    },
    {
      "cell_type": "code",
      "source": [
        "df['y'].plot(kind=\"box\")\n",
        "plt.show"
      ],
      "metadata": {
        "colab": {
          "base_uri": "https://localhost:8080/",
          "height": 447
        },
        "id": "39LkouLNuXf-",
        "outputId": "b3752a79-8275-47ef-d2e5-fdb1c435b09b"
      },
      "execution_count": 159,
      "outputs": [
        {
          "output_type": "execute_result",
          "data": {
            "text/plain": [
              "<function matplotlib.pyplot.show(close=None, block=None)>"
            ]
          },
          "metadata": {},
          "execution_count": 159
        },
        {
          "output_type": "display_data",
          "data": {
            "text/plain": [
              "<Figure size 640x480 with 1 Axes>"
            ],
            "image/png": "[encoded data removed]"
          },
          "metadata": {}
        }
      ]
    },
    {
      "cell_type": "code",
      "source": [
        "Q11=df['y'].quantile(0.25)\n",
        "Q22=df['y'].quantile(0.5)\n",
        "Q33=df['y'].quantile(0.75)"
      ],
      "metadata": {
        "id": "q_KzuiESujIZ"
      },
      "execution_count": 160,
      "outputs": []
    },
    {
      "cell_type": "code",
      "source": [
        "print(Q11)\n",
        "print(Q22)\n",
        "print(Q33)"
      ],
      "metadata": {
        "colab": {
          "base_uri": "https://localhost:8080/"
        },
        "id": "8fw_nimru4rU",
        "outputId": "82361506-5ef4-4929-e720-8ba0eee6de32"
      },
      "execution_count": 161,
      "outputs": [
        {
          "output_type": "stream",
          "name": "stdout",
          "text": [
            "4.72\n",
            "5.71\n",
            "6.54\n"
          ]
        }
      ]
    },
    {
      "cell_type": "code",
      "source": [
        "df['y'].median()"
      ],
      "metadata": {
        "colab": {
          "base_uri": "https://localhost:8080/"
        },
        "id": "Smcct71rvA1N",
        "outputId": "ba4afeea-8fb6-4f94-e9ca-fed9bb8fe899"
      },
      "execution_count": 162,
      "outputs": [
        {
          "output_type": "execute_result",
          "data": {
            "text/plain": [
              "5.71"
            ]
          },
          "metadata": {},
          "execution_count": 162
        }
      ]
    },
    {
      "cell_type": "code",
      "source": [
        "IQR=Q33-Q11\n",
        "LC=Q11-(1.5*IQR)\n",
        "UC=Q33+(1.5*IQR)\n",
        "print(LC,UC)"
      ],
      "metadata": {
        "colab": {
          "base_uri": "https://localhost:8080/"
        },
        "id": "pMMPboQnvMV2",
        "outputId": "b243c89b-8742-4ab3-b0e1-13ca5afd1bea"
      },
      "execution_count": 163,
      "outputs": [
        {
          "output_type": "stream",
          "name": "stdout",
          "text": [
            "1.9899999999999993 9.27\n"
          ]
        }
      ]
    },
    {
      "cell_type": "code",
      "source": [
        "print(LC)\n",
        "print(UC)"
      ],
      "metadata": {
        "colab": {
          "base_uri": "https://localhost:8080/"
        },
        "id": "yUH8W2DlvYvA",
        "outputId": "378f9475-9658-423e-da6c-b630d533358e"
      },
      "execution_count": 164,
      "outputs": [
        {
          "output_type": "stream",
          "name": "stdout",
          "text": [
            "1.9899999999999993\n",
            "9.27\n"
          ]
        }
      ]
    },
    {
      "cell_type": "code",
      "source": [
        "outliers=[]\n",
        "for x in df['y']:\n",
        "  if((x>UC)or(x<LC)):\n",
        "    outliers.append(x)"
      ],
      "metadata": {
        "id": "-BpctGwZvgfK"
      },
      "execution_count": 165,
      "outputs": []
    },
    {
      "cell_type": "code",
      "source": [
        "outliers"
      ],
      "metadata": {
        "colab": {
          "base_uri": "https://localhost:8080/"
        },
        "id": "QaXzyiPtvmDb",
        "outputId": "2835d6e8-0759-4bf5-a033-cc2ff1545a70"
      },
      "execution_count": 166,
      "outputs": [
        {
          "output_type": "execute_result",
          "data": {
            "text/plain": [
              "[0.0, 0.0, 58.9, 0.0, 0.0, 0.0, 31.8, 0.0, 0.0]"
            ]
          },
          "metadata": {},
          "execution_count": 166
        }
      ]
    },
    {
      "cell_type": "code",
      "source": [
        "b = df['y']>UC\n",
        "df.loc[b].index"
      ],
      "metadata": {
        "colab": {
          "base_uri": "https://localhost:8080/"
        },
        "id": "N8tr_uAYvs19",
        "outputId": "d1cb451b-7006-4598-91d6-1094f4430f10"
      },
      "execution_count": 167,
      "outputs": [
        {
          "output_type": "execute_result",
          "data": {
            "text/plain": [
              "Int64Index([24067, 49189], dtype='int64')"
            ]
          },
          "metadata": {},
          "execution_count": 167
        }
      ]
    },
    {
      "cell_type": "code",
      "source": [
        "df=df.drop([ 24067, 49189])"
      ],
      "metadata": {
        "id": "ehFQezGBvyp9"
      },
      "execution_count": 168,
      "outputs": []
    },
    {
      "cell_type": "code",
      "source": [
        "plt.boxplot(df['y'])\n",
        "plt.title(\"BOX PLOT OF Y \")"
      ],
      "metadata": {
        "colab": {
          "base_uri": "https://localhost:8080/",
          "height": 469
        },
        "id": "QQr2yy4Vv_9p",
        "outputId": "e9a4540e-69ca-4766-974a-313af581076f"
      },
      "execution_count": 169,
      "outputs": [
        {
          "output_type": "execute_result",
          "data": {
            "text/plain": [
              "Text(0.5, 1.0, 'BOX PLOT OF Y ')"
            ]
          },
          "metadata": {},
          "execution_count": 169
        },
        {
          "output_type": "display_data",
          "data": {
            "text/plain": [
              "<Figure size 640x480 with 1 Axes>"
            ],
            "image/png": "[encoded data removed]"
          },
          "metadata": {}
        }
      ]
    },
    {
      "cell_type": "markdown",
      "source": [
        "## **ENCODING**"
      ],
      "metadata": {
        "id": "gZOudVhHnV05"
      }
    },
    {
      "cell_type": "code",
      "source": [
        "###categorical values"
      ],
      "metadata": {
        "id": "TmT3Zfnm2Wc4"
      },
      "execution_count": 179,
      "outputs": []
    },
    {
      "cell_type": "code",
      "source": [
        "df.info()"
      ],
      "metadata": {
        "colab": {
          "base_uri": "https://localhost:8080/"
        },
        "id": "ENDLxWYnMTVo",
        "outputId": "24e9b6d3-57cb-4a9c-e901-e2ba80a60b6a"
      },
      "execution_count": 180,
      "outputs": [
        {
          "output_type": "stream",
          "name": "stdout",
          "text": [
            "<class 'pandas.core.frame.DataFrame'>\n",
            "Int64Index: 53914 entries, 0 to 53939\n",
            "Data columns (total 9 columns):\n",
            " #   Column     Non-Null Count  Dtype  \n",
            "---  ------     --------------  -----  \n",
            " 0   carat      53914 non-null  float64\n",
            " 1   cut        53914 non-null  object \n",
            " 2   color      53914 non-null  object \n",
            " 3   clarity    53914 non-null  object \n",
            " 4   table      53914 non-null  float64\n",
            " 5   x          53914 non-null  float64\n",
            " 6   y          53914 non-null  float64\n",
            " 7   z          53914 non-null  float64\n",
            " 8   price_new  53914 non-null  float64\n",
            "dtypes: float64(6), object(3)\n",
            "memory usage: 4.1+ MB\n"
          ]
        }
      ]
    },
    {
      "cell_type": "code",
      "source": [
        "df.columns"
      ],
      "metadata": {
        "colab": {
          "base_uri": "https://localhost:8080/"
        },
        "id": "lQkOFjFSN1HK",
        "outputId": "5e99c000-bd1d-4272-d94f-7a43159059c4"
      },
      "execution_count": 181,
      "outputs": [
        {
          "output_type": "execute_result",
          "data": {
            "text/plain": [
              "Index(['carat', 'cut', 'color', 'clarity', 'table', 'x', 'y', 'z',\n",
              "       'price_new'],\n",
              "      dtype='object')"
            ]
          },
          "metadata": {},
          "execution_count": 181
        }
      ]
    },
    {
      "cell_type": "code",
      "source": [
        "cat=['cut', 'color', 'clarity']"
      ],
      "metadata": {
        "id": "r-41SDZPOBPC"
      },
      "execution_count": 182,
      "outputs": []
    },
    {
      "cell_type": "code",
      "source": [
        "df[cat]"
      ],
      "metadata": {
        "id": "dfwbLPykOX1W",
        "colab": {
          "base_uri": "https://localhost:8080/",
          "height": 423
        },
        "outputId": "44410bd1-4d7f-4027-b1d4-ac153a71b178"
      },
      "execution_count": 183,
      "outputs": [
        {
          "output_type": "execute_result",
          "data": {
            "text/plain": [
              "             cut color clarity\n",
              "0          Ideal     E     SI2\n",
              "1        Premium     E     SI1\n",
              "2           Good     E     VS1\n",
              "3        Premium     I     VS2\n",
              "4           Good     J     SI2\n",
              "...          ...   ...     ...\n",
              "53935      Ideal     D     SI1\n",
              "53936       Good     D     SI1\n",
              "53937  Very Good     D     SI1\n",
              "53938    Premium     H     SI2\n",
              "53939      Ideal     D     SI2\n",
              "\n",
              "[53914 rows x 3 columns]"
            ],
            "text/html": [
              "\n",
              "  <div id=\"df-65b325af-6ecc-4e15-8a16-bfcecfe0c9f1\">\n",
              "    <div class=\"colab-df-container\">\n",
              "      <div>\n",
              "<style scoped>\n",
              "    .dataframe tbody tr th:only-of-type {\n",
              "        vertical-align: middle;\n",
              "    }\n",
              "\n",
              "    .dataframe tbody tr th {\n",
              "        vertical-align: top;\n",
              "    }\n",
              "\n",
              "    .dataframe thead th {\n",
              "        text-align: right;\n",
              "    }\n",
              "</style>\n",
              "<table border=\"1\" class=\"dataframe\">\n",
              "  <thead>\n",
              "    <tr style=\"text-align: right;\">\n",
              "      <th></th>\n",
              "      <th>cut</th>\n",
              "      <th>color</th>\n",
              "      <th>clarity</th>\n",
              "    </tr>\n",
              "  </thead>\n",
              "  <tbody>\n",
              "    <tr>\n",
              "      <th>0</th>\n",
              "      <td>Ideal</td>\n",
              "      <td>E</td>\n",
              "      <td>SI2</td>\n",
              "    </tr>\n",
              "    <tr>\n",
              "      <th>1</th>\n",
              "      <td>Premium</td>\n",
              "      <td>E</td>\n",
              "      <td>SI1</td>\n",
              "    </tr>\n",
              "    <tr>\n",
              "      <th>2</th>\n",
              "      <td>Good</td>\n",
              "      <td>E</td>\n",
              "      <td>VS1</td>\n",
              "    </tr>\n",
              "    <tr>\n",
              "      <th>3</th>\n",
              "      <td>Premium</td>\n",
              "      <td>I</td>\n",
              "      <td>VS2</td>\n",
              "    </tr>\n",
              "    <tr>\n",
              "      <th>4</th>\n",
              "      <td>Good</td>\n",
              "      <td>J</td>\n",
              "      <td>SI2</td>\n",
              "    </tr>\n",
              "    <tr>\n",
              "      <th>...</th>\n",
              "      <td>...</td>\n",
              "      <td>...</td>\n",
              "      <td>...</td>\n",
              "    </tr>\n",
              "    <tr>\n",
              "      <th>53935</th>\n",
              "      <td>Ideal</td>\n",
              "      <td>D</td>\n",
              "      <td>SI1</td>\n",
              "    </tr>\n",
              "    <tr>\n",
              "      <th>53936</th>\n",
              "      <td>Good</td>\n",
              "      <td>D</td>\n",
              "      <td>SI1</td>\n",
              "    </tr>\n",
              "    <tr>\n",
              "      <th>53937</th>\n",
              "      <td>Very Good</td>\n",
              "      <td>D</td>\n",
              "      <td>SI1</td>\n",
              "    </tr>\n",
              "    <tr>\n",
              "      <th>53938</th>\n",
              "      <td>Premium</td>\n",
              "      <td>H</td>\n",
              "      <td>SI2</td>\n",
              "    </tr>\n",
              "    <tr>\n",
              "      <th>53939</th>\n",
              "      <td>Ideal</td>\n",
              "      <td>D</td>\n",
              "      <td>SI2</td>\n",
              "    </tr>\n",
              "  </tbody>\n",
              "</table>\n",
              "<p>53914 rows × 3 columns</p>\n",
              "</div>\n",
              "      <button class=\"colab-df-convert\" onclick=\"convertToInteractive('df-65b325af-6ecc-4e15-8a16-bfcecfe0c9f1')\"\n",
              "              title=\"Convert this dataframe to an interactive table.\"\n",
              "              style=\"display:none;\">\n",
              "        \n",
              "  <svg xmlns=\"http://www.w3.org/2000/svg\" height=\"24px\"viewBox=\"0 0 24 24\"\n",
              "       width=\"24px\">\n",
              "    <path d=\"M0 0h24v24H0V0z\" fill=\"none\"/>\n",
              "    <path d=\"M18.56 5.44l.94 2.06.94-2.06 2.06-.94-2.06-.94-.94-2.06-.94 2.06-2.06.94zm-11 1L8.5 8.5l.94-2.06 2.06-.94-2.06-.94L8.5 2.5l-.94 2.06-2.06.94zm10 10l.94 2.06.94-2.06 2.06-.94-2.06-.94-.94-2.06-.94 2.06-2.06.94z\"/><path d=\"M17.41 7.96l-1.37-1.37c-.4-.4-.92-.59-1.43-.59-.52 0-1.04.2-1.43.59L10.3 9.45l-7.72 7.72c-.78.78-.78 2.05 0 2.83L4 21.41c.39.39.9.59 1.41.59.51 0 1.02-.2 1.41-.59l7.78-7.78 2.81-2.81c.8-.78.8-2.07 0-2.86zM5.41 20L4 18.59l7.72-7.72 1.47 1.35L5.41 20z\"/>\n",
              "  </svg>\n",
              "      </button>\n",
              "      \n",
              "  <style>\n",
              "    .colab-df-container {\n",
              "      display:flex;\n",
              "      flex-wrap:wrap;\n",
              "      gap: 12px;\n",
              "    }\n",
              "\n",
              "    .colab-df-convert {\n",
              "      background-color: #E8F0FE;\n",
              "      border: none;\n",
              "      border-radius: 50%;\n",
              "      cursor: pointer;\n",
              "      display: none;\n",
              "      fill: #1967D2;\n",
              "      height: 32px;\n",
              "      padding: 0 0 0 0;\n",
              "      width: 32px;\n",
              "    }\n",
              "\n",
              "    .colab-df-convert:hover {\n",
              "      background-color: #E2EBFA;\n",
              "      box-shadow: 0px 1px 2px rgba(60, 64, 67, 0.3), 0px 1px 3px 1px rgba(60, 64, 67, 0.15);\n",
              "      fill: #174EA6;\n",
              "    }\n",
              "\n",
              "    [theme=dark] .colab-df-convert {\n",
              "      background-color: #3B4455;\n",
              "      fill: #D2E3FC;\n",
              "    }\n",
              "\n",
              "    [theme=dark] .colab-df-convert:hover {\n",
              "      background-color: #434B5C;\n",
              "      box-shadow: 0px 1px 3px 1px rgba(0, 0, 0, 0.15);\n",
              "      filter: drop-shadow(0px 1px 2px rgba(0, 0, 0, 0.3));\n",
              "      fill: #FFFFFF;\n",
              "    }\n",
              "  </style>\n",
              "\n",
              "      <script>\n",
              "        const buttonEl =\n",
              "          document.querySelector('#df-65b325af-6ecc-4e15-8a16-bfcecfe0c9f1 button.colab-df-convert');\n",
              "        buttonEl.style.display =\n",
              "          google.colab.kernel.accessAllowed ? 'block' : 'none';\n",
              "\n",
              "        async function convertToInteractive(key) {\n",
              "          const element = document.querySelector('#df-65b325af-6ecc-4e15-8a16-bfcecfe0c9f1');\n",
              "          const dataTable =\n",
              "            await google.colab.kernel.invokeFunction('convertToInteractive',\n",
              "                                                     [key], {});\n",
              "          if (!dataTable) return;\n",
              "\n",
              "          const docLinkHtml = 'Like what you see? Visit the ' +\n",
              "            '<a target=\"_blank\" href=https://colab.research.google.com/notebooks/data_table.ipynb>data table notebook</a>'\n",
              "            + ' to learn more about interactive tables.';\n",
              "          element.innerHTML = '';\n",
              "          dataTable['output_type'] = 'display_data';\n",
              "          await google.colab.output.renderOutput(dataTable, element);\n",
              "          const docLink = document.createElement('div');\n",
              "          docLink.innerHTML = docLinkHtml;\n",
              "          element.appendChild(docLink);\n",
              "        }\n",
              "      </script>\n",
              "    </div>\n",
              "  </div>\n",
              "  "
            ]
          },
          "metadata": {},
          "execution_count": 183
        }
      ]
    },
    {
      "cell_type": "code",
      "source": [
        "###ONE HOT ENCODING"
      ],
      "metadata": {
        "id": "UVpGhW1PVRFn"
      },
      "execution_count": 184,
      "outputs": []
    },
    {
      "cell_type": "code",
      "source": [
        "df.cut.nunique()"
      ],
      "metadata": {
        "colab": {
          "base_uri": "https://localhost:8080/"
        },
        "id": "a9BpfUSFgnJh",
        "outputId": "14e8c98c-accf-4078-a158-91285269824c"
      },
      "execution_count": 185,
      "outputs": [
        {
          "output_type": "execute_result",
          "data": {
            "text/plain": [
              "5"
            ]
          },
          "metadata": {},
          "execution_count": 185
        }
      ]
    },
    {
      "cell_type": "code",
      "source": [
        "df.cut.unique()"
      ],
      "metadata": {
        "id": "yjDrKOBCOo2J",
        "colab": {
          "base_uri": "https://localhost:8080/"
        },
        "outputId": "2ea94968-e276-4d4b-e657-bdc4946cd45c"
      },
      "execution_count": 186,
      "outputs": [
        {
          "output_type": "execute_result",
          "data": {
            "text/plain": [
              "array(['Ideal', 'Premium', 'Good', 'Very Good', 'Fair'], dtype=object)"
            ]
          },
          "metadata": {},
          "execution_count": 186
        }
      ]
    },
    {
      "cell_type": "code",
      "source": [
        "df = pd.get_dummies(df)"
      ],
      "metadata": {
        "id": "SQYphN8wmdqy"
      },
      "execution_count": 195,
      "outputs": []
    },
    {
      "cell_type": "code",
      "source": [
        "df.head()"
      ],
      "metadata": {
        "colab": {
          "base_uri": "https://localhost:8080/",
          "height": 299
        },
        "id": "3SeVC45tmhRu",
        "outputId": "72cfac21-5440-4403-de52-6d829c46eb13"
      },
      "execution_count": 197,
      "outputs": [
        {
          "output_type": "execute_result",
          "data": {
            "text/plain": [
              "   carat  table     x     y     z  price_new  cut_Fair  cut_Good  cut_Ideal  \\\n",
              "0   0.23   55.0  3.95  3.98  2.43      163.0         0         0          1   \n",
              "1   0.21   61.0  3.89  3.84  2.31      163.0         0         0          0   \n",
              "2   0.23   65.0  4.05  4.07  2.31      163.5         0         1          0   \n",
              "3   0.29   58.0  4.20  4.23  2.63      167.0         0         0          0   \n",
              "4   0.31   58.0  4.34  4.35  2.75      167.5         0         1          0   \n",
              "\n",
              "   cut_Premium  ...  color_I  color_J  clarity_I1  clarity_IF  clarity_SI1  \\\n",
              "0            0  ...        0        0           0           0            0   \n",
              "1            1  ...        0        0           0           0            1   \n",
              "2            0  ...        0        0           0           0            0   \n",
              "3            1  ...        1        0           0           0            0   \n",
              "4            0  ...        0        1           0           0            0   \n",
              "\n",
              "   clarity_SI2  clarity_VS1  clarity_VS2  clarity_VVS1  clarity_VVS2  \n",
              "0            1            0            0             0             0  \n",
              "1            0            0            0             0             0  \n",
              "2            0            1            0             0             0  \n",
              "3            0            0            1             0             0  \n",
              "4            1            0            0             0             0  \n",
              "\n",
              "[5 rows x 26 columns]"
            ],
            "text/html": [
              "\n",
              "  <div id=\"df-bb1bd0e7-d5c7-4614-910f-9ac0bb48d0d2\">\n",
              "    <div class=\"colab-df-container\">\n",
              "      <div>\n",
              "<style scoped>\n",
              "    .dataframe tbody tr th:only-of-type {\n",
              "        vertical-align: middle;\n",
              "    }\n",
              "\n",
              "    .dataframe tbody tr th {\n",
              "        vertical-align: top;\n",
              "    }\n",
              "\n",
              "    .dataframe thead th {\n",
              "        text-align: right;\n",
              "    }\n",
              "</style>\n",
              "<table border=\"1\" class=\"dataframe\">\n",
              "  <thead>\n",
              "    <tr style=\"text-align: right;\">\n",
              "      <th></th>\n",
              "      <th>carat</th>\n",
              "      <th>table</th>\n",
              "      <th>x</th>\n",
              "      <th>y</th>\n",
              "      <th>z</th>\n",
              "      <th>price_new</th>\n",
              "      <th>cut_Fair</th>\n",
              "      <th>cut_Good</th>\n",
              "      <th>cut_Ideal</th>\n",
              "      <th>cut_Premium</th>\n",
              "      <th>...</th>\n",
              "      <th>color_I</th>\n",
              "      <th>color_J</th>\n",
              "      <th>clarity_I1</th>\n",
              "      <th>clarity_IF</th>\n",
              "      <th>clarity_SI1</th>\n",
              "      <th>clarity_SI2</th>\n",
              "      <th>clarity_VS1</th>\n",
              "      <th>clarity_VS2</th>\n",
              "      <th>clarity_VVS1</th>\n",
              "      <th>clarity_VVS2</th>\n",
              "    </tr>\n",
              "  </thead>\n",
              "  <tbody>\n",
              "    <tr>\n",
              "      <th>0</th>\n",
              "      <td>0.23</td>\n",
              "      <td>55.0</td>\n",
              "      <td>3.95</td>\n",
              "      <td>3.98</td>\n",
              "      <td>2.43</td>\n",
              "      <td>163.0</td>\n",
              "      <td>0</td>\n",
              "      <td>0</td>\n",
              "      <td>1</td>\n",
              "      <td>0</td>\n",
              "      <td>...</td>\n",
              "      <td>0</td>\n",
              "      <td>0</td>\n",
              "      <td>0</td>\n",
              "      <td>0</td>\n",
              "      <td>0</td>\n",
              "      <td>1</td>\n",
              "      <td>0</td>\n",
              "      <td>0</td>\n",
              "      <td>0</td>\n",
              "      <td>0</td>\n",
              "    </tr>\n",
              "    <tr>\n",
              "      <th>1</th>\n",
              "      <td>0.21</td>\n",
              "      <td>61.0</td>\n",
              "      <td>3.89</td>\n",
              "      <td>3.84</td>\n",
              "      <td>2.31</td>\n",
              "      <td>163.0</td>\n",
              "      <td>0</td>\n",
              "      <td>0</td>\n",
              "      <td>0</td>\n",
              "      <td>1</td>\n",
              "      <td>...</td>\n",
              "      <td>0</td>\n",
              "      <td>0</td>\n",
              "      <td>0</td>\n",
              "      <td>0</td>\n",
              "      <td>1</td>\n",
              "      <td>0</td>\n",
              "      <td>0</td>\n",
              "      <td>0</td>\n",
              "      <td>0</td>\n",
              "      <td>0</td>\n",
              "    </tr>\n",
              "    <tr>\n",
              "      <th>2</th>\n",
              "      <td>0.23</td>\n",
              "      <td>65.0</td>\n",
              "      <td>4.05</td>\n",
              "      <td>4.07</td>\n",
              "      <td>2.31</td>\n",
              "      <td>163.5</td>\n",
              "      <td>0</td>\n",
              "      <td>1</td>\n",
              "      <td>0</td>\n",
              "      <td>0</td>\n",
              "      <td>...</td>\n",
              "      <td>0</td>\n",
              "      <td>0</td>\n",
              "      <td>0</td>\n",
              "      <td>0</td>\n",
              "      <td>0</td>\n",
              "      <td>0</td>\n",
              "      <td>1</td>\n",
              "      <td>0</td>\n",
              "      <td>0</td>\n",
              "      <td>0</td>\n",
              "    </tr>\n",
              "    <tr>\n",
              "      <th>3</th>\n",
              "      <td>0.29</td>\n",
              "      <td>58.0</td>\n",
              "      <td>4.20</td>\n",
              "      <td>4.23</td>\n",
              "      <td>2.63</td>\n",
              "      <td>167.0</td>\n",
              "      <td>0</td>\n",
              "      <td>0</td>\n",
              "      <td>0</td>\n",
              "      <td>1</td>\n",
              "      <td>...</td>\n",
              "      <td>1</td>\n",
              "      <td>0</td>\n",
              "      <td>0</td>\n",
              "      <td>0</td>\n",
              "      <td>0</td>\n",
              "      <td>0</td>\n",
              "      <td>0</td>\n",
              "      <td>1</td>\n",
              "      <td>0</td>\n",
              "      <td>0</td>\n",
              "    </tr>\n",
              "    <tr>\n",
              "      <th>4</th>\n",
              "      <td>0.31</td>\n",
              "      <td>58.0</td>\n",
              "      <td>4.34</td>\n",
              "      <td>4.35</td>\n",
              "      <td>2.75</td>\n",
              "      <td>167.5</td>\n",
              "      <td>0</td>\n",
              "      <td>1</td>\n",
              "      <td>0</td>\n",
              "      <td>0</td>\n",
              "      <td>...</td>\n",
              "      <td>0</td>\n",
              "      <td>1</td>\n",
              "      <td>0</td>\n",
              "      <td>0</td>\n",
              "      <td>0</td>\n",
              "      <td>1</td>\n",
              "      <td>0</td>\n",
              "      <td>0</td>\n",
              "      <td>0</td>\n",
              "      <td>0</td>\n",
              "    </tr>\n",
              "  </tbody>\n",
              "</table>\n",
              "<p>5 rows × 26 columns</p>\n",
              "</div>\n",
              "      <button class=\"colab-df-convert\" onclick=\"convertToInteractive('df-bb1bd0e7-d5c7-4614-910f-9ac0bb48d0d2')\"\n",
              "              title=\"Convert this dataframe to an interactive table.\"\n",
              "              style=\"display:none;\">\n",
              "        \n",
              "  <svg xmlns=\"http://www.w3.org/2000/svg\" height=\"24px\"viewBox=\"0 0 24 24\"\n",
              "       width=\"24px\">\n",
              "    <path d=\"M0 0h24v24H0V0z\" fill=\"none\"/>\n",
              "    <path d=\"M18.56 5.44l.94 2.06.94-2.06 2.06-.94-2.06-.94-.94-2.06-.94 2.06-2.06.94zm-11 1L8.5 8.5l.94-2.06 2.06-.94-2.06-.94L8.5 2.5l-.94 2.06-2.06.94zm10 10l.94 2.06.94-2.06 2.06-.94-2.06-.94-.94-2.06-.94 2.06-2.06.94z\"/><path d=\"M17.41 7.96l-1.37-1.37c-.4-.4-.92-.59-1.43-.59-.52 0-1.04.2-1.43.59L10.3 9.45l-7.72 7.72c-.78.78-.78 2.05 0 2.83L4 21.41c.39.39.9.59 1.41.59.51 0 1.02-.2 1.41-.59l7.78-7.78 2.81-2.81c.8-.78.8-2.07 0-2.86zM5.41 20L4 18.59l7.72-7.72 1.47 1.35L5.41 20z\"/>\n",
              "  </svg>\n",
              "      </button>\n",
              "      \n",
              "  <style>\n",
              "    .colab-df-container {\n",
              "      display:flex;\n",
              "      flex-wrap:wrap;\n",
              "      gap: 12px;\n",
              "    }\n",
              "\n",
              "    .colab-df-convert {\n",
              "      background-color: #E8F0FE;\n",
              "      border: none;\n",
              "      border-radius: 50%;\n",
              "      cursor: pointer;\n",
              "      display: none;\n",
              "      fill: #1967D2;\n",
              "      height: 32px;\n",
              "      padding: 0 0 0 0;\n",
              "      width: 32px;\n",
              "    }\n",
              "\n",
              "    .colab-df-convert:hover {\n",
              "      background-color: #E2EBFA;\n",
              "      box-shadow: 0px 1px 2px rgba(60, 64, 67, 0.3), 0px 1px 3px 1px rgba(60, 64, 67, 0.15);\n",
              "      fill: #174EA6;\n",
              "    }\n",
              "\n",
              "    [theme=dark] .colab-df-convert {\n",
              "      background-color: #3B4455;\n",
              "      fill: #D2E3FC;\n",
              "    }\n",
              "\n",
              "    [theme=dark] .colab-df-convert:hover {\n",
              "      background-color: #434B5C;\n",
              "      box-shadow: 0px 1px 3px 1px rgba(0, 0, 0, 0.15);\n",
              "      filter: drop-shadow(0px 1px 2px rgba(0, 0, 0, 0.3));\n",
              "      fill: #FFFFFF;\n",
              "    }\n",
              "  </style>\n",
              "\n",
              "      <script>\n",
              "        const buttonEl =\n",
              "          document.querySelector('#df-bb1bd0e7-d5c7-4614-910f-9ac0bb48d0d2 button.colab-df-convert');\n",
              "        buttonEl.style.display =\n",
              "          google.colab.kernel.accessAllowed ? 'block' : 'none';\n",
              "\n",
              "        async function convertToInteractive(key) {\n",
              "          const element = document.querySelector('#df-bb1bd0e7-d5c7-4614-910f-9ac0bb48d0d2');\n",
              "          const dataTable =\n",
              "            await google.colab.kernel.invokeFunction('convertToInteractive',\n",
              "                                                     [key], {});\n",
              "          if (!dataTable) return;\n",
              "\n",
              "          const docLinkHtml = 'Like what you see? Visit the ' +\n",
              "            '<a target=\"_blank\" href=https://colab.research.google.com/notebooks/data_table.ipynb>data table notebook</a>'\n",
              "            + ' to learn more about interactive tables.';\n",
              "          element.innerHTML = '';\n",
              "          dataTable['output_type'] = 'display_data';\n",
              "          await google.colab.output.renderOutput(dataTable, element);\n",
              "          const docLink = document.createElement('div');\n",
              "          docLink.innerHTML = docLinkHtml;\n",
              "          element.appendChild(docLink);\n",
              "        }\n",
              "      </script>\n",
              "    </div>\n",
              "  </div>\n",
              "  "
            ]
          },
          "metadata": {},
          "execution_count": 197
        }
      ]
    },
    {
      "cell_type": "code",
      "source": [
        "df.columns"
      ],
      "metadata": {
        "colab": {
          "base_uri": "https://localhost:8080/"
        },
        "id": "W3fwL3mJmmVs",
        "outputId": "64ac0653-53be-42fb-863a-085beeedbbe5"
      },
      "execution_count": 199,
      "outputs": [
        {
          "output_type": "execute_result",
          "data": {
            "text/plain": [
              "Index(['carat', 'table', 'x', 'y', 'z', 'price_new', 'cut_Fair', 'cut_Good',\n",
              "       'cut_Ideal', 'cut_Premium', 'cut_Very Good', 'color_D', 'color_E',\n",
              "       'color_F', 'color_G', 'color_H', 'color_I', 'color_J', 'clarity_I1',\n",
              "       'clarity_IF', 'clarity_SI1', 'clarity_SI2', 'clarity_VS1',\n",
              "       'clarity_VS2', 'clarity_VVS1', 'clarity_VVS2'],\n",
              "      dtype='object')"
            ]
          },
          "metadata": {},
          "execution_count": 199
        }
      ]
    },
    {
      "cell_type": "markdown",
      "source": [
        "### **SCALING**"
      ],
      "metadata": {
        "id": "Ow6Kj_hXngJK"
      }
    },
    {
      "cell_type": "code",
      "source": [
        "x.describe()"
      ],
      "metadata": {
        "colab": {
          "base_uri": "https://localhost:8080/",
          "height": 411
        },
        "id": "6T8DJ6xZniq_",
        "outputId": "8b062d36-af63-4991-a48c-e2213657f2ef"
      },
      "execution_count": 206,
      "outputs": [
        {
          "output_type": "execute_result",
          "data": {
            "text/plain": [
              "              carat         table             x             y             z  \\\n",
              "count  53914.000000  53914.000000  53914.000000  53914.000000  53914.000000   \n",
              "mean       0.796739     57.456551      5.729379      5.731352      3.538458   \n",
              "std        0.470622      2.233845      1.118901      1.110620      0.701868   \n",
              "min        0.200000     43.000000      0.000000      0.000000      0.000000   \n",
              "25%        0.400000     56.000000      4.710000      4.720000      2.910000   \n",
              "50%        0.700000     57.000000      5.700000      5.710000      3.530000   \n",
              "75%        1.040000     59.000000      6.540000      6.540000      4.030000   \n",
              "max        3.110000     95.000000      9.260000      9.250000     31.800000   \n",
              "\n",
              "          price_new      cut_Good     cut_Ideal   cut_Premium  cut_Very Good  \\\n",
              "count  53914.000000  53914.000000  53914.000000  53914.000000   53914.000000   \n",
              "mean    1963.747051      0.090941      0.399674      0.255555       0.224079   \n",
              "std     1991.124682      0.287528      0.489836      0.436177       0.416978   \n",
              "min      163.000000      0.000000      0.000000      0.000000       0.000000   \n",
              "25%      474.500000      0.000000      0.000000      0.000000       0.000000   \n",
              "50%     1200.000000      0.000000      0.000000      0.000000       0.000000   \n",
              "75%     2659.375000      0.000000      1.000000      1.000000       0.000000   \n",
              "max     9411.500000      1.000000      1.000000      1.000000       1.000000   \n",
              "\n",
              "       ...       color_I       color_J    clarity_I1    clarity_IF  \\\n",
              "count  ...  53914.000000  53914.000000  53914.000000  53914.000000   \n",
              "mean   ...      0.100419      0.051953      0.013466      0.033201   \n",
              "std    ...      0.300561      0.221934      0.115260      0.179163   \n",
              "min    ...      0.000000      0.000000      0.000000      0.000000   \n",
              "25%    ...      0.000000      0.000000      0.000000      0.000000   \n",
              "50%    ...      0.000000      0.000000      0.000000      0.000000   \n",
              "75%    ...      0.000000      0.000000      0.000000      0.000000   \n",
              "max    ...      1.000000      1.000000      1.000000      1.000000   \n",
              "\n",
              "        clarity_SI1   clarity_SI2   clarity_VS1   clarity_VS2  clarity_VVS1  \\\n",
              "count  53914.000000  53914.000000  53914.000000  53914.000000  53914.000000   \n",
              "mean       0.242330      0.170364      0.151538      0.227344      0.067793   \n",
              "std        0.428497      0.375956      0.358575      0.419120      0.251393   \n",
              "min        0.000000      0.000000      0.000000      0.000000      0.000000   \n",
              "25%        0.000000      0.000000      0.000000      0.000000      0.000000   \n",
              "50%        0.000000      0.000000      0.000000      0.000000      0.000000   \n",
              "75%        0.000000      0.000000      0.000000      0.000000      0.000000   \n",
              "max        1.000000      1.000000      1.000000      1.000000      1.000000   \n",
              "\n",
              "       clarity_VVS2  \n",
              "count  53914.000000  \n",
              "mean       0.093964  \n",
              "std        0.291782  \n",
              "min        0.000000  \n",
              "25%        0.000000  \n",
              "50%        0.000000  \n",
              "75%        0.000000  \n",
              "max        1.000000  \n",
              "\n",
              "[8 rows x 25 columns]"
            ],
            "text/html": [
              "\n",
              "  <div id=\"df-6e2f602d-8867-49c2-8f2e-4b01a33e6c56\">\n",
              "    <div class=\"colab-df-container\">\n",
              "      <div>\n",
              "<style scoped>\n",
              "    .dataframe tbody tr th:only-of-type {\n",
              "        vertical-align: middle;\n",
              "    }\n",
              "\n",
              "    .dataframe tbody tr th {\n",
              "        vertical-align: top;\n",
              "    }\n",
              "\n",
              "    .dataframe thead th {\n",
              "        text-align: right;\n",
              "    }\n",
              "</style>\n",
              "<table border=\"1\" class=\"dataframe\">\n",
              "  <thead>\n",
              "    <tr style=\"text-align: right;\">\n",
              "      <th></th>\n",
              "      <th>carat</th>\n",
              "      <th>table</th>\n",
              "      <th>x</th>\n",
              "      <th>y</th>\n",
              "      <th>z</th>\n",
              "      <th>price_new</th>\n",
              "      <th>cut_Good</th>\n",
              "      <th>cut_Ideal</th>\n",
              "      <th>cut_Premium</th>\n",
              "      <th>cut_Very Good</th>\n",
              "      <th>...</th>\n",
              "      <th>color_I</th>\n",
              "      <th>color_J</th>\n",
              "      <th>clarity_I1</th>\n",
              "      <th>clarity_IF</th>\n",
              "      <th>clarity_SI1</th>\n",
              "      <th>clarity_SI2</th>\n",
              "      <th>clarity_VS1</th>\n",
              "      <th>clarity_VS2</th>\n",
              "      <th>clarity_VVS1</th>\n",
              "      <th>clarity_VVS2</th>\n",
              "    </tr>\n",
              "  </thead>\n",
              "  <tbody>\n",
              "    <tr>\n",
              "      <th>count</th>\n",
              "      <td>53914.000000</td>\n",
              "      <td>53914.000000</td>\n",
              "      <td>53914.000000</td>\n",
              "      <td>53914.000000</td>\n",
              "      <td>53914.000000</td>\n",
              "      <td>53914.000000</td>\n",
              "      <td>53914.000000</td>\n",
              "      <td>53914.000000</td>\n",
              "      <td>53914.000000</td>\n",
              "      <td>53914.000000</td>\n",
              "      <td>...</td>\n",
              "      <td>53914.000000</td>\n",
              "      <td>53914.000000</td>\n",
              "      <td>53914.000000</td>\n",
              "      <td>53914.000000</td>\n",
              "      <td>53914.000000</td>\n",
              "      <td>53914.000000</td>\n",
              "      <td>53914.000000</td>\n",
              "      <td>53914.000000</td>\n",
              "      <td>53914.000000</td>\n",
              "      <td>53914.000000</td>\n",
              "    </tr>\n",
              "    <tr>\n",
              "      <th>mean</th>\n",
              "      <td>0.796739</td>\n",
              "      <td>57.456551</td>\n",
              "      <td>5.729379</td>\n",
              "      <td>5.731352</td>\n",
              "      <td>3.538458</td>\n",
              "      <td>1963.747051</td>\n",
              "      <td>0.090941</td>\n",
              "      <td>0.399674</td>\n",
              "      <td>0.255555</td>\n",
              "      <td>0.224079</td>\n",
              "      <td>...</td>\n",
              "      <td>0.100419</td>\n",
              "      <td>0.051953</td>\n",
              "      <td>0.013466</td>\n",
              "      <td>0.033201</td>\n",
              "      <td>0.242330</td>\n",
              "      <td>0.170364</td>\n",
              "      <td>0.151538</td>\n",
              "      <td>0.227344</td>\n",
              "      <td>0.067793</td>\n",
              "      <td>0.093964</td>\n",
              "    </tr>\n",
              "    <tr>\n",
              "      <th>std</th>\n",
              "      <td>0.470622</td>\n",
              "      <td>2.233845</td>\n",
              "      <td>1.118901</td>\n",
              "      <td>1.110620</td>\n",
              "      <td>0.701868</td>\n",
              "      <td>1991.124682</td>\n",
              "      <td>0.287528</td>\n",
              "      <td>0.489836</td>\n",
              "      <td>0.436177</td>\n",
              "      <td>0.416978</td>\n",
              "      <td>...</td>\n",
              "      <td>0.300561</td>\n",
              "      <td>0.221934</td>\n",
              "      <td>0.115260</td>\n",
              "      <td>0.179163</td>\n",
              "      <td>0.428497</td>\n",
              "      <td>0.375956</td>\n",
              "      <td>0.358575</td>\n",
              "      <td>0.419120</td>\n",
              "      <td>0.251393</td>\n",
              "      <td>0.291782</td>\n",
              "    </tr>\n",
              "    <tr>\n",
              "      <th>min</th>\n",
              "      <td>0.200000</td>\n",
              "      <td>43.000000</td>\n",
              "      <td>0.000000</td>\n",
              "      <td>0.000000</td>\n",
              "      <td>0.000000</td>\n",
              "      <td>163.000000</td>\n",
              "      <td>0.000000</td>\n",
              "      <td>0.000000</td>\n",
              "      <td>0.000000</td>\n",
              "      <td>0.000000</td>\n",
              "      <td>...</td>\n",
              "      <td>0.000000</td>\n",
              "      <td>0.000000</td>\n",
              "      <td>0.000000</td>\n",
              "      <td>0.000000</td>\n",
              "      <td>0.000000</td>\n",
              "      <td>0.000000</td>\n",
              "      <td>0.000000</td>\n",
              "      <td>0.000000</td>\n",
              "      <td>0.000000</td>\n",
              "      <td>0.000000</td>\n",
              "    </tr>\n",
              "    <tr>\n",
              "      <th>25%</th>\n",
              "      <td>0.400000</td>\n",
              "      <td>56.000000</td>\n",
              "      <td>4.710000</td>\n",
              "      <td>4.720000</td>\n",
              "      <td>2.910000</td>\n",
              "      <td>474.500000</td>\n",
              "      <td>0.000000</td>\n",
              "      <td>0.000000</td>\n",
              "      <td>0.000000</td>\n",
              "      <td>0.000000</td>\n",
              "      <td>...</td>\n",
              "      <td>0.000000</td>\n",
              "      <td>0.000000</td>\n",
              "      <td>0.000000</td>\n",
              "      <td>0.000000</td>\n",
              "      <td>0.000000</td>\n",
              "      <td>0.000000</td>\n",
              "      <td>0.000000</td>\n",
              "      <td>0.000000</td>\n",
              "      <td>0.000000</td>\n",
              "      <td>0.000000</td>\n",
              "    </tr>\n",
              "    <tr>\n",
              "      <th>50%</th>\n",
              "      <td>0.700000</td>\n",
              "      <td>57.000000</td>\n",
              "      <td>5.700000</td>\n",
              "      <td>5.710000</td>\n",
              "      <td>3.530000</td>\n",
              "      <td>1200.000000</td>\n",
              "      <td>0.000000</td>\n",
              "      <td>0.000000</td>\n",
              "      <td>0.000000</td>\n",
              "      <td>0.000000</td>\n",
              "      <td>...</td>\n",
              "      <td>0.000000</td>\n",
              "      <td>0.000000</td>\n",
              "      <td>0.000000</td>\n",
              "      <td>0.000000</td>\n",
              "      <td>0.000000</td>\n",
              "      <td>0.000000</td>\n",
              "      <td>0.000000</td>\n",
              "      <td>0.000000</td>\n",
              "      <td>0.000000</td>\n",
              "      <td>0.000000</td>\n",
              "    </tr>\n",
              "    <tr>\n",
              "      <th>75%</th>\n",
              "      <td>1.040000</td>\n",
              "      <td>59.000000</td>\n",
              "      <td>6.540000</td>\n",
              "      <td>6.540000</td>\n",
              "      <td>4.030000</td>\n",
              "      <td>2659.375000</td>\n",
              "      <td>0.000000</td>\n",
              "      <td>1.000000</td>\n",
              "      <td>1.000000</td>\n",
              "      <td>0.000000</td>\n",
              "      <td>...</td>\n",
              "      <td>0.000000</td>\n",
              "      <td>0.000000</td>\n",
              "      <td>0.000000</td>\n",
              "      <td>0.000000</td>\n",
              "      <td>0.000000</td>\n",
              "      <td>0.000000</td>\n",
              "      <td>0.000000</td>\n",
              "      <td>0.000000</td>\n",
              "      <td>0.000000</td>\n",
              "      <td>0.000000</td>\n",
              "    </tr>\n",
              "    <tr>\n",
              "      <th>max</th>\n",
              "      <td>3.110000</td>\n",
              "      <td>95.000000</td>\n",
              "      <td>9.260000</td>\n",
              "      <td>9.250000</td>\n",
              "      <td>31.800000</td>\n",
              "      <td>9411.500000</td>\n",
              "      <td>1.000000</td>\n",
              "      <td>1.000000</td>\n",
              "      <td>1.000000</td>\n",
              "      <td>1.000000</td>\n",
              "      <td>...</td>\n",
              "      <td>1.000000</td>\n",
              "      <td>1.000000</td>\n",
              "      <td>1.000000</td>\n",
              "      <td>1.000000</td>\n",
              "      <td>1.000000</td>\n",
              "      <td>1.000000</td>\n",
              "      <td>1.000000</td>\n",
              "      <td>1.000000</td>\n",
              "      <td>1.000000</td>\n",
              "      <td>1.000000</td>\n",
              "    </tr>\n",
              "  </tbody>\n",
              "</table>\n",
              "<p>8 rows × 25 columns</p>\n",
              "</div>\n",
              "      <button class=\"colab-df-convert\" onclick=\"convertToInteractive('df-6e2f602d-8867-49c2-8f2e-4b01a33e6c56')\"\n",
              "              title=\"Convert this dataframe to an interactive table.\"\n",
              "              style=\"display:none;\">\n",
              "        \n",
              "  <svg xmlns=\"http://www.w3.org/2000/svg\" height=\"24px\"viewBox=\"0 0 24 24\"\n",
              "       width=\"24px\">\n",
              "    <path d=\"M0 0h24v24H0V0z\" fill=\"none\"/>\n",
              "    <path d=\"M18.56 5.44l.94 2.06.94-2.06 2.06-.94-2.06-.94-.94-2.06-.94 2.06-2.06.94zm-11 1L8.5 8.5l.94-2.06 2.06-.94-2.06-.94L8.5 2.5l-.94 2.06-2.06.94zm10 10l.94 2.06.94-2.06 2.06-.94-2.06-.94-.94-2.06-.94 2.06-2.06.94z\"/><path d=\"M17.41 7.96l-1.37-1.37c-.4-.4-.92-.59-1.43-.59-.52 0-1.04.2-1.43.59L10.3 9.45l-7.72 7.72c-.78.78-.78 2.05 0 2.83L4 21.41c.39.39.9.59 1.41.59.51 0 1.02-.2 1.41-.59l7.78-7.78 2.81-2.81c.8-.78.8-2.07 0-2.86zM5.41 20L4 18.59l7.72-7.72 1.47 1.35L5.41 20z\"/>\n",
              "  </svg>\n",
              "      </button>\n",
              "      \n",
              "  <style>\n",
              "    .colab-df-container {\n",
              "      display:flex;\n",
              "      flex-wrap:wrap;\n",
              "      gap: 12px;\n",
              "    }\n",
              "\n",
              "    .colab-df-convert {\n",
              "      background-color: #E8F0FE;\n",
              "      border: none;\n",
              "      border-radius: 50%;\n",
              "      cursor: pointer;\n",
              "      display: none;\n",
              "      fill: #1967D2;\n",
              "      height: 32px;\n",
              "      padding: 0 0 0 0;\n",
              "      width: 32px;\n",
              "    }\n",
              "\n",
              "    .colab-df-convert:hover {\n",
              "      background-color: #E2EBFA;\n",
              "      box-shadow: 0px 1px 2px rgba(60, 64, 67, 0.3), 0px 1px 3px 1px rgba(60, 64, 67, 0.15);\n",
              "      fill: #174EA6;\n",
              "    }\n",
              "\n",
              "    [theme=dark] .colab-df-convert {\n",
              "      background-color: #3B4455;\n",
              "      fill: #D2E3FC;\n",
              "    }\n",
              "\n",
              "    [theme=dark] .colab-df-convert:hover {\n",
              "      background-color: #434B5C;\n",
              "      box-shadow: 0px 1px 3px 1px rgba(0, 0, 0, 0.15);\n",
              "      filter: drop-shadow(0px 1px 2px rgba(0, 0, 0, 0.3));\n",
              "      fill: #FFFFFF;\n",
              "    }\n",
              "  </style>\n",
              "\n",
              "      <script>\n",
              "        const buttonEl =\n",
              "          document.querySelector('#df-6e2f602d-8867-49c2-8f2e-4b01a33e6c56 button.colab-df-convert');\n",
              "        buttonEl.style.display =\n",
              "          google.colab.kernel.accessAllowed ? 'block' : 'none';\n",
              "\n",
              "        async function convertToInteractive(key) {\n",
              "          const element = document.querySelector('#df-6e2f602d-8867-49c2-8f2e-4b01a33e6c56');\n",
              "          const dataTable =\n",
              "            await google.colab.kernel.invokeFunction('convertToInteractive',\n",
              "                                                     [key], {});\n",
              "          if (!dataTable) return;\n",
              "\n",
              "          const docLinkHtml = 'Like what you see? Visit the ' +\n",
              "            '<a target=\"_blank\" href=https://colab.research.google.com/notebooks/data_table.ipynb>data table notebook</a>'\n",
              "            + ' to learn more about interactive tables.';\n",
              "          element.innerHTML = '';\n",
              "          dataTable['output_type'] = 'display_data';\n",
              "          await google.colab.output.renderOutput(dataTable, element);\n",
              "          const docLink = document.createElement('div');\n",
              "          docLink.innerHTML = docLinkHtml;\n",
              "          element.appendChild(docLink);\n",
              "        }\n",
              "      </script>\n",
              "    </div>\n",
              "  </div>\n",
              "  "
            ]
          },
          "metadata": {},
          "execution_count": 206
        }
      ]
    },
    {
      "cell_type": "code",
      "source": [
        "type(x)"
      ],
      "metadata": {
        "colab": {
          "base_uri": "https://localhost:8080/"
        },
        "id": "0-Vf3XzVnmUg",
        "outputId": "2132e40a-a1b9-4d00-d6b2-2d644f10fc7d"
      },
      "execution_count": 207,
      "outputs": [
        {
          "output_type": "execute_result",
          "data": {
            "text/plain": [
              "pandas.core.frame.DataFrame"
            ]
          },
          "metadata": {},
          "execution_count": 207
        }
      ]
    },
    {
      "cell_type": "code",
      "source": [
        "type(df)"
      ],
      "metadata": {
        "colab": {
          "base_uri": "https://localhost:8080/"
        },
        "id": "WztiFRfznqZh",
        "outputId": "a9c6d3c9-3961-42eb-9388-ca4b808cf446"
      },
      "execution_count": 208,
      "outputs": [
        {
          "output_type": "execute_result",
          "data": {
            "text/plain": [
              "pandas.core.frame.DataFrame"
            ]
          },
          "metadata": {},
          "execution_count": 208
        }
      ]
    },
    {
      "cell_type": "code",
      "source": [
        "from sklearn import preprocessing\n",
        "standardisation = preprocessing.StandardScaler()\n",
        "x = standardisation.fit_transform(x)"
      ],
      "metadata": {
        "id": "9E4aktD9ntbf"
      },
      "execution_count": 209,
      "outputs": []
    },
    {
      "cell_type": "code",
      "source": [
        "x=pd.DataFrame(x)"
      ],
      "metadata": {
        "id": "8kTwPHCTnzkC"
      },
      "execution_count": 210,
      "outputs": []
    },
    {
      "cell_type": "code",
      "source": [
        "x.describe()"
      ],
      "metadata": {
        "colab": {
          "base_uri": "https://localhost:8080/",
          "height": 480
        },
        "id": "m4j__cOxn1Vo",
        "outputId": "4f58f58a-9c1d-4439-b618-464a554cd895"
      },
      "execution_count": 211,
      "outputs": [
        {
          "output_type": "execute_result",
          "data": {
            "text/plain": [
              "                 0             1             2             3             4   \\\n",
              "count  5.391400e+04  5.391400e+04  5.391400e+04  5.391400e+04  5.391400e+04   \n",
              "mean   1.518242e-16 -5.128286e-15 -8.666634e-16 -7.169478e-16  2.994311e-16   \n",
              "std    1.000009e+00  1.000009e+00  1.000009e+00  1.000009e+00  1.000009e+00   \n",
              "min   -1.267993e+00 -6.471661e+00 -5.120588e+00 -5.160546e+00 -5.041535e+00   \n",
              "25%   -8.430192e-01 -6.520438e-01 -9.110618e-01 -9.106275e-01 -8.954164e-01   \n",
              "50%   -2.055586e-01 -2.043810e-01 -2.625693e-02 -1.922511e-02 -1.205096e-02   \n",
              "75%    5.168967e-01  6.909447e-01  7.244866e-01  7.281122e-01  7.003405e-01   \n",
              "max    4.915375e+00  1.680681e+01  3.155466e+00  3.168214e+00  4.026656e+01   \n",
              "\n",
              "                 5             6             7             8             9   \\\n",
              "count  5.391400e+04  5.391400e+04  5.391400e+04  5.391400e+04  5.391400e+04   \n",
              "mean   2.952138e-17 -5.956993e-17  7.222195e-17  2.952138e-17  4.639074e-17   \n",
              "std    1.000009e+00  1.000009e+00  1.000009e+00  1.000009e+00  1.000009e+00   \n",
              "min   -9.043953e-01 -3.162891e-01 -8.159414e-01 -5.859034e-01 -5.373929e-01   \n",
              "25%   -7.479496e-01 -3.162891e-01 -8.159414e-01 -5.859034e-01 -5.373929e-01   \n",
              "50%   -3.835793e-01 -3.162891e-01 -8.159414e-01 -5.859034e-01 -5.373929e-01   \n",
              "75%    3.493676e-01 -3.162891e-01  1.225578e+00  1.706766e+00 -5.373929e-01   \n",
              "max    3.740510e+00  3.161665e+00  1.225578e+00  1.706766e+00  1.860836e+00   \n",
              "\n",
              "       ...            15            16            17            18  \\\n",
              "count  ...  5.391400e+04  5.391400e+04  5.391400e+04  5.391400e+04   \n",
              "mean   ... -5.587976e-17 -4.111907e-17 -2.214104e-17  5.798843e-17   \n",
              "std    ...  1.000009e+00  1.000009e+00  1.000009e+00  1.000009e+00   \n",
              "min    ... -3.341091e-01 -2.340943e-01 -1.168319e-01 -1.853138e-01   \n",
              "25%    ... -3.341091e-01 -2.340943e-01 -1.168319e-01 -1.853138e-01   \n",
              "50%    ... -3.341091e-01 -2.340943e-01 -1.168319e-01 -1.853138e-01   \n",
              "75%    ... -3.341091e-01 -2.340943e-01 -1.168319e-01 -1.853138e-01   \n",
              "max    ...  2.993035e+00  4.271782e+00  8.559305e+00  5.396254e+00   \n",
              "\n",
              "                 19            20            21            22            23  \\\n",
              "count  5.391400e+04  5.391400e+04  5.391400e+04  5.391400e+04  5.391400e+04   \n",
              "mean   6.536877e-17  5.218958e-17 -7.591212e-17  5.482542e-17  9.594449e-17   \n",
              "std    1.000009e+00  1.000009e+00  1.000009e+00  1.000009e+00  1.000009e+00   \n",
              "min   -5.655409e-01 -4.531531e-01 -4.226141e-01 -5.424355e-01 -2.696726e-01   \n",
              "25%   -5.655409e-01 -4.531531e-01 -4.226141e-01 -5.424355e-01 -2.696726e-01   \n",
              "50%   -5.655409e-01 -4.531531e-01 -4.226141e-01 -5.424355e-01 -2.696726e-01   \n",
              "75%   -5.655409e-01 -4.531531e-01 -4.226141e-01 -5.424355e-01 -2.696726e-01   \n",
              "max    1.768219e+00  2.206760e+00  2.366225e+00  1.843537e+00  3.708201e+00   \n",
              "\n",
              "                 24  \n",
              "count  5.391400e+04  \n",
              "mean  -1.581503e-17  \n",
              "std    1.000009e+00  \n",
              "min   -3.220395e-01  \n",
              "25%   -3.220395e-01  \n",
              "50%   -3.220395e-01  \n",
              "75%   -3.220395e-01  \n",
              "max    3.105209e+00  \n",
              "\n",
              "[8 rows x 25 columns]"
            ],
            "text/html": [
              "\n",
              "  <div id=\"df-13d04712-fbd2-443e-a847-32c11c8d4be6\">\n",
              "    <div class=\"colab-df-container\">\n",
              "      <div>\n",
              "<style scoped>\n",
              "    .dataframe tbody tr th:only-of-type {\n",
              "        vertical-align: middle;\n",
              "    }\n",
              "\n",
              "    .dataframe tbody tr th {\n",
              "        vertical-align: top;\n",
              "    }\n",
              "\n",
              "    .dataframe thead th {\n",
              "        text-align: right;\n",
              "    }\n",
              "</style>\n",
              "<table border=\"1\" class=\"dataframe\">\n",
              "  <thead>\n",
              "    <tr style=\"text-align: right;\">\n",
              "      <th></th>\n",
              "      <th>0</th>\n",
              "      <th>1</th>\n",
              "      <th>2</th>\n",
              "      <th>3</th>\n",
              "      <th>4</th>\n",
              "      <th>5</th>\n",
              "      <th>6</th>\n",
              "      <th>7</th>\n",
              "      <th>8</th>\n",
              "      <th>9</th>\n",
              "      <th>...</th>\n",
              "      <th>15</th>\n",
              "      <th>16</th>\n",
              "      <th>17</th>\n",
              "      <th>18</th>\n",
              "      <th>19</th>\n",
              "      <th>20</th>\n",
              "      <th>21</th>\n",
              "      <th>22</th>\n",
              "      <th>23</th>\n",
              "      <th>24</th>\n",
              "    </tr>\n",
              "  </thead>\n",
              "  <tbody>\n",
              "    <tr>\n",
              "      <th>count</th>\n",
              "      <td>5.391400e+04</td>\n",
              "      <td>5.391400e+04</td>\n",
              "      <td>5.391400e+04</td>\n",
              "      <td>5.391400e+04</td>\n",
              "      <td>5.391400e+04</td>\n",
              "      <td>5.391400e+04</td>\n",
              "      <td>5.391400e+04</td>\n",
              "      <td>5.391400e+04</td>\n",
              "      <td>5.391400e+04</td>\n",
              "      <td>5.391400e+04</td>\n",
              "      <td>...</td>\n",
              "      <td>5.391400e+04</td>\n",
              "      <td>5.391400e+04</td>\n",
              "      <td>5.391400e+04</td>\n",
              "      <td>5.391400e+04</td>\n",
              "      <td>5.391400e+04</td>\n",
              "      <td>5.391400e+04</td>\n",
              "      <td>5.391400e+04</td>\n",
              "      <td>5.391400e+04</td>\n",
              "      <td>5.391400e+04</td>\n",
              "      <td>5.391400e+04</td>\n",
              "    </tr>\n",
              "    <tr>\n",
              "      <th>mean</th>\n",
              "      <td>1.518242e-16</td>\n",
              "      <td>-5.128286e-15</td>\n",
              "      <td>-8.666634e-16</td>\n",
              "      <td>-7.169478e-16</td>\n",
              "      <td>2.994311e-16</td>\n",
              "      <td>2.952138e-17</td>\n",
              "      <td>-5.956993e-17</td>\n",
              "      <td>7.222195e-17</td>\n",
              "      <td>2.952138e-17</td>\n",
              "      <td>4.639074e-17</td>\n",
              "      <td>...</td>\n",
              "      <td>-5.587976e-17</td>\n",
              "      <td>-4.111907e-17</td>\n",
              "      <td>-2.214104e-17</td>\n",
              "      <td>5.798843e-17</td>\n",
              "      <td>6.536877e-17</td>\n",
              "      <td>5.218958e-17</td>\n",
              "      <td>-7.591212e-17</td>\n",
              "      <td>5.482542e-17</td>\n",
              "      <td>9.594449e-17</td>\n",
              "      <td>-1.581503e-17</td>\n",
              "    </tr>\n",
              "    <tr>\n",
              "      <th>std</th>\n",
              "      <td>1.000009e+00</td>\n",
              "      <td>1.000009e+00</td>\n",
              "      <td>1.000009e+00</td>\n",
              "      <td>1.000009e+00</td>\n",
              "      <td>1.000009e+00</td>\n",
              "      <td>1.000009e+00</td>\n",
              "      <td>1.000009e+00</td>\n",
              "      <td>1.000009e+00</td>\n",
              "      <td>1.000009e+00</td>\n",
              "      <td>1.000009e+00</td>\n",
              "      <td>...</td>\n",
              "      <td>1.000009e+00</td>\n",
              "      <td>1.000009e+00</td>\n",
              "      <td>1.000009e+00</td>\n",
              "      <td>1.000009e+00</td>\n",
              "      <td>1.000009e+00</td>\n",
              "      <td>1.000009e+00</td>\n",
              "      <td>1.000009e+00</td>\n",
              "      <td>1.000009e+00</td>\n",
              "      <td>1.000009e+00</td>\n",
              "      <td>1.000009e+00</td>\n",
              "    </tr>\n",
              "    <tr>\n",
              "      <th>min</th>\n",
              "      <td>-1.267993e+00</td>\n",
              "      <td>-6.471661e+00</td>\n",
              "      <td>-5.120588e+00</td>\n",
              "      <td>-5.160546e+00</td>\n",
              "      <td>-5.041535e+00</td>\n",
              "      <td>-9.043953e-01</td>\n",
              "      <td>-3.162891e-01</td>\n",
              "      <td>-8.159414e-01</td>\n",
              "      <td>-5.859034e-01</td>\n",
              "      <td>-5.373929e-01</td>\n",
              "      <td>...</td>\n",
              "      <td>-3.341091e-01</td>\n",
              "      <td>-2.340943e-01</td>\n",
              "      <td>-1.168319e-01</td>\n",
              "      <td>-1.853138e-01</td>\n",
              "      <td>-5.655409e-01</td>\n",
              "      <td>-4.531531e-01</td>\n",
              "      <td>-4.226141e-01</td>\n",
              "      <td>-5.424355e-01</td>\n",
              "      <td>-2.696726e-01</td>\n",
              "      <td>-3.220395e-01</td>\n",
              "    </tr>\n",
              "    <tr>\n",
              "      <th>25%</th>\n",
              "      <td>-8.430192e-01</td>\n",
              "      <td>-6.520438e-01</td>\n",
              "      <td>-9.110618e-01</td>\n",
              "      <td>-9.106275e-01</td>\n",
              "      <td>-8.954164e-01</td>\n",
              "      <td>-7.479496e-01</td>\n",
              "      <td>-3.162891e-01</td>\n",
              "      <td>-8.159414e-01</td>\n",
              "      <td>-5.859034e-01</td>\n",
              "      <td>-5.373929e-01</td>\n",
              "      <td>...</td>\n",
              "      <td>-3.341091e-01</td>\n",
              "      <td>-2.340943e-01</td>\n",
              "      <td>-1.168319e-01</td>\n",
              "      <td>-1.853138e-01</td>\n",
              "      <td>-5.655409e-01</td>\n",
              "      <td>-4.531531e-01</td>\n",
              "      <td>-4.226141e-01</td>\n",
              "      <td>-5.424355e-01</td>\n",
              "      <td>-2.696726e-01</td>\n",
              "      <td>-3.220395e-01</td>\n",
              "    </tr>\n",
              "    <tr>\n",
              "      <th>50%</th>\n",
              "      <td>-2.055586e-01</td>\n",
              "      <td>-2.043810e-01</td>\n",
              "      <td>-2.625693e-02</td>\n",
              "      <td>-1.922511e-02</td>\n",
              "      <td>-1.205096e-02</td>\n",
              "      <td>-3.835793e-01</td>\n",
              "      <td>-3.162891e-01</td>\n",
              "      <td>-8.159414e-01</td>\n",
              "      <td>-5.859034e-01</td>\n",
              "      <td>-5.373929e-01</td>\n",
              "      <td>...</td>\n",
              "      <td>-3.341091e-01</td>\n",
              "      <td>-2.340943e-01</td>\n",
              "      <td>-1.168319e-01</td>\n",
              "      <td>-1.853138e-01</td>\n",
              "      <td>-5.655409e-01</td>\n",
              "      <td>-4.531531e-01</td>\n",
              "      <td>-4.226141e-01</td>\n",
              "      <td>-5.424355e-01</td>\n",
              "      <td>-2.696726e-01</td>\n",
              "      <td>-3.220395e-01</td>\n",
              "    </tr>\n",
              "    <tr>\n",
              "      <th>75%</th>\n",
              "      <td>5.168967e-01</td>\n",
              "      <td>6.909447e-01</td>\n",
              "      <td>7.244866e-01</td>\n",
              "      <td>7.281122e-01</td>\n",
              "      <td>7.003405e-01</td>\n",
              "      <td>3.493676e-01</td>\n",
              "      <td>-3.162891e-01</td>\n",
              "      <td>1.225578e+00</td>\n",
              "      <td>1.706766e+00</td>\n",
              "      <td>-5.373929e-01</td>\n",
              "      <td>...</td>\n",
              "      <td>-3.341091e-01</td>\n",
              "      <td>-2.340943e-01</td>\n",
              "      <td>-1.168319e-01</td>\n",
              "      <td>-1.853138e-01</td>\n",
              "      <td>-5.655409e-01</td>\n",
              "      <td>-4.531531e-01</td>\n",
              "      <td>-4.226141e-01</td>\n",
              "      <td>-5.424355e-01</td>\n",
              "      <td>-2.696726e-01</td>\n",
              "      <td>-3.220395e-01</td>\n",
              "    </tr>\n",
              "    <tr>\n",
              "      <th>max</th>\n",
              "      <td>4.915375e+00</td>\n",
              "      <td>1.680681e+01</td>\n",
              "      <td>3.155466e+00</td>\n",
              "      <td>3.168214e+00</td>\n",
              "      <td>4.026656e+01</td>\n",
              "      <td>3.740510e+00</td>\n",
              "      <td>3.161665e+00</td>\n",
              "      <td>1.225578e+00</td>\n",
              "      <td>1.706766e+00</td>\n",
              "      <td>1.860836e+00</td>\n",
              "      <td>...</td>\n",
              "      <td>2.993035e+00</td>\n",
              "      <td>4.271782e+00</td>\n",
              "      <td>8.559305e+00</td>\n",
              "      <td>5.396254e+00</td>\n",
              "      <td>1.768219e+00</td>\n",
              "      <td>2.206760e+00</td>\n",
              "      <td>2.366225e+00</td>\n",
              "      <td>1.843537e+00</td>\n",
              "      <td>3.708201e+00</td>\n",
              "      <td>3.105209e+00</td>\n",
              "    </tr>\n",
              "  </tbody>\n",
              "</table>\n",
              "<p>8 rows × 25 columns</p>\n",
              "</div>\n",
              "      <button class=\"colab-df-convert\" onclick=\"convertToInteractive('df-13d04712-fbd2-443e-a847-32c11c8d4be6')\"\n",
              "              title=\"Convert this dataframe to an interactive table.\"\n",
              "              style=\"display:none;\">\n",
              "        \n",
              "  <svg xmlns=\"http://www.w3.org/2000/svg\" height=\"24px\"viewBox=\"0 0 24 24\"\n",
              "       width=\"24px\">\n",
              "    <path d=\"M0 0h24v24H0V0z\" fill=\"none\"/>\n",
              "    <path d=\"M18.56 5.44l.94 2.06.94-2.06 2.06-.94-2.06-.94-.94-2.06-.94 2.06-2.06.94zm-11 1L8.5 8.5l.94-2.06 2.06-.94-2.06-.94L8.5 2.5l-.94 2.06-2.06.94zm10 10l.94 2.06.94-2.06 2.06-.94-2.06-.94-.94-2.06-.94 2.06-2.06.94z\"/><path d=\"M17.41 7.96l-1.37-1.37c-.4-.4-.92-.59-1.43-.59-.52 0-1.04.2-1.43.59L10.3 9.45l-7.72 7.72c-.78.78-.78 2.05 0 2.83L4 21.41c.39.39.9.59 1.41.59.51 0 1.02-.2 1.41-.59l7.78-7.78 2.81-2.81c.8-.78.8-2.07 0-2.86zM5.41 20L4 18.59l7.72-7.72 1.47 1.35L5.41 20z\"/>\n",
              "  </svg>\n",
              "      </button>\n",
              "      \n",
              "  <style>\n",
              "    .colab-df-container {\n",
              "      display:flex;\n",
              "      flex-wrap:wrap;\n",
              "      gap: 12px;\n",
              "    }\n",
              "\n",
              "    .colab-df-convert {\n",
              "      background-color: #E8F0FE;\n",
              "      border: none;\n",
              "      border-radius: 50%;\n",
              "      cursor: pointer;\n",
              "      display: none;\n",
              "      fill: #1967D2;\n",
              "      height: 32px;\n",
              "      padding: 0 0 0 0;\n",
              "      width: 32px;\n",
              "    }\n",
              "\n",
              "    .colab-df-convert:hover {\n",
              "      background-color: #E2EBFA;\n",
              "      box-shadow: 0px 1px 2px rgba(60, 64, 67, 0.3), 0px 1px 3px 1px rgba(60, 64, 67, 0.15);\n",
              "      fill: #174EA6;\n",
              "    }\n",
              "\n",
              "    [theme=dark] .colab-df-convert {\n",
              "      background-color: #3B4455;\n",
              "      fill: #D2E3FC;\n",
              "    }\n",
              "\n",
              "    [theme=dark] .colab-df-convert:hover {\n",
              "      background-color: #434B5C;\n",
              "      box-shadow: 0px 1px 3px 1px rgba(0, 0, 0, 0.15);\n",
              "      filter: drop-shadow(0px 1px 2px rgba(0, 0, 0, 0.3));\n",
              "      fill: #FFFFFF;\n",
              "    }\n",
              "  </style>\n",
              "\n",
              "      <script>\n",
              "        const buttonEl =\n",
              "          document.querySelector('#df-13d04712-fbd2-443e-a847-32c11c8d4be6 button.colab-df-convert');\n",
              "        buttonEl.style.display =\n",
              "          google.colab.kernel.accessAllowed ? 'block' : 'none';\n",
              "\n",
              "        async function convertToInteractive(key) {\n",
              "          const element = document.querySelector('#df-13d04712-fbd2-443e-a847-32c11c8d4be6');\n",
              "          const dataTable =\n",
              "            await google.colab.kernel.invokeFunction('convertToInteractive',\n",
              "                                                     [key], {});\n",
              "          if (!dataTable) return;\n",
              "\n",
              "          const docLinkHtml = 'Like what you see? Visit the ' +\n",
              "            '<a target=\"_blank\" href=https://colab.research.google.com/notebooks/data_table.ipynb>data table notebook</a>'\n",
              "            + ' to learn more about interactive tables.';\n",
              "          element.innerHTML = '';\n",
              "          dataTable['output_type'] = 'display_data';\n",
              "          await google.colab.output.renderOutput(dataTable, element);\n",
              "          const docLink = document.createElement('div');\n",
              "          docLink.innerHTML = docLinkHtml;\n",
              "          element.appendChild(docLink);\n",
              "        }\n",
              "      </script>\n",
              "    </div>\n",
              "  </div>\n",
              "  "
            ]
          },
          "metadata": {},
          "execution_count": 211
        }
      ]
    },
    {
      "cell_type": "code",
      "source": [
        "x_train, x_test, y_train, y_test = train_test_split(x,y,random_state=42, test_size=0.2)\n",
        "lr = linear_model.LinearRegression()\n",
        "model = lr.fit(x_train,y_train)\n",
        "predictions = model.predict(x_test)\n",
        "print('MSE is:',mean_squared_error(y_test,predictions))\n",
        "print('R sqaured value is:',r2_score(y_test,predictions))"
      ],
      "metadata": {
        "colab": {
          "base_uri": "https://localhost:8080/"
        },
        "id": "EHCb_Va6n5Oz",
        "outputId": "ade836a5-1a4b-4ee2-9034-b321f317e0bb"
      },
      "execution_count": 212,
      "outputs": [
        {
          "output_type": "stream",
          "name": "stdout",
          "text": [
            "MSE is: 1.2204899688891422e-30\n",
            "R sqaured value is: 1.0\n"
          ]
        }
      ]
    },
    {
      "cell_type": "code",
      "source": [
        "###   Min Max Scaling"
      ],
      "metadata": {
        "id": "fy_5rw5cn8ME"
      },
      "execution_count": null,
      "outputs": []
    },
    {
      "cell_type": "code",
      "source": [
        "x = df.drop('cut_Fair',axis =1)"
      ],
      "metadata": {
        "id": "UtrhTmVIoNEE"
      },
      "execution_count": 214,
      "outputs": []
    },
    {
      "cell_type": "code",
      "source": [
        "x.describe()"
      ],
      "metadata": {
        "colab": {
          "base_uri": "https://localhost:8080/",
          "height": 411
        },
        "id": "bHy68LPooPLx",
        "outputId": "49470452-f096-4312-fd8d-aa5acf1b2117"
      },
      "execution_count": 215,
      "outputs": [
        {
          "output_type": "execute_result",
          "data": {
            "text/plain": [
              "              carat         table             x             y             z  \\\n",
              "count  53914.000000  53914.000000  53914.000000  53914.000000  53914.000000   \n",
              "mean       0.796739     57.456551      5.729379      5.731352      3.538458   \n",
              "std        0.470622      2.233845      1.118901      1.110620      0.701868   \n",
              "min        0.200000     43.000000      0.000000      0.000000      0.000000   \n",
              "25%        0.400000     56.000000      4.710000      4.720000      2.910000   \n",
              "50%        0.700000     57.000000      5.700000      5.710000      3.530000   \n",
              "75%        1.040000     59.000000      6.540000      6.540000      4.030000   \n",
              "max        3.110000     95.000000      9.260000      9.250000     31.800000   \n",
              "\n",
              "          price_new      cut_Good     cut_Ideal   cut_Premium  cut_Very Good  \\\n",
              "count  53914.000000  53914.000000  53914.000000  53914.000000   53914.000000   \n",
              "mean    1963.747051      0.090941      0.399674      0.255555       0.224079   \n",
              "std     1991.124682      0.287528      0.489836      0.436177       0.416978   \n",
              "min      163.000000      0.000000      0.000000      0.000000       0.000000   \n",
              "25%      474.500000      0.000000      0.000000      0.000000       0.000000   \n",
              "50%     1200.000000      0.000000      0.000000      0.000000       0.000000   \n",
              "75%     2659.375000      0.000000      1.000000      1.000000       0.000000   \n",
              "max     9411.500000      1.000000      1.000000      1.000000       1.000000   \n",
              "\n",
              "       ...       color_I       color_J    clarity_I1    clarity_IF  \\\n",
              "count  ...  53914.000000  53914.000000  53914.000000  53914.000000   \n",
              "mean   ...      0.100419      0.051953      0.013466      0.033201   \n",
              "std    ...      0.300561      0.221934      0.115260      0.179163   \n",
              "min    ...      0.000000      0.000000      0.000000      0.000000   \n",
              "25%    ...      0.000000      0.000000      0.000000      0.000000   \n",
              "50%    ...      0.000000      0.000000      0.000000      0.000000   \n",
              "75%    ...      0.000000      0.000000      0.000000      0.000000   \n",
              "max    ...      1.000000      1.000000      1.000000      1.000000   \n",
              "\n",
              "        clarity_SI1   clarity_SI2   clarity_VS1   clarity_VS2  clarity_VVS1  \\\n",
              "count  53914.000000  53914.000000  53914.000000  53914.000000  53914.000000   \n",
              "mean       0.242330      0.170364      0.151538      0.227344      0.067793   \n",
              "std        0.428497      0.375956      0.358575      0.419120      0.251393   \n",
              "min        0.000000      0.000000      0.000000      0.000000      0.000000   \n",
              "25%        0.000000      0.000000      0.000000      0.000000      0.000000   \n",
              "50%        0.000000      0.000000      0.000000      0.000000      0.000000   \n",
              "75%        0.000000      0.000000      0.000000      0.000000      0.000000   \n",
              "max        1.000000      1.000000      1.000000      1.000000      1.000000   \n",
              "\n",
              "       clarity_VVS2  \n",
              "count  53914.000000  \n",
              "mean       0.093964  \n",
              "std        0.291782  \n",
              "min        0.000000  \n",
              "25%        0.000000  \n",
              "50%        0.000000  \n",
              "75%        0.000000  \n",
              "max        1.000000  \n",
              "\n",
              "[8 rows x 25 columns]"
            ],
            "text/html": [
              "\n",
              "  <div id=\"df-181239d0-0cf8-42ff-9cbd-857d96b74b80\">\n",
              "    <div class=\"colab-df-container\">\n",
              "      <div>\n",
              "<style scoped>\n",
              "    .dataframe tbody tr th:only-of-type {\n",
              "        vertical-align: middle;\n",
              "    }\n",
              "\n",
              "    .dataframe tbody tr th {\n",
              "        vertical-align: top;\n",
              "    }\n",
              "\n",
              "    .dataframe thead th {\n",
              "        text-align: right;\n",
              "    }\n",
              "</style>\n",
              "<table border=\"1\" class=\"dataframe\">\n",
              "  <thead>\n",
              "    <tr style=\"text-align: right;\">\n",
              "      <th></th>\n",
              "      <th>carat</th>\n",
              "      <th>table</th>\n",
              "      <th>x</th>\n",
              "      <th>y</th>\n",
              "      <th>z</th>\n",
              "      <th>price_new</th>\n",
              "      <th>cut_Good</th>\n",
              "      <th>cut_Ideal</th>\n",
              "      <th>cut_Premium</th>\n",
              "      <th>cut_Very Good</th>\n",
              "      <th>...</th>\n",
              "      <th>color_I</th>\n",
              "      <th>color_J</th>\n",
              "      <th>clarity_I1</th>\n",
              "      <th>clarity_IF</th>\n",
              "      <th>clarity_SI1</th>\n",
              "      <th>clarity_SI2</th>\n",
              "      <th>clarity_VS1</th>\n",
              "      <th>clarity_VS2</th>\n",
              "      <th>clarity_VVS1</th>\n",
              "      <th>clarity_VVS2</th>\n",
              "    </tr>\n",
              "  </thead>\n",
              "  <tbody>\n",
              "    <tr>\n",
              "      <th>count</th>\n",
              "      <td>53914.000000</td>\n",
              "      <td>53914.000000</td>\n",
              "      <td>53914.000000</td>\n",
              "      <td>53914.000000</td>\n",
              "      <td>53914.000000</td>\n",
              "      <td>53914.000000</td>\n",
              "      <td>53914.000000</td>\n",
              "      <td>53914.000000</td>\n",
              "      <td>53914.000000</td>\n",
              "      <td>53914.000000</td>\n",
              "      <td>...</td>\n",
              "      <td>53914.000000</td>\n",
              "      <td>53914.000000</td>\n",
              "      <td>53914.000000</td>\n",
              "      <td>53914.000000</td>\n",
              "      <td>53914.000000</td>\n",
              "      <td>53914.000000</td>\n",
              "      <td>53914.000000</td>\n",
              "      <td>53914.000000</td>\n",
              "      <td>53914.000000</td>\n",
              "      <td>53914.000000</td>\n",
              "    </tr>\n",
              "    <tr>\n",
              "      <th>mean</th>\n",
              "      <td>0.796739</td>\n",
              "      <td>57.456551</td>\n",
              "      <td>5.729379</td>\n",
              "      <td>5.731352</td>\n",
              "      <td>3.538458</td>\n",
              "      <td>1963.747051</td>\n",
              "      <td>0.090941</td>\n",
              "      <td>0.399674</td>\n",
              "      <td>0.255555</td>\n",
              "      <td>0.224079</td>\n",
              "      <td>...</td>\n",
              "      <td>0.100419</td>\n",
              "      <td>0.051953</td>\n",
              "      <td>0.013466</td>\n",
              "      <td>0.033201</td>\n",
              "      <td>0.242330</td>\n",
              "      <td>0.170364</td>\n",
              "      <td>0.151538</td>\n",
              "      <td>0.227344</td>\n",
              "      <td>0.067793</td>\n",
              "      <td>0.093964</td>\n",
              "    </tr>\n",
              "    <tr>\n",
              "      <th>std</th>\n",
              "      <td>0.470622</td>\n",
              "      <td>2.233845</td>\n",
              "      <td>1.118901</td>\n",
              "      <td>1.110620</td>\n",
              "      <td>0.701868</td>\n",
              "      <td>1991.124682</td>\n",
              "      <td>0.287528</td>\n",
              "      <td>0.489836</td>\n",
              "      <td>0.436177</td>\n",
              "      <td>0.416978</td>\n",
              "      <td>...</td>\n",
              "      <td>0.300561</td>\n",
              "      <td>0.221934</td>\n",
              "      <td>0.115260</td>\n",
              "      <td>0.179163</td>\n",
              "      <td>0.428497</td>\n",
              "      <td>0.375956</td>\n",
              "      <td>0.358575</td>\n",
              "      <td>0.419120</td>\n",
              "      <td>0.251393</td>\n",
              "      <td>0.291782</td>\n",
              "    </tr>\n",
              "    <tr>\n",
              "      <th>min</th>\n",
              "      <td>0.200000</td>\n",
              "      <td>43.000000</td>\n",
              "      <td>0.000000</td>\n",
              "      <td>0.000000</td>\n",
              "      <td>0.000000</td>\n",
              "      <td>163.000000</td>\n",
              "      <td>0.000000</td>\n",
              "      <td>0.000000</td>\n",
              "      <td>0.000000</td>\n",
              "      <td>0.000000</td>\n",
              "      <td>...</td>\n",
              "      <td>0.000000</td>\n",
              "      <td>0.000000</td>\n",
              "      <td>0.000000</td>\n",
              "      <td>0.000000</td>\n",
              "      <td>0.000000</td>\n",
              "      <td>0.000000</td>\n",
              "      <td>0.000000</td>\n",
              "      <td>0.000000</td>\n",
              "      <td>0.000000</td>\n",
              "      <td>0.000000</td>\n",
              "    </tr>\n",
              "    <tr>\n",
              "      <th>25%</th>\n",
              "      <td>0.400000</td>\n",
              "      <td>56.000000</td>\n",
              "      <td>4.710000</td>\n",
              "      <td>4.720000</td>\n",
              "      <td>2.910000</td>\n",
              "      <td>474.500000</td>\n",
              "      <td>0.000000</td>\n",
              "      <td>0.000000</td>\n",
              "      <td>0.000000</td>\n",
              "      <td>0.000000</td>\n",
              "      <td>...</td>\n",
              "      <td>0.000000</td>\n",
              "      <td>0.000000</td>\n",
              "      <td>0.000000</td>\n",
              "      <td>0.000000</td>\n",
              "      <td>0.000000</td>\n",
              "      <td>0.000000</td>\n",
              "      <td>0.000000</td>\n",
              "      <td>0.000000</td>\n",
              "      <td>0.000000</td>\n",
              "      <td>0.000000</td>\n",
              "    </tr>\n",
              "    <tr>\n",
              "      <th>50%</th>\n",
              "      <td>0.700000</td>\n",
              "      <td>57.000000</td>\n",
              "      <td>5.700000</td>\n",
              "      <td>5.710000</td>\n",
              "      <td>3.530000</td>\n",
              "      <td>1200.000000</td>\n",
              "      <td>0.000000</td>\n",
              "      <td>0.000000</td>\n",
              "      <td>0.000000</td>\n",
              "      <td>0.000000</td>\n",
              "      <td>...</td>\n",
              "      <td>0.000000</td>\n",
              "      <td>0.000000</td>\n",
              "      <td>0.000000</td>\n",
              "      <td>0.000000</td>\n",
              "      <td>0.000000</td>\n",
              "      <td>0.000000</td>\n",
              "      <td>0.000000</td>\n",
              "      <td>0.000000</td>\n",
              "      <td>0.000000</td>\n",
              "      <td>0.000000</td>\n",
              "    </tr>\n",
              "    <tr>\n",
              "      <th>75%</th>\n",
              "      <td>1.040000</td>\n",
              "      <td>59.000000</td>\n",
              "      <td>6.540000</td>\n",
              "      <td>6.540000</td>\n",
              "      <td>4.030000</td>\n",
              "      <td>2659.375000</td>\n",
              "      <td>0.000000</td>\n",
              "      <td>1.000000</td>\n",
              "      <td>1.000000</td>\n",
              "      <td>0.000000</td>\n",
              "      <td>...</td>\n",
              "      <td>0.000000</td>\n",
              "      <td>0.000000</td>\n",
              "      <td>0.000000</td>\n",
              "      <td>0.000000</td>\n",
              "      <td>0.000000</td>\n",
              "      <td>0.000000</td>\n",
              "      <td>0.000000</td>\n",
              "      <td>0.000000</td>\n",
              "      <td>0.000000</td>\n",
              "      <td>0.000000</td>\n",
              "    </tr>\n",
              "    <tr>\n",
              "      <th>max</th>\n",
              "      <td>3.110000</td>\n",
              "      <td>95.000000</td>\n",
              "      <td>9.260000</td>\n",
              "      <td>9.250000</td>\n",
              "      <td>31.800000</td>\n",
              "      <td>9411.500000</td>\n",
              "      <td>1.000000</td>\n",
              "      <td>1.000000</td>\n",
              "      <td>1.000000</td>\n",
              "      <td>1.000000</td>\n",
              "      <td>...</td>\n",
              "      <td>1.000000</td>\n",
              "      <td>1.000000</td>\n",
              "      <td>1.000000</td>\n",
              "      <td>1.000000</td>\n",
              "      <td>1.000000</td>\n",
              "      <td>1.000000</td>\n",
              "      <td>1.000000</td>\n",
              "      <td>1.000000</td>\n",
              "      <td>1.000000</td>\n",
              "      <td>1.000000</td>\n",
              "    </tr>\n",
              "  </tbody>\n",
              "</table>\n",
              "<p>8 rows × 25 columns</p>\n",
              "</div>\n",
              "      <button class=\"colab-df-convert\" onclick=\"convertToInteractive('df-181239d0-0cf8-42ff-9cbd-857d96b74b80')\"\n",
              "              title=\"Convert this dataframe to an interactive table.\"\n",
              "              style=\"display:none;\">\n",
              "        \n",
              "  <svg xmlns=\"http://www.w3.org/2000/svg\" height=\"24px\"viewBox=\"0 0 24 24\"\n",
              "       width=\"24px\">\n",
              "    <path d=\"M0 0h24v24H0V0z\" fill=\"none\"/>\n",
              "    <path d=\"M18.56 5.44l.94 2.06.94-2.06 2.06-.94-2.06-.94-.94-2.06-.94 2.06-2.06.94zm-11 1L8.5 8.5l.94-2.06 2.06-.94-2.06-.94L8.5 2.5l-.94 2.06-2.06.94zm10 10l.94 2.06.94-2.06 2.06-.94-2.06-.94-.94-2.06-.94 2.06-2.06.94z\"/><path d=\"M17.41 7.96l-1.37-1.37c-.4-.4-.92-.59-1.43-.59-.52 0-1.04.2-1.43.59L10.3 9.45l-7.72 7.72c-.78.78-.78 2.05 0 2.83L4 21.41c.39.39.9.59 1.41.59.51 0 1.02-.2 1.41-.59l7.78-7.78 2.81-2.81c.8-.78.8-2.07 0-2.86zM5.41 20L4 18.59l7.72-7.72 1.47 1.35L5.41 20z\"/>\n",
              "  </svg>\n",
              "      </button>\n",
              "      \n",
              "  <style>\n",
              "    .colab-df-container {\n",
              "      display:flex;\n",
              "      flex-wrap:wrap;\n",
              "      gap: 12px;\n",
              "    }\n",
              "\n",
              "    .colab-df-convert {\n",
              "      background-color: #E8F0FE;\n",
              "      border: none;\n",
              "      border-radius: 50%;\n",
              "      cursor: pointer;\n",
              "      display: none;\n",
              "      fill: #1967D2;\n",
              "      height: 32px;\n",
              "      padding: 0 0 0 0;\n",
              "      width: 32px;\n",
              "    }\n",
              "\n",
              "    .colab-df-convert:hover {\n",
              "      background-color: #E2EBFA;\n",
              "      box-shadow: 0px 1px 2px rgba(60, 64, 67, 0.3), 0px 1px 3px 1px rgba(60, 64, 67, 0.15);\n",
              "      fill: #174EA6;\n",
              "    }\n",
              "\n",
              "    [theme=dark] .colab-df-convert {\n",
              "      background-color: #3B4455;\n",
              "      fill: #D2E3FC;\n",
              "    }\n",
              "\n",
              "    [theme=dark] .colab-df-convert:hover {\n",
              "      background-color: #434B5C;\n",
              "      box-shadow: 0px 1px 3px 1px rgba(0, 0, 0, 0.15);\n",
              "      filter: drop-shadow(0px 1px 2px rgba(0, 0, 0, 0.3));\n",
              "      fill: #FFFFFF;\n",
              "    }\n",
              "  </style>\n",
              "\n",
              "      <script>\n",
              "        const buttonEl =\n",
              "          document.querySelector('#df-181239d0-0cf8-42ff-9cbd-857d96b74b80 button.colab-df-convert');\n",
              "        buttonEl.style.display =\n",
              "          google.colab.kernel.accessAllowed ? 'block' : 'none';\n",
              "\n",
              "        async function convertToInteractive(key) {\n",
              "          const element = document.querySelector('#df-181239d0-0cf8-42ff-9cbd-857d96b74b80');\n",
              "          const dataTable =\n",
              "            await google.colab.kernel.invokeFunction('convertToInteractive',\n",
              "                                                     [key], {});\n",
              "          if (!dataTable) return;\n",
              "\n",
              "          const docLinkHtml = 'Like what you see? Visit the ' +\n",
              "            '<a target=\"_blank\" href=https://colab.research.google.com/notebooks/data_table.ipynb>data table notebook</a>'\n",
              "            + ' to learn more about interactive tables.';\n",
              "          element.innerHTML = '';\n",
              "          dataTable['output_type'] = 'display_data';\n",
              "          await google.colab.output.renderOutput(dataTable, element);\n",
              "          const docLink = document.createElement('div');\n",
              "          docLink.innerHTML = docLinkHtml;\n",
              "          element.appendChild(docLink);\n",
              "        }\n",
              "      </script>\n",
              "    </div>\n",
              "  </div>\n",
              "  "
            ]
          },
          "metadata": {},
          "execution_count": 215
        }
      ]
    },
    {
      "cell_type": "code",
      "source": [
        "min_max = preprocessing.MinMaxScaler(feature_range=(0,1))"
      ],
      "metadata": {
        "id": "STpdAKYooUmQ"
      },
      "execution_count": 216,
      "outputs": []
    },
    {
      "cell_type": "code",
      "source": [
        "x = min_max.fit_transform(x)"
      ],
      "metadata": {
        "id": "l846YBkzoYnx"
      },
      "execution_count": 217,
      "outputs": []
    },
    {
      "cell_type": "code",
      "source": [
        "x = pd.DataFrame(x)"
      ],
      "metadata": {
        "id": "lStuNAA2oa74"
      },
      "execution_count": 218,
      "outputs": []
    },
    {
      "cell_type": "code",
      "source": [
        "x.describe()"
      ],
      "metadata": {
        "colab": {
          "base_uri": "https://localhost:8080/",
          "height": 393
        },
        "id": "yKVFxVPGodAY",
        "outputId": "d3281c9b-167d-4b12-ea4a-6754e62c1357"
      },
      "execution_count": 219,
      "outputs": [
        {
          "output_type": "execute_result",
          "data": {
            "text/plain": [
              "                 0             1             2             3             4   \\\n",
              "count  53914.000000  53914.000000  53914.000000  53914.000000  53914.000000   \n",
              "mean       0.205065      0.278011      0.618723      0.619606      0.111272   \n",
              "std        0.161726      0.042959      0.120832      0.120067      0.022071   \n",
              "min        0.000000      0.000000      0.000000      0.000000      0.000000   \n",
              "25%        0.068729      0.250000      0.508639      0.510270      0.091509   \n",
              "50%        0.171821      0.269231      0.615551      0.617297      0.111006   \n",
              "75%        0.288660      0.307692      0.706263      0.707027      0.126730   \n",
              "max        1.000000      1.000000      1.000000      1.000000      1.000000   \n",
              "\n",
              "                 5             6             7             8             9   \\\n",
              "count  53914.000000  53914.000000  53914.000000  53914.000000  53914.000000   \n",
              "mean       0.194707      0.090941      0.399674      0.255555      0.224079   \n",
              "std        0.215292      0.287528      0.489836      0.436177      0.416978   \n",
              "min        0.000000      0.000000      0.000000      0.000000      0.000000   \n",
              "25%        0.033681      0.000000      0.000000      0.000000      0.000000   \n",
              "50%        0.112126      0.000000      0.000000      0.000000      0.000000   \n",
              "75%        0.269922      0.000000      1.000000      1.000000      0.000000   \n",
              "max        1.000000      1.000000      1.000000      1.000000      1.000000   \n",
              "\n",
              "       ...            15            16            17            18  \\\n",
              "count  ...  53914.000000  53914.000000  53914.000000  53914.000000   \n",
              "mean   ...      0.100419      0.051953      0.013466      0.033201   \n",
              "std    ...      0.300561      0.221934      0.115260      0.179163   \n",
              "min    ...      0.000000      0.000000      0.000000      0.000000   \n",
              "25%    ...      0.000000      0.000000      0.000000      0.000000   \n",
              "50%    ...      0.000000      0.000000      0.000000      0.000000   \n",
              "75%    ...      0.000000      0.000000      0.000000      0.000000   \n",
              "max    ...      1.000000      1.000000      1.000000      1.000000   \n",
              "\n",
              "                 19            20            21            22            23  \\\n",
              "count  53914.000000  53914.000000  53914.000000  53914.000000  53914.000000   \n",
              "mean       0.242330      0.170364      0.151538      0.227344      0.067793   \n",
              "std        0.428497      0.375956      0.358575      0.419120      0.251393   \n",
              "min        0.000000      0.000000      0.000000      0.000000      0.000000   \n",
              "25%        0.000000      0.000000      0.000000      0.000000      0.000000   \n",
              "50%        0.000000      0.000000      0.000000      0.000000      0.000000   \n",
              "75%        0.000000      0.000000      0.000000      0.000000      0.000000   \n",
              "max        1.000000      1.000000      1.000000      1.000000      1.000000   \n",
              "\n",
              "                 24  \n",
              "count  53914.000000  \n",
              "mean       0.093964  \n",
              "std        0.291782  \n",
              "min        0.000000  \n",
              "25%        0.000000  \n",
              "50%        0.000000  \n",
              "75%        0.000000  \n",
              "max        1.000000  \n",
              "\n",
              "[8 rows x 25 columns]"
            ],
            "text/html": [
              "\n",
              "  <div id=\"df-420feca9-e46b-4c16-9e6d-7f0062c675fe\">\n",
              "    <div class=\"colab-df-container\">\n",
              "      <div>\n",
              "<style scoped>\n",
              "    .dataframe tbody tr th:only-of-type {\n",
              "        vertical-align: middle;\n",
              "    }\n",
              "\n",
              "    .dataframe tbody tr th {\n",
              "        vertical-align: top;\n",
              "    }\n",
              "\n",
              "    .dataframe thead th {\n",
              "        text-align: right;\n",
              "    }\n",
              "</style>\n",
              "<table border=\"1\" class=\"dataframe\">\n",
              "  <thead>\n",
              "    <tr style=\"text-align: right;\">\n",
              "      <th></th>\n",
              "      <th>0</th>\n",
              "      <th>1</th>\n",
              "      <th>2</th>\n",
              "      <th>3</th>\n",
              "      <th>4</th>\n",
              "      <th>5</th>\n",
              "      <th>6</th>\n",
              "      <th>7</th>\n",
              "      <th>8</th>\n",
              "      <th>9</th>\n",
              "      <th>...</th>\n",
              "      <th>15</th>\n",
              "      <th>16</th>\n",
              "      <th>17</th>\n",
              "      <th>18</th>\n",
              "      <th>19</th>\n",
              "      <th>20</th>\n",
              "      <th>21</th>\n",
              "      <th>22</th>\n",
              "      <th>23</th>\n",
              "      <th>24</th>\n",
              "    </tr>\n",
              "  </thead>\n",
              "  <tbody>\n",
              "    <tr>\n",
              "      <th>count</th>\n",
              "      <td>53914.000000</td>\n",
              "      <td>53914.000000</td>\n",
              "      <td>53914.000000</td>\n",
              "      <td>53914.000000</td>\n",
              "      <td>53914.000000</td>\n",
              "      <td>53914.000000</td>\n",
              "      <td>53914.000000</td>\n",
              "      <td>53914.000000</td>\n",
              "      <td>53914.000000</td>\n",
              "      <td>53914.000000</td>\n",
              "      <td>...</td>\n",
              "      <td>53914.000000</td>\n",
              "      <td>53914.000000</td>\n",
              "      <td>53914.000000</td>\n",
              "      <td>53914.000000</td>\n",
              "      <td>53914.000000</td>\n",
              "      <td>53914.000000</td>\n",
              "      <td>53914.000000</td>\n",
              "      <td>53914.000000</td>\n",
              "      <td>53914.000000</td>\n",
              "      <td>53914.000000</td>\n",
              "    </tr>\n",
              "    <tr>\n",
              "      <th>mean</th>\n",
              "      <td>0.205065</td>\n",
              "      <td>0.278011</td>\n",
              "      <td>0.618723</td>\n",
              "      <td>0.619606</td>\n",
              "      <td>0.111272</td>\n",
              "      <td>0.194707</td>\n",
              "      <td>0.090941</td>\n",
              "      <td>0.399674</td>\n",
              "      <td>0.255555</td>\n",
              "      <td>0.224079</td>\n",
              "      <td>...</td>\n",
              "      <td>0.100419</td>\n",
              "      <td>0.051953</td>\n",
              "      <td>0.013466</td>\n",
              "      <td>0.033201</td>\n",
              "      <td>0.242330</td>\n",
              "      <td>0.170364</td>\n",
              "      <td>0.151538</td>\n",
              "      <td>0.227344</td>\n",
              "      <td>0.067793</td>\n",
              "      <td>0.093964</td>\n",
              "    </tr>\n",
              "    <tr>\n",
              "      <th>std</th>\n",
              "      <td>0.161726</td>\n",
              "      <td>0.042959</td>\n",
              "      <td>0.120832</td>\n",
              "      <td>0.120067</td>\n",
              "      <td>0.022071</td>\n",
              "      <td>0.215292</td>\n",
              "      <td>0.287528</td>\n",
              "      <td>0.489836</td>\n",
              "      <td>0.436177</td>\n",
              "      <td>0.416978</td>\n",
              "      <td>...</td>\n",
              "      <td>0.300561</td>\n",
              "      <td>0.221934</td>\n",
              "      <td>0.115260</td>\n",
              "      <td>0.179163</td>\n",
              "      <td>0.428497</td>\n",
              "      <td>0.375956</td>\n",
              "      <td>0.358575</td>\n",
              "      <td>0.419120</td>\n",
              "      <td>0.251393</td>\n",
              "      <td>0.291782</td>\n",
              "    </tr>\n",
              "    <tr>\n",
              "      <th>min</th>\n",
              "      <td>0.000000</td>\n",
              "      <td>0.000000</td>\n",
              "      <td>0.000000</td>\n",
              "      <td>0.000000</td>\n",
              "      <td>0.000000</td>\n",
              "      <td>0.000000</td>\n",
              "      <td>0.000000</td>\n",
              "      <td>0.000000</td>\n",
              "      <td>0.000000</td>\n",
              "      <td>0.000000</td>\n",
              "      <td>...</td>\n",
              "      <td>0.000000</td>\n",
              "      <td>0.000000</td>\n",
              "      <td>0.000000</td>\n",
              "      <td>0.000000</td>\n",
              "      <td>0.000000</td>\n",
              "      <td>0.000000</td>\n",
              "      <td>0.000000</td>\n",
              "      <td>0.000000</td>\n",
              "      <td>0.000000</td>\n",
              "      <td>0.000000</td>\n",
              "    </tr>\n",
              "    <tr>\n",
              "      <th>25%</th>\n",
              "      <td>0.068729</td>\n",
              "      <td>0.250000</td>\n",
              "      <td>0.508639</td>\n",
              "      <td>0.510270</td>\n",
              "      <td>0.091509</td>\n",
              "      <td>0.033681</td>\n",
              "      <td>0.000000</td>\n",
              "      <td>0.000000</td>\n",
              "      <td>0.000000</td>\n",
              "      <td>0.000000</td>\n",
              "      <td>...</td>\n",
              "      <td>0.000000</td>\n",
              "      <td>0.000000</td>\n",
              "      <td>0.000000</td>\n",
              "      <td>0.000000</td>\n",
              "      <td>0.000000</td>\n",
              "      <td>0.000000</td>\n",
              "      <td>0.000000</td>\n",
              "      <td>0.000000</td>\n",
              "      <td>0.000000</td>\n",
              "      <td>0.000000</td>\n",
              "    </tr>\n",
              "    <tr>\n",
              "      <th>50%</th>\n",
              "      <td>0.171821</td>\n",
              "      <td>0.269231</td>\n",
              "      <td>0.615551</td>\n",
              "      <td>0.617297</td>\n",
              "      <td>0.111006</td>\n",
              "      <td>0.112126</td>\n",
              "      <td>0.000000</td>\n",
              "      <td>0.000000</td>\n",
              "      <td>0.000000</td>\n",
              "      <td>0.000000</td>\n",
              "      <td>...</td>\n",
              "      <td>0.000000</td>\n",
              "      <td>0.000000</td>\n",
              "      <td>0.000000</td>\n",
              "      <td>0.000000</td>\n",
              "      <td>0.000000</td>\n",
              "      <td>0.000000</td>\n",
              "      <td>0.000000</td>\n",
              "      <td>0.000000</td>\n",
              "      <td>0.000000</td>\n",
              "      <td>0.000000</td>\n",
              "    </tr>\n",
              "    <tr>\n",
              "      <th>75%</th>\n",
              "      <td>0.288660</td>\n",
              "      <td>0.307692</td>\n",
              "      <td>0.706263</td>\n",
              "      <td>0.707027</td>\n",
              "      <td>0.126730</td>\n",
              "      <td>0.269922</td>\n",
              "      <td>0.000000</td>\n",
              "      <td>1.000000</td>\n",
              "      <td>1.000000</td>\n",
              "      <td>0.000000</td>\n",
              "      <td>...</td>\n",
              "      <td>0.000000</td>\n",
              "      <td>0.000000</td>\n",
              "      <td>0.000000</td>\n",
              "      <td>0.000000</td>\n",
              "      <td>0.000000</td>\n",
              "      <td>0.000000</td>\n",
              "      <td>0.000000</td>\n",
              "      <td>0.000000</td>\n",
              "      <td>0.000000</td>\n",
              "      <td>0.000000</td>\n",
              "    </tr>\n",
              "    <tr>\n",
              "      <th>max</th>\n",
              "      <td>1.000000</td>\n",
              "      <td>1.000000</td>\n",
              "      <td>1.000000</td>\n",
              "      <td>1.000000</td>\n",
              "      <td>1.000000</td>\n",
              "      <td>1.000000</td>\n",
              "      <td>1.000000</td>\n",
              "      <td>1.000000</td>\n",
              "      <td>1.000000</td>\n",
              "      <td>1.000000</td>\n",
              "      <td>...</td>\n",
              "      <td>1.000000</td>\n",
              "      <td>1.000000</td>\n",
              "      <td>1.000000</td>\n",
              "      <td>1.000000</td>\n",
              "      <td>1.000000</td>\n",
              "      <td>1.000000</td>\n",
              "      <td>1.000000</td>\n",
              "      <td>1.000000</td>\n",
              "      <td>1.000000</td>\n",
              "      <td>1.000000</td>\n",
              "    </tr>\n",
              "  </tbody>\n",
              "</table>\n",
              "<p>8 rows × 25 columns</p>\n",
              "</div>\n",
              "      <button class=\"colab-df-convert\" onclick=\"convertToInteractive('df-420feca9-e46b-4c16-9e6d-7f0062c675fe')\"\n",
              "              title=\"Convert this dataframe to an interactive table.\"\n",
              "              style=\"display:none;\">\n",
              "        \n",
              "  <svg xmlns=\"http://www.w3.org/2000/svg\" height=\"24px\"viewBox=\"0 0 24 24\"\n",
              "       width=\"24px\">\n",
              "    <path d=\"M0 0h24v24H0V0z\" fill=\"none\"/>\n",
              "    <path d=\"M18.56 5.44l.94 2.06.94-2.06 2.06-.94-2.06-.94-.94-2.06-.94 2.06-2.06.94zm-11 1L8.5 8.5l.94-2.06 2.06-.94-2.06-.94L8.5 2.5l-.94 2.06-2.06.94zm10 10l.94 2.06.94-2.06 2.06-.94-2.06-.94-.94-2.06-.94 2.06-2.06.94z\"/><path d=\"M17.41 7.96l-1.37-1.37c-.4-.4-.92-.59-1.43-.59-.52 0-1.04.2-1.43.59L10.3 9.45l-7.72 7.72c-.78.78-.78 2.05 0 2.83L4 21.41c.39.39.9.59 1.41.59.51 0 1.02-.2 1.41-.59l7.78-7.78 2.81-2.81c.8-.78.8-2.07 0-2.86zM5.41 20L4 18.59l7.72-7.72 1.47 1.35L5.41 20z\"/>\n",
              "  </svg>\n",
              "      </button>\n",
              "      \n",
              "  <style>\n",
              "    .colab-df-container {\n",
              "      display:flex;\n",
              "      flex-wrap:wrap;\n",
              "      gap: 12px;\n",
              "    }\n",
              "\n",
              "    .colab-df-convert {\n",
              "      background-color: #E8F0FE;\n",
              "      border: none;\n",
              "      border-radius: 50%;\n",
              "      cursor: pointer;\n",
              "      display: none;\n",
              "      fill: #1967D2;\n",
              "      height: 32px;\n",
              "      padding: 0 0 0 0;\n",
              "      width: 32px;\n",
              "    }\n",
              "\n",
              "    .colab-df-convert:hover {\n",
              "      background-color: #E2EBFA;\n",
              "      box-shadow: 0px 1px 2px rgba(60, 64, 67, 0.3), 0px 1px 3px 1px rgba(60, 64, 67, 0.15);\n",
              "      fill: #174EA6;\n",
              "    }\n",
              "\n",
              "    [theme=dark] .colab-df-convert {\n",
              "      background-color: #3B4455;\n",
              "      fill: #D2E3FC;\n",
              "    }\n",
              "\n",
              "    [theme=dark] .colab-df-convert:hover {\n",
              "      background-color: #434B5C;\n",
              "      box-shadow: 0px 1px 3px 1px rgba(0, 0, 0, 0.15);\n",
              "      filter: drop-shadow(0px 1px 2px rgba(0, 0, 0, 0.3));\n",
              "      fill: #FFFFFF;\n",
              "    }\n",
              "  </style>\n",
              "\n",
              "      <script>\n",
              "        const buttonEl =\n",
              "          document.querySelector('#df-420feca9-e46b-4c16-9e6d-7f0062c675fe button.colab-df-convert');\n",
              "        buttonEl.style.display =\n",
              "          google.colab.kernel.accessAllowed ? 'block' : 'none';\n",
              "\n",
              "        async function convertToInteractive(key) {\n",
              "          const element = document.querySelector('#df-420feca9-e46b-4c16-9e6d-7f0062c675fe');\n",
              "          const dataTable =\n",
              "            await google.colab.kernel.invokeFunction('convertToInteractive',\n",
              "                                                     [key], {});\n",
              "          if (!dataTable) return;\n",
              "\n",
              "          const docLinkHtml = 'Like what you see? Visit the ' +\n",
              "            '<a target=\"_blank\" href=https://colab.research.google.com/notebooks/data_table.ipynb>data table notebook</a>'\n",
              "            + ' to learn more about interactive tables.';\n",
              "          element.innerHTML = '';\n",
              "          dataTable['output_type'] = 'display_data';\n",
              "          await google.colab.output.renderOutput(dataTable, element);\n",
              "          const docLink = document.createElement('div');\n",
              "          docLink.innerHTML = docLinkHtml;\n",
              "          element.appendChild(docLink);\n",
              "        }\n",
              "      </script>\n",
              "    </div>\n",
              "  </div>\n",
              "  "
            ]
          },
          "metadata": {},
          "execution_count": 219
        }
      ]
    },
    {
      "cell_type": "code",
      "source": [
        "x_train, x_test, y_train, y_test = train_test_split(x,y,random_state=42, test_size=0.2)\n",
        "lr = linear_model.LinearRegression()\n",
        "model = lr.fit(x_train,y_train)\n",
        "predictions = model.predict(x_test)\n",
        "print('MSE is:',mean_squared_error(y_test,predictions))\n",
        "print('R sqaured value is:',r2_score(y_test,predictions))\n"
      ],
      "metadata": {
        "colab": {
          "base_uri": "https://localhost:8080/"
        },
        "id": "lm9XsEcDofom",
        "outputId": "106cdf21-f79a-4009-94d2-edc0f1991474"
      },
      "execution_count": 220,
      "outputs": [
        {
          "output_type": "stream",
          "name": "stdout",
          "text": [
            "MSE is: 1.8869348193850865e-31\n",
            "R sqaured value is: 1.0\n"
          ]
        }
      ]
    },
    {
      "cell_type": "code",
      "source": [],
      "metadata": {
        "id": "CtRaJisOpm-y"
      },
      "execution_count": null,
      "outputs": []
    }
  ]
}
